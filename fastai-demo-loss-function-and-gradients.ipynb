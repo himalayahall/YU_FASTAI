{
 "cells": [
  {
   "cell_type": "code",
   "execution_count": 1,
   "id": "f02e58e8",
   "metadata": {
    "execution": {
     "iopub.execute_input": "2023-01-28T17:16:28.295978Z",
     "iopub.status.busy": "2023-01-28T17:16:28.295331Z",
     "iopub.status.idle": "2023-01-28T17:16:34.332984Z",
     "shell.execute_reply": "2023-01-28T17:16:34.331170Z"
    },
    "papermill": {
     "duration": 6.055159,
     "end_time": "2023-01-28T17:16:34.336537",
     "exception": false,
     "start_time": "2023-01-28T17:16:28.281378",
     "status": "completed"
    },
    "tags": []
   },
   "outputs": [],
   "source": [
    "from fastai.vision.all import *\n",
    "import pylab as plt\n",
    "\n",
    "random.seed(42)"
   ]
  },
  {
   "cell_type": "markdown",
   "id": "0e0dc0fd",
   "metadata": {
    "papermill": {
     "duration": 0.010257,
     "end_time": "2023-01-28T17:16:34.357383",
     "exception": false,
     "start_time": "2023-01-28T17:16:34.347126",
     "status": "completed"
    },
    "tags": []
   },
   "source": [
    "Let's begin by defining a function that will plot the output for any given quadratic function."
   ]
  },
  {
   "cell_type": "code",
   "execution_count": 2,
   "id": "ace4b61d",
   "metadata": {
    "execution": {
     "iopub.execute_input": "2023-01-28T17:16:34.381546Z",
     "iopub.status.busy": "2023-01-28T17:16:34.380808Z",
     "iopub.status.idle": "2023-01-28T17:16:34.388339Z",
     "shell.execute_reply": "2023-01-28T17:16:34.386755Z"
    },
    "papermill": {
     "duration": 0.023742,
     "end_time": "2023-01-28T17:16:34.391438",
     "exception": false,
     "start_time": "2023-01-28T17:16:34.367696",
     "status": "completed"
    },
    "tags": []
   },
   "outputs": [],
   "source": [
    "def plot_function(f, tx=None, ty=None, title=None, min=-2, max=2, figsize=(6,4)):\n",
    "    x = torch.linspace(min,max,steps=20)\n",
    "    fig,ax = plt.subplots(figsize=figsize)\n",
    "    ax.plot(x, f(x))\n",
    "    if tx is not None: ax.set_xlabel(tx)\n",
    "    if ty is not None: ax.set_ylabel(ty)\n",
    "    if title is not None: ax.set_title(title)"
   ]
  },
  {
   "cell_type": "markdown",
   "id": "c36cb064",
   "metadata": {
    "papermill": {
     "duration": 0.010798,
     "end_time": "2023-01-28T17:16:34.412822",
     "exception": false,
     "start_time": "2023-01-28T17:16:34.402024",
     "status": "completed"
    },
    "tags": []
   },
   "source": [
    "One can think of any NN as a function that maps a set of inputs to another set of outputs. We would like train the NN to map the inputs to the outputs in such a way that the `loss` is minimized. Fitting the model to the data and minimizing the loss is the essence of machine learning.\n",
    "\n",
    "So what is this function? That depends on the problem we are trying to solve, but to understand a few key concepts, we will look at a simple regression problem and use a quadratic function as the 'model'.\n",
    "\n",
    "Let's start by defining the quadratic function $3x^2 + 2x + 1$. "
   ]
  },
  {
   "cell_type": "code",
   "execution_count": 3,
   "id": "7def2071",
   "metadata": {
    "execution": {
     "iopub.execute_input": "2023-01-28T17:16:34.436901Z",
     "iopub.status.busy": "2023-01-28T17:16:34.436266Z",
     "iopub.status.idle": "2023-01-28T17:16:34.443097Z",
     "shell.execute_reply": "2023-01-28T17:16:34.441645Z"
    },
    "papermill": {
     "duration": 0.021801,
     "end_time": "2023-01-28T17:16:34.446104",
     "exception": false,
     "start_time": "2023-01-28T17:16:34.424303",
     "status": "completed"
    },
    "tags": []
   },
   "outputs": [],
   "source": [
    "def quad(x): return 3 * x**2 + 2 * x + 1"
   ]
  },
  {
   "cell_type": "markdown",
   "id": "4113fc19",
   "metadata": {
    "papermill": {
     "duration": 0.009754,
     "end_time": "2023-01-28T17:16:34.466213",
     "exception": false,
     "start_time": "2023-01-28T17:16:34.456459",
     "status": "completed"
    },
    "tags": []
   },
   "source": [
    "Let's generate a plot of our quadratic function."
   ]
  },
  {
   "cell_type": "code",
   "execution_count": 4,
   "id": "a4cbf2d1",
   "metadata": {
    "execution": {
     "iopub.execute_input": "2023-01-28T17:16:34.489129Z",
     "iopub.status.busy": "2023-01-28T17:16:34.488319Z",
     "iopub.status.idle": "2023-01-28T17:16:34.985471Z",
     "shell.execute_reply": "2023-01-28T17:16:34.984217Z"
    },
    "papermill": {
     "duration": 0.512364,
     "end_time": "2023-01-28T17:16:34.988772",
     "exception": false,
     "start_time": "2023-01-28T17:16:34.476408",
     "status": "completed"
    },
    "tags": []
   },
   "outputs": [
    {
     "data": {
      "image/png": "[encoded data removed]",
      "text/plain": [
       "<Figure size 432x288 with 1 Axes>"
      ]
     },
     "metadata": {
      "needs_background": "light"
     },
     "output_type": "display_data"
    }
   ],
   "source": [
    "plot_function(quad, '$3x^2 + 2x + 1$')"
   ]
  },
  {
   "cell_type": "markdown",
   "id": "57f326fd",
   "metadata": {
    "papermill": {
     "duration": 0.010477,
     "end_time": "2023-01-28T17:16:35.010171",
     "exception": false,
     "start_time": "2023-01-28T17:16:34.999694",
     "status": "completed"
    },
    "tags": []
   },
   "source": [
    "To make it easy to look at different functions let's define a generalized quadratic function."
   ]
  },
  {
   "cell_type": "code",
   "execution_count": 5,
   "id": "7dd41846",
   "metadata": {
    "execution": {
     "iopub.execute_input": "2023-01-28T17:16:35.033389Z",
     "iopub.status.busy": "2023-01-28T17:16:35.032884Z",
     "iopub.status.idle": "2023-01-28T17:16:35.039727Z",
     "shell.execute_reply": "2023-01-28T17:16:35.038322Z"
    },
    "papermill": {
     "duration": 0.0217,
     "end_time": "2023-01-28T17:16:35.042680",
     "exception": false,
     "start_time": "2023-01-28T17:16:35.020980",
     "status": "completed"
    },
    "tags": []
   },
   "outputs": [],
   "source": [
    "def quad(a, b, c, x): return a * x**2 + b * x + c"
   ]
  },
  {
   "cell_type": "markdown",
   "id": "4ccd8424",
   "metadata": {
    "papermill": {
     "duration": 0.010877,
     "end_time": "2023-01-28T17:16:35.065574",
     "exception": false,
     "start_time": "2023-01-28T17:16:35.054697",
     "status": "completed"
    },
    "tags": []
   },
   "source": [
    "Let's also define a factory for creating quadratic functions. Factory functions are a broadly used concept in software engineering that hide complexity and provide many other potential benefits. \n",
    "\n",
    "We use the `partial` function to 'fix' the values of a, b, and coefficients. Note - a `lambda` would work just as well but `partial` is more flexible and powerful."
   ]
  },
  {
   "cell_type": "code",
   "execution_count": 6,
   "id": "0863eaa3",
   "metadata": {
    "execution": {
     "iopub.execute_input": "2023-01-28T17:16:35.090144Z",
     "iopub.status.busy": "2023-01-28T17:16:35.089382Z",
     "iopub.status.idle": "2023-01-28T17:16:35.095633Z",
     "shell.execute_reply": "2023-01-28T17:16:35.094648Z"
    },
    "papermill": {
     "duration": 0.021925,
     "end_time": "2023-01-28T17:16:35.098192",
     "exception": false,
     "start_time": "2023-01-28T17:16:35.076267",
     "status": "completed"
    },
    "tags": []
   },
   "outputs": [],
   "source": [
    "from functools import partial\n",
    "def make_quad(a, b, c) : return partial(quad, a, b, c)"
   ]
  },
  {
   "cell_type": "markdown",
   "id": "6aeaa585",
   "metadata": {
    "papermill": {
     "duration": 0.011263,
     "end_time": "2023-01-28T17:16:35.121241",
     "exception": false,
     "start_time": "2023-01-28T17:16:35.109978",
     "status": "completed"
    },
    "tags": []
   },
   "source": [
    "Now we use the factory to re-create our quadratic"
   ]
  },
  {
   "cell_type": "code",
   "execution_count": 7,
   "id": "2da7cc96",
   "metadata": {
    "execution": {
     "iopub.execute_input": "2023-01-28T17:16:35.144028Z",
     "iopub.status.busy": "2023-01-28T17:16:35.143291Z",
     "iopub.status.idle": "2023-01-28T17:16:35.147873Z",
     "shell.execute_reply": "2023-01-28T17:16:35.147003Z"
    },
    "papermill": {
     "duration": 0.019371,
     "end_time": "2023-01-28T17:16:35.150623",
     "exception": false,
     "start_time": "2023-01-28T17:16:35.131252",
     "status": "completed"
    },
    "tags": []
   },
   "outputs": [],
   "source": [
    "f = make_quad(3, 2, 1)"
   ]
  },
  {
   "cell_type": "markdown",
   "id": "94f91de2",
   "metadata": {
    "papermill": {
     "duration": 0.010674,
     "end_time": "2023-01-28T17:16:35.171774",
     "exception": false,
     "start_time": "2023-01-28T17:16:35.161100",
     "status": "completed"
    },
    "tags": []
   },
   "source": [
    "Short sidebar on `partial` functions:\n",
    "\n",
    "Partial functions are used to derive a specialized function with fewer parameters from the original function by setting constant values to a certain number of arguments. Python Partial functions make code more reusable without altering the original function."
   ]
  },
  {
   "cell_type": "code",
   "execution_count": 8,
   "id": "b7ac972c",
   "metadata": {
    "execution": {
     "iopub.execute_input": "2023-01-28T17:16:35.196166Z",
     "iopub.status.busy": "2023-01-28T17:16:35.195478Z",
     "iopub.status.idle": "2023-01-28T17:16:35.201377Z",
     "shell.execute_reply": "2023-01-28T17:16:35.200524Z"
    },
    "papermill": {
     "duration": 0.021535,
     "end_time": "2023-01-28T17:16:35.203876",
     "exception": false,
     "start_time": "2023-01-28T17:16:35.182341",
     "status": "completed"
    },
    "tags": []
   },
   "outputs": [
    {
     "data": {
      "text/plain": [
       "functools.partial(<function quad at 0x7fb0c15d60e0>, 3, 2, 1)"
      ]
     },
     "execution_count": 8,
     "metadata": {},
     "output_type": "execute_result"
    }
   ],
   "source": [
    "f"
   ]
  },
  {
   "cell_type": "markdown",
   "id": "66727a08",
   "metadata": {
    "papermill": {
     "duration": 0.010536,
     "end_time": "2023-01-28T17:16:35.226164",
     "exception": false,
     "start_time": "2023-01-28T17:16:35.215628",
     "status": "completed"
    },
    "tags": []
   },
   "source": [
    "Unlike `lambda`, `partial` functions can be examined for inner details."
   ]
  },
  {
   "cell_type": "code",
   "execution_count": 9,
   "id": "87cdaa33",
   "metadata": {
    "execution": {
     "iopub.execute_input": "2023-01-28T17:16:35.253376Z",
     "iopub.status.busy": "2023-01-28T17:16:35.252490Z",
     "iopub.status.idle": "2023-01-28T17:16:35.259362Z",
     "shell.execute_reply": "2023-01-28T17:16:35.258196Z"
    },
    "papermill": {
     "duration": 0.023772,
     "end_time": "2023-01-28T17:16:35.261929",
     "exception": false,
     "start_time": "2023-01-28T17:16:35.238157",
     "status": "completed"
    },
    "tags": []
   },
   "outputs": [
    {
     "data": {
      "text/plain": [
       "(3, 2, 1)"
      ]
     },
     "execution_count": 9,
     "metadata": {},
     "output_type": "execute_result"
    }
   ],
   "source": [
    "f.args"
   ]
  },
  {
   "cell_type": "code",
   "execution_count": 10,
   "id": "88709cbf",
   "metadata": {
    "execution": {
     "iopub.execute_input": "2023-01-28T17:16:35.287354Z",
     "iopub.status.busy": "2023-01-28T17:16:35.286841Z",
     "iopub.status.idle": "2023-01-28T17:16:35.294418Z",
     "shell.execute_reply": "2023-01-28T17:16:35.293157Z"
    },
    "papermill": {
     "duration": 0.023102,
     "end_time": "2023-01-28T17:16:35.297156",
     "exception": false,
     "start_time": "2023-01-28T17:16:35.274054",
     "status": "completed"
    },
    "tags": []
   },
   "outputs": [
    {
     "data": {
      "text/plain": [
       "<function __main__.quad(a, b, c, x)>"
      ]
     },
     "execution_count": 10,
     "metadata": {},
     "output_type": "execute_result"
    }
   ],
   "source": [
    "f.func"
   ]
  },
  {
   "cell_type": "markdown",
   "id": "d262ffbf",
   "metadata": {
    "papermill": {
     "duration": 0.010404,
     "end_time": "2023-01-28T17:16:35.318766",
     "exception": false,
     "start_time": "2023-01-28T17:16:35.308362",
     "status": "completed"
    },
    "tags": []
   },
   "source": [
    "Let's generate some random normally distributed data. We will use out quadratic functiomn to 'fit' this data."
   ]
  },
  {
   "cell_type": "code",
   "execution_count": 11,
   "id": "610405ed",
   "metadata": {
    "execution": {
     "iopub.execute_input": "2023-01-28T17:16:35.345737Z",
     "iopub.status.busy": "2023-01-28T17:16:35.343887Z",
     "iopub.status.idle": "2023-01-28T17:16:35.352955Z",
     "shell.execute_reply": "2023-01-28T17:16:35.351158Z"
    },
    "papermill": {
     "duration": 0.024551,
     "end_time": "2023-01-28T17:16:35.355704",
     "exception": false,
     "start_time": "2023-01-28T17:16:35.331153",
     "status": "completed"
    },
    "tags": []
   },
   "outputs": [],
   "source": [
    "from numpy.random import normal, seed, uniform\n",
    "def noise(x, scale) : return normal(scale = scale, size = x.shape)\n",
    "def add_noise(x, mult, add): return x + (1 + noise(x, mult)) + noise(x, add)"
   ]
  },
  {
   "cell_type": "code",
   "execution_count": 12,
   "id": "933571af",
   "metadata": {
    "execution": {
     "iopub.execute_input": "2023-01-28T17:16:35.380949Z",
     "iopub.status.busy": "2023-01-28T17:16:35.380233Z",
     "iopub.status.idle": "2023-01-28T17:16:35.650330Z",
     "shell.execute_reply": "2023-01-28T17:16:35.648983Z"
    },
    "papermill": {
     "duration": 0.286341,
     "end_time": "2023-01-28T17:16:35.653097",
     "exception": false,
     "start_time": "2023-01-28T17:16:35.366756",
     "status": "completed"
    },
    "tags": []
   },
   "outputs": [
    {
     "data": {
      "text/plain": [
       "<matplotlib.collections.PathCollection at 0x7fb0c1600a10>"
      ]
     },
     "execution_count": 12,
     "metadata": {},
     "output_type": "execute_result"
    },
    {
     "data": {
      "image/png": "[encoded data removed]",
      "text/plain": [
       "<Figure size 432x288 with 1 Axes>"
      ]
     },
     "metadata": {
      "needs_background": "light"
     },
     "output_type": "display_data"
    }
   ],
   "source": [
    "x = torch.linspace(-2, 2, steps=20)[:,None]\n",
    "y = add_noise(f(x), 0.3, 1.5)\n",
    "plt.scatter(x, y)"
   ]
  },
  {
   "cell_type": "markdown",
   "id": "2f2034c7",
   "metadata": {
    "papermill": {
     "duration": 0.010491,
     "end_time": "2023-01-28T17:16:35.674126",
     "exception": false,
     "start_time": "2023-01-28T17:16:35.663635",
     "status": "completed"
    },
    "tags": []
   },
   "source": [
    "To see how well our quadratic function fits the data, and to try out different variations of the quad coefficients, let's create an interactive function to plot the data together with the output of the quad function. \n",
    "\n",
    "We can then vary the quad coefficients to try better to get a better fit."
   ]
  },
  {
   "cell_type": "code",
   "execution_count": 13,
   "id": "918f4824",
   "metadata": {
    "execution": {
     "iopub.execute_input": "2023-01-28T17:16:35.697269Z",
     "iopub.status.busy": "2023-01-28T17:16:35.696852Z",
     "iopub.status.idle": "2023-01-28T17:16:35.702323Z",
     "shell.execute_reply": "2023-01-28T17:16:35.701206Z"
    },
    "papermill": {
     "duration": 0.019528,
     "end_time": "2023-01-28T17:16:35.704674",
     "exception": false,
     "start_time": "2023-01-28T17:16:35.685146",
     "status": "completed"
    },
    "tags": []
   },
   "outputs": [],
   "source": [
    "from ipywidgets import interact"
   ]
  },
  {
   "cell_type": "code",
   "execution_count": 14,
   "id": "73991629",
   "metadata": {
    "execution": {
     "iopub.execute_input": "2023-01-28T17:16:35.729493Z",
     "iopub.status.busy": "2023-01-28T17:16:35.729071Z",
     "iopub.status.idle": "2023-01-28T17:16:36.014667Z",
     "shell.execute_reply": "2023-01-28T17:16:36.013204Z"
    },
    "papermill": {
     "duration": 0.301693,
     "end_time": "2023-01-28T17:16:36.017987",
     "exception": false,
     "start_time": "2023-01-28T17:16:35.716294",
     "status": "completed"
    },
    "tags": []
   },
   "outputs": [
    {
     "data": {
      "application/vnd.jupyter.widget-view+json": {
       "model_id": "ff88730ffe9b4cfb9b1e911efb99628b",
       "version_major": 2,
       "version_minor": 0
      },
      "text/plain": [
       "interactive(children=(FloatSlider(value=1.5, description='a', max=4.5, min=-1.5), FloatSlider(value=1.5, descr…"
      ]
     },
     "metadata": {},
     "output_type": "display_data"
    }
   ],
   "source": [
    "@interact(a = 1.5, b = 1.5, c = 1.5)\n",
    "def plot_quad(a, b, c):\n",
    "    plot_function(make_quad(a, b, c))\n",
    "    plt.scatter(x, y)"
   ]
  },
  {
   "cell_type": "markdown",
   "id": "74a55e24",
   "metadata": {
    "papermill": {
     "duration": 0.012801,
     "end_time": "2023-01-28T17:16:36.044032",
     "exception": false,
     "start_time": "2023-01-28T17:16:36.031231",
     "status": "completed"
    },
    "tags": []
   },
   "source": [
    "Playing with the interactive widget was fun but judging whether a particular combination of coefficients is better than previous combinations was very subjective. \n",
    "\n",
    "Let's correct that by creating a `loss` function. The function will take the predictions ($\\hat y$) and actual observations ($y$) and calculate the Mean Square Error (MSE)"
   ]
  },
  {
   "cell_type": "code",
   "execution_count": 15,
   "id": "44f73ac3",
   "metadata": {
    "execution": {
     "iopub.execute_input": "2023-01-28T17:16:36.070903Z",
     "iopub.status.busy": "2023-01-28T17:16:36.070051Z",
     "iopub.status.idle": "2023-01-28T17:16:36.077120Z",
     "shell.execute_reply": "2023-01-28T17:16:36.075550Z"
    },
    "papermill": {
     "duration": 0.023766,
     "end_time": "2023-01-28T17:16:36.079579",
     "exception": false,
     "start_time": "2023-01-28T17:16:36.055813",
     "status": "completed"
    },
    "tags": []
   },
   "outputs": [],
   "source": [
    "def mse(pred, actual) : return ((pred - actual) ** 2).mean()"
   ]
  },
  {
   "cell_type": "markdown",
   "id": "1d5c9079",
   "metadata": {
    "papermill": {
     "duration": 0.010863,
     "end_time": "2023-01-28T17:16:36.102330",
     "exception": false,
     "start_time": "2023-01-28T17:16:36.091467",
     "status": "completed"
    },
    "tags": []
   },
   "source": [
    "Next, we update our interactive function to add MSE to the plot so we can easily tell whether the new coefficient setting is improved and degraded the model."
   ]
  },
  {
   "cell_type": "code",
   "execution_count": 16,
   "id": "840fb934",
   "metadata": {
    "execution": {
     "iopub.execute_input": "2023-01-28T17:16:36.128249Z",
     "iopub.status.busy": "2023-01-28T17:16:36.127720Z",
     "iopub.status.idle": "2023-01-28T17:16:36.434410Z",
     "shell.execute_reply": "2023-01-28T17:16:36.433151Z"
    },
    "papermill": {
     "duration": 0.324145,
     "end_time": "2023-01-28T17:16:36.437788",
     "exception": false,
     "start_time": "2023-01-28T17:16:36.113643",
     "status": "completed"
    },
    "tags": []
   },
   "outputs": [
    {
     "data": {
      "application/vnd.jupyter.widget-view+json": {
       "model_id": "60461b49f6fd4d9bb02c78632b910583",
       "version_major": 2,
       "version_minor": 0
      },
      "text/plain": [
       "interactive(children=(FloatSlider(value=1.5, description='a', max=4.5, min=-1.5), FloatSlider(value=1.5, descr…"
      ]
     },
     "metadata": {},
     "output_type": "display_data"
    }
   ],
   "source": [
    "@interact(a = 1.5, b = 1.5, c = 1.5)\n",
    "def plot_quad(a, b, c):\n",
    "    f = make_quad(a, b, c)\n",
    "    loss = mse(f(x), y)\n",
    "    title = \"MSE: \" + str(loss)\n",
    "    plot_function(f, title=f'MSE: {loss:.2f}')\n",
    "    plt.scatter(x, y)"
   ]
  },
  {
   "cell_type": "markdown",
   "id": "24e4a7ef",
   "metadata": {
    "papermill": {
     "duration": 0.010617,
     "end_time": "2023-01-28T17:16:36.462208",
     "exception": false,
     "start_time": "2023-01-28T17:16:36.451591",
     "status": "completed"
    },
    "tags": []
   },
   "source": [
    "Cool! That was better but it would be great if finding the best combination of coefficients - i.e. smallest MSE - could be automated. After all, that is our key objective.\n",
    "\n",
    "Let's wrap the creating of the loss function and calculation of the MSE into a single function `quad_mse`"
   ]
  },
  {
   "cell_type": "code",
   "execution_count": 17,
   "id": "eb602b3c",
   "metadata": {
    "execution": {
     "iopub.execute_input": "2023-01-28T17:16:36.487406Z",
     "iopub.status.busy": "2023-01-28T17:16:36.486721Z",
     "iopub.status.idle": "2023-01-28T17:16:36.494566Z",
     "shell.execute_reply": "2023-01-28T17:16:36.492892Z"
    },
    "papermill": {
     "duration": 0.024483,
     "end_time": "2023-01-28T17:16:36.497726",
     "exception": false,
     "start_time": "2023-01-28T17:16:36.473243",
     "status": "completed"
    },
    "tags": []
   },
   "outputs": [],
   "source": [
    "def quad_mse(params):\n",
    "    f = make_quad(*params)\n",
    "    return mse(f(x), y)"
   ]
  },
  {
   "cell_type": "markdown",
   "id": "289965a2",
   "metadata": {
    "papermill": {
     "duration": 0.013485,
     "end_time": "2023-01-28T17:16:36.523140",
     "exception": false,
     "start_time": "2023-01-28T17:16:36.509655",
     "status": "completed"
    },
    "tags": []
   },
   "source": [
    "For sanity check, let's compute MSE using the `quad_mse` our default coefficient settings `[1.5, 1.5, 1.5]`."
   ]
  },
  {
   "cell_type": "code",
   "execution_count": 18,
   "id": "59612e51",
   "metadata": {
    "execution": {
     "iopub.execute_input": "2023-01-28T17:16:36.550538Z",
     "iopub.status.busy": "2023-01-28T17:16:36.550017Z",
     "iopub.status.idle": "2023-01-28T17:16:36.560132Z",
     "shell.execute_reply": "2023-01-28T17:16:36.558779Z"
    },
    "papermill": {
     "duration": 0.028106,
     "end_time": "2023-01-28T17:16:36.563670",
     "exception": false,
     "start_time": "2023-01-28T17:16:36.535564",
     "status": "completed"
    },
    "tags": []
   },
   "outputs": [
    {
     "data": {
      "text/plain": [
       "tensor(9.7610, dtype=torch.float64)"
      ]
     },
     "execution_count": 18,
     "metadata": {},
     "output_type": "execute_result"
    }
   ],
   "source": [
    "quad_mse([1.5, 1.5, 1.5])"
   ]
  },
  {
   "cell_type": "markdown",
   "id": "003a58c0",
   "metadata": {
    "papermill": {
     "duration": 0.011102,
     "end_time": "2023-01-28T17:16:36.587991",
     "exception": false,
     "start_time": "2023-01-28T17:16:36.576889",
     "status": "completed"
    },
    "tags": []
   },
   "source": [
    "This is fun! Let's compute MSE at another set of coefficients. \n",
    "\n",
    "Much better!"
   ]
  },
  {
   "cell_type": "code",
   "execution_count": 19,
   "id": "41551720",
   "metadata": {
    "execution": {
     "iopub.execute_input": "2023-01-28T17:16:36.613105Z",
     "iopub.status.busy": "2023-01-28T17:16:36.612656Z",
     "iopub.status.idle": "2023-01-28T17:16:36.620540Z",
     "shell.execute_reply": "2023-01-28T17:16:36.619598Z"
    },
    "papermill": {
     "duration": 0.023856,
     "end_time": "2023-01-28T17:16:36.623248",
     "exception": false,
     "start_time": "2023-01-28T17:16:36.599392",
     "status": "completed"
    },
    "tags": []
   },
   "outputs": [
    {
     "data": {
      "text/plain": [
       "tensor(2.3227, dtype=torch.float64)"
      ]
     },
     "execution_count": 19,
     "metadata": {},
     "output_type": "execute_result"
    }
   ],
   "source": [
    "quad_mse([3.0, 1.5, 1.5])"
   ]
  },
  {
   "cell_type": "markdown",
   "id": "63270789",
   "metadata": {
    "papermill": {
     "duration": 0.012239,
     "end_time": "2023-01-28T17:16:36.647657",
     "exception": false,
     "start_time": "2023-01-28T17:16:36.635418",
     "status": "completed"
    },
    "tags": []
   },
   "source": [
    "And once more. \n",
    "\n",
    "Oops, the loss increased! We will have to undo last change."
   ]
  },
  {
   "cell_type": "code",
   "execution_count": 20,
   "id": "d84cd902",
   "metadata": {
    "execution": {
     "iopub.execute_input": "2023-01-28T17:16:36.675449Z",
     "iopub.status.busy": "2023-01-28T17:16:36.673727Z",
     "iopub.status.idle": "2023-01-28T17:16:36.684214Z",
     "shell.execute_reply": "2023-01-28T17:16:36.682424Z"
    },
    "papermill": {
     "duration": 0.027368,
     "end_time": "2023-01-28T17:16:36.687356",
     "exception": false,
     "start_time": "2023-01-28T17:16:36.659988",
     "status": "completed"
    },
    "tags": []
   },
   "outputs": [
    {
     "data": {
      "text/plain": [
       "tensor(3.7393, dtype=torch.float64)"
      ]
     },
     "execution_count": 20,
     "metadata": {},
     "output_type": "execute_result"
    }
   ],
   "source": [
    "quad_mse([3.5, 1.5, 1.5])"
   ]
  },
  {
   "cell_type": "markdown",
   "id": "2681b479",
   "metadata": {
    "papermill": {
     "duration": 0.011149,
     "end_time": "2023-01-28T17:16:36.710026",
     "exception": false,
     "start_time": "2023-01-28T17:16:36.698877",
     "status": "completed"
    },
    "tags": []
   },
   "source": [
    "We can keep doing this and eventually (hopefully) we will arrive at an acceptable loss. That would give us the optimal coefficients for the quad function to fit the data. This is roughly how a NN does its learning!\n",
    "\n",
    "Short pause - think of the quadratic function as the NN, the quad coefficients as the weights, MSE as the loss function, and modification of coefficients as backward propagation updating the weights."
   ]
  },
  {
   "cell_type": "markdown",
   "id": "d6d831f7",
   "metadata": {
    "papermill": {
     "duration": 0.011846,
     "end_time": "2023-01-28T17:16:36.734229",
     "exception": false,
     "start_time": "2023-01-28T17:16:36.722383",
     "status": "completed"
    },
    "tags": []
   },
   "source": [
    "You may have noticed that sometimes a coefficient value had to be increased (decreased) to get a lower (higher) loss. And we didn't know ahead of time whether it was a good idea to increase (decrease) a particular coefficient. We simply made the change, observed the resulting loss, and only then did we know whether or not the model had improved.\n",
    "\n",
    "Wouldn't it be nice if we knew whether to increase or decrease a particular coefficient **before** making that change? That's where the gradients comes in!"
   ]
  },
  {
   "cell_type": "markdown",
   "id": "d70078eb",
   "metadata": {
    "papermill": {
     "duration": 0.011912,
     "end_time": "2023-01-28T17:16:36.758482",
     "exception": false,
     "start_time": "2023-01-28T17:16:36.746570",
     "status": "completed"
    },
    "tags": []
   },
   "source": [
    "We will leverage tensors to do the heavy lifting. Let's create a `tensor` to calculate the quadratic MSE."
   ]
  },
  {
   "cell_type": "code",
   "execution_count": 21,
   "id": "de12a037",
   "metadata": {
    "execution": {
     "iopub.execute_input": "2023-01-28T17:16:36.786599Z",
     "iopub.status.busy": "2023-01-28T17:16:36.786051Z",
     "iopub.status.idle": "2023-01-28T17:16:36.795834Z",
     "shell.execute_reply": "2023-01-28T17:16:36.794428Z"
    },
    "papermill": {
     "duration": 0.028598,
     "end_time": "2023-01-28T17:16:36.799089",
     "exception": false,
     "start_time": "2023-01-28T17:16:36.770491",
     "status": "completed"
    },
    "tags": []
   },
   "outputs": [
    {
     "data": {
      "text/plain": [
       "tensor([1.5000, 1.5000, 1.5000])"
      ]
     },
     "execution_count": 21,
     "metadata": {},
     "output_type": "execute_result"
    }
   ],
   "source": [
    "a_tensor = tensor([1.5, 1.5, 1.5])\n",
    "a_tensor"
   ]
  },
  {
   "cell_type": "markdown",
   "id": "f3cf4204",
   "metadata": {
    "papermill": {
     "duration": 0.013043,
     "end_time": "2023-01-28T17:16:36.824759",
     "exception": false,
     "start_time": "2023-01-28T17:16:36.811716",
     "status": "completed"
    },
    "tags": []
   },
   "source": [
    "next, we tell Pytorch that we'd like to compute gradient at that tensor. \n",
    "\n",
    "Note, Pytorch has flagged (requires_grad) that this tensor requires gradient whenever it's used in calculations"
   ]
  },
  {
   "cell_type": "code",
   "execution_count": 22,
   "id": "c9c271bc",
   "metadata": {
    "execution": {
     "iopub.execute_input": "2023-01-28T17:16:36.853348Z",
     "iopub.status.busy": "2023-01-28T17:16:36.852899Z",
     "iopub.status.idle": "2023-01-28T17:16:36.863125Z",
     "shell.execute_reply": "2023-01-28T17:16:36.861360Z"
    },
    "papermill": {
     "duration": 0.027734,
     "end_time": "2023-01-28T17:16:36.866059",
     "exception": false,
     "start_time": "2023-01-28T17:16:36.838325",
     "status": "completed"
    },
    "tags": []
   },
   "outputs": [
    {
     "data": {
      "text/plain": [
       "tensor([1.5000, 1.5000, 1.5000], requires_grad=True)"
      ]
     },
     "execution_count": 22,
     "metadata": {},
     "output_type": "execute_result"
    }
   ],
   "source": [
    "a_tensor.requires_grad_()\n",
    "a_tensor"
   ]
  },
  {
   "cell_type": "markdown",
   "id": "45e13a6f",
   "metadata": {
    "papermill": {
     "duration": 0.012817,
     "end_time": "2023-01-28T17:16:36.891264",
     "exception": false,
     "start_time": "2023-01-28T17:16:36.878447",
     "status": "completed"
    },
    "tags": []
   },
   "source": [
    "Let's compute MSE using the tensor. \n",
    "\n",
    "Note, in the output of the calculation Pytorch informs us that it knows how to calculate the gradients"
   ]
  },
  {
   "cell_type": "code",
   "execution_count": 23,
   "id": "f70085b6",
   "metadata": {
    "execution": {
     "iopub.execute_input": "2023-01-28T17:16:36.918676Z",
     "iopub.status.busy": "2023-01-28T17:16:36.918188Z",
     "iopub.status.idle": "2023-01-28T17:16:36.930079Z",
     "shell.execute_reply": "2023-01-28T17:16:36.928668Z"
    },
    "papermill": {
     "duration": 0.02963,
     "end_time": "2023-01-28T17:16:36.932826",
     "exception": false,
     "start_time": "2023-01-28T17:16:36.903196",
     "status": "completed"
    },
    "tags": []
   },
   "outputs": [
    {
     "data": {
      "text/plain": [
       "tensor(9.7610, dtype=torch.float64, grad_fn=<MeanBackward0>)"
      ]
     },
     "execution_count": 23,
     "metadata": {},
     "output_type": "execute_result"
    }
   ],
   "source": [
    "loss = quad_mse(a_tensor)\n",
    "loss"
   ]
  },
  {
   "cell_type": "markdown",
   "id": "c9f3ad96",
   "metadata": {
    "papermill": {
     "duration": 0.013077,
     "end_time": "2023-01-28T17:16:36.959970",
     "exception": false,
     "start_time": "2023-01-28T17:16:36.946893",
     "status": "completed"
    },
    "tags": []
   },
   "source": [
    "Let's tell Pytorch to calculate the gradients. \n",
    "\n",
    "Nothing seems to have happened, however... "
   ]
  },
  {
   "cell_type": "code",
   "execution_count": 24,
   "id": "282a8956",
   "metadata": {
    "execution": {
     "iopub.execute_input": "2023-01-28T17:16:36.990409Z",
     "iopub.status.busy": "2023-01-28T17:16:36.988717Z",
     "iopub.status.idle": "2023-01-28T17:16:37.016065Z",
     "shell.execute_reply": "2023-01-28T17:16:37.014858Z"
    },
    "papermill": {
     "duration": 0.045286,
     "end_time": "2023-01-28T17:16:37.019168",
     "exception": false,
     "start_time": "2023-01-28T17:16:36.973882",
     "status": "completed"
    },
    "tags": []
   },
   "outputs": [],
   "source": [
    "loss.backward()"
   ]
  },
  {
   "cell_type": "markdown",
   "id": "88d01c6f",
   "metadata": {
    "papermill": {
     "duration": 0.012418,
     "end_time": "2023-01-28T17:16:37.043842",
     "exception": false,
     "start_time": "2023-01-28T17:16:37.031424",
     "status": "completed"
    },
    "tags": []
   },
   "source": [
    "Pytorch has updated the tensor with the gradients of each coefficient!\n",
    "\n",
    "We can see that:\n",
    "\n",
    "- loss will go down by a lot if we increase the first parameter **a**\n",
    "- loss will go down somewhat if we increase the second parameter **b**\n",
    "- loss will go down if we increase the third parameter **c**\n",
    "\n",
    "We have a lot of the  machinery in place to use the quadratic function (model) to predict (y) from the input (x), calculate gradients of model parameters, modify parameters, and repeat until the loss reaches an acceptable threshold."
   ]
  },
  {
   "cell_type": "code",
   "execution_count": 25,
   "id": "63b8443a",
   "metadata": {
    "execution": {
     "iopub.execute_input": "2023-01-28T17:16:37.070706Z",
     "iopub.status.busy": "2023-01-28T17:16:37.070267Z",
     "iopub.status.idle": "2023-01-28T17:16:37.080155Z",
     "shell.execute_reply": "2023-01-28T17:16:37.078648Z"
    },
    "papermill": {
     "duration": 0.026835,
     "end_time": "2023-01-28T17:16:37.082790",
     "exception": false,
     "start_time": "2023-01-28T17:16:37.055955",
     "status": "completed"
    },
    "tags": []
   },
   "outputs": [
    {
     "data": {
      "text/plain": [
       "tensor([-10.8030,  -1.7444,  -5.0267])"
      ]
     },
     "execution_count": 25,
     "metadata": {},
     "output_type": "execute_result"
    }
   ],
   "source": [
    "a_tensor.grad"
   ]
  }
 ],
 "metadata": {
  "kernelspec": {
   "display_name": "Python 3",
   "language": "python",
   "name": "python3"
  },
  "language_info": {
   "codemirror_mode": {
    "name": "ipython",
    "version": 3
   },
   "file_extension": ".py",
   "mimetype": "text/x-python",
   "name": "python",
   "nbconvert_exporter": "python",
   "pygments_lexer": "ipython3",
   "version": "3.7.12"
  },
  "papermill": {
   "default_parameters": {},
   "duration": 22.159588,
   "end_time": "2023-01-28T17:16:38.927667",
   "environment_variables": {},
   "exception": null,
   "input_path": "__notebook__.ipynb",
   "output_path": "__notebook__.ipynb",
   "parameters": {},
   "start_time": "2023-01-28T17:16:16.768079",
   "version": "2.3.4"
  },
  "widgets": {
   "application/vnd.jupyter.widget-state+json": {
    "state": {
     "2df12be390df495ba37df7e9fa3481fd": {
      "model_module": "@jupyter-widgets/controls",
      "model_module_version": "1.5.0",
      "model_name": "SliderStyleModel",
      "state": {
       "_model_module": "@jupyter-widgets/controls",
       "_model_module_version": "1.5.0",
       "_model_name": "SliderStyleModel",
       "_view_count": null,
       "_view_module": "@jupyter-widgets/base",
       "_view_module_version": "1.2.0",
       "_view_name": "StyleView",
       "description_width": "",
       "handle_color": null
      }
     },
     "4aedcc6ea07d43679d308a95ee5d498e": {
      "model_module": "@jupyter-widgets/controls",
      "model_module_version": "1.5.0",
      "model_name": "FloatSliderModel",
      "state": {
       "_dom_classes": [],
       "_model_module": "@jupyter-widgets/controls",
       "_model_module_version": "1.5.0",
       "_model_name": "FloatSliderModel",
       "_view_count": null,
       "_view_module": "@jupyter-widgets/controls",
       "_view_module_version": "1.5.0",
       "_view_name": "FloatSliderView",
       "continuous_update": true,
       "description": "c",
       "description_tooltip": null,
       "disabled": false,
       "layout": "IPY_MODEL_cc819f9bf24f4af382563671e74caa0f",
       "max": 4.5,
       "min": -1.5,
       "orientation": "horizontal",
       "readout": true,
       "readout_format": ".2f",
       "step": 0.1,
       "style": "IPY_MODEL_2df12be390df495ba37df7e9fa3481fd",
       "value": 1.5
      }
     },
     "58c98502f5774f33ab739937ac5df769": {
      "model_module": "@jupyter-widgets/base",
      "model_module_version": "1.2.0",
      "model_name": "LayoutModel",
      "state": {
       "_model_module": "@jupyter-widgets/base",
       "_model_module_version": "1.2.0",
       "_model_name": "LayoutModel",
       "_view_count": null,
       "_view_module": "@jupyter-widgets/base",
       "_view_module_version": "1.2.0",
       "_view_name": "LayoutView",
       "align_content": null,
       "align_items": null,
       "align_self": null,
       "border": null,
       "bottom": null,
       "display": null,
       "flex": null,
       "flex_flow": null,
       "grid_area": null,
       "grid_auto_columns": null,
       "grid_auto_flow": null,
       "grid_auto_rows": null,
       "grid_column": null,
       "grid_gap": null,
       "grid_row": null,
       "grid_template_areas": null,
       "grid_template_columns": null,
       "grid_template_rows": null,
       "height": null,
       "justify_content": null,
       "justify_items": null,
       "left": null,
       "margin": null,
       "max_height": null,
       "max_width": null,
       "min_height": null,
       "min_width": null,
       "object_fit": null,
       "object_position": null,
       "order": null,
       "overflow": null,
       "overflow_x": null,
       "overflow_y": null,
       "padding": null,
       "right": null,
       "top": null,
       "visibility": null,
       "width": null
      }
     },
     "60461b49f6fd4d9bb02c78632b910583": {
      "model_module": "@jupyter-widgets/controls",
      "model_module_version": "1.5.0",
      "model_name": "VBoxModel",
      "state": {
       "_dom_classes": [
        "widget-interact"
       ],
       "_model_module": "@jupyter-widgets/controls",
       "_model_module_version": "1.5.0",
       "_model_name": "VBoxModel",
       "_view_count": null,
       "_view_module": "@jupyter-widgets/controls",
       "_view_module_version": "1.5.0",
       "_view_name": "VBoxView",
       "box_style": "",
       "children": [
        "IPY_MODEL_8de6a4b41193464ead28a29e7cb43893",
        "IPY_MODEL_ad253d81c2fe4f8cb2f9ca435150ed63",
        "IPY_MODEL_4aedcc6ea07d43679d308a95ee5d498e",
        "IPY_MODEL_f302838900894900865c81b81630202b"
       ],
       "layout": "IPY_MODEL_8dff6b31c5bf4658aaf1ab6a3be68ea9"
      }
     },
     "6beb526bb1df40548cfd2fde8f3575ce": {
      "model_module": "@jupyter-widgets/controls",
      "model_module_version": "1.5.0",
      "model_name": "SliderStyleModel",
      "state": {
       "_model_module": "@jupyter-widgets/controls",
       "_model_module_version": "1.5.0",
       "_model_name": "SliderStyleModel",
       "_view_count": null,
       "_view_module": "@jupyter-widgets/base",
       "_view_module_version": "1.2.0",
       "_view_name": "StyleView",
       "description_width": "",
       "handle_color": null
      }
     },
     "72e36ff6cfde462984f650dcea497eee": {
      "model_module": "@jupyter-widgets/controls",
      "model_module_version": "1.5.0",
      "model_name": "FloatSliderModel",
      "state": {
       "_dom_classes": [],
       "_model_module": "@jupyter-widgets/controls",
       "_model_module_version": "1.5.0",
       "_model_name": "FloatSliderModel",
       "_view_count": null,
       "_view_module": "@jupyter-widgets/controls",
       "_view_module_version": "1.5.0",
       "_view_name": "FloatSliderView",
       "continuous_update": true,
       "description": "a",
       "description_tooltip": null,
       "disabled": false,
       "layout": "IPY_MODEL_cc99a32aaf3d45fe81c384a82213dd82",
       "max": 4.5,
       "min": -1.5,
       "orientation": "horizontal",
       "readout": true,
       "readout_format": ".2f",
       "step": 0.1,
       "style": "IPY_MODEL_a3a9a0cc58674d698e464ab1a8a62644",
       "value": 1.5
      }
     },
     "82158b20fe914d248708d70c467663bf": {
      "model_module": "@jupyter-widgets/controls",
      "model_module_version": "1.5.0",
      "model_name": "SliderStyleModel",
      "state": {
       "_model_module": "@jupyter-widgets/controls",
       "_model_module_version": "1.5.0",
       "_model_name": "SliderStyleModel",
       "_view_count": null,
       "_view_module": "@jupyter-widgets/base",
       "_view_module_version": "1.2.0",
       "_view_name": "StyleView",
       "description_width": "",
       "handle_color": null
      }
     },
     "8d62dc9b225f4c4980e2391087be84b1": {
      "model_module": "@jupyter-widgets/controls",
      "model_module_version": "1.5.0",
      "model_name": "SliderStyleModel",
      "state": {
       "_model_module": "@jupyter-widgets/controls",
       "_model_module_version": "1.5.0",
       "_model_name": "SliderStyleModel",
       "_view_count": null,
       "_view_module": "@jupyter-widgets/base",
       "_view_module_version": "1.2.0",
       "_view_name": "StyleView",
       "description_width": "",
       "handle_color": null
      }
     },
     "8de6a4b41193464ead28a29e7cb43893": {
      "model_module": "@jupyter-widgets/controls",
      "model_module_version": "1.5.0",
      "model_name": "FloatSliderModel",
      "state": {
       "_dom_classes": [],
       "_model_module": "@jupyter-widgets/controls",
       "_model_module_version": "1.5.0",
       "_model_name": "FloatSliderModel",
       "_view_count": null,
       "_view_module": "@jupyter-widgets/controls",
       "_view_module_version": "1.5.0",
       "_view_name": "FloatSliderView",
       "continuous_update": true,
       "description": "a",
       "description_tooltip": null,
       "disabled": false,
       "layout": "IPY_MODEL_bf669d81e6dd494ebadeda5a9f7b3392",
       "max": 4.5,
       "min": -1.5,
       "orientation": "horizontal",
       "readout": true,
       "readout_format": ".2f",
       "step": 0.1,
       "style": "IPY_MODEL_8d62dc9b225f4c4980e2391087be84b1",
       "value": 1.5
      }
     },
     "8dff6b31c5bf4658aaf1ab6a3be68ea9": {
      "model_module": "@jupyter-widgets/base",
      "model_module_version": "1.2.0",
      "model_name": "LayoutModel",
      "state": {
       "_model_module": "@jupyter-widgets/base",
       "_model_module_version": "1.2.0",
       "_model_name": "LayoutModel",
       "_view_count": null,
       "_view_module": "@jupyter-widgets/base",
       "_view_module_version": "1.2.0",
       "_view_name": "LayoutView",
       "align_content": null,
       "align_items": null,
       "align_self": null,
       "border": null,
       "bottom": null,
       "display": null,
       "flex": null,
       "flex_flow": null,
       "grid_area": null,
       "grid_auto_columns": null,
       "grid_auto_flow": null,
       "grid_auto_rows": null,
       "grid_column": null,
       "grid_gap": null,
       "grid_row": null,
       "grid_template_areas": null,
       "grid_template_columns": null,
       "grid_template_rows": null,
       "height": null,
       "justify_content": null,
       "justify_items": null,
       "left": null,
       "margin": null,
       "max_height": null,
       "max_width": null,
       "min_height": null,
       "min_width": null,
       "object_fit": null,
       "object_position": null,
       "order": null,
       "overflow": null,
       "overflow_x": null,
       "overflow_y": null,
       "padding": null,
       "right": null,
       "top": null,
       "visibility": null,
       "width": null
      }
     },
     "9b6986e1a0b04344939faac3458a9cf9": {
      "model_module": "@jupyter-widgets/controls",
      "model_module_version": "1.5.0",
      "model_name": "FloatSliderModel",
      "state": {
       "_dom_classes": [],
       "_model_module": "@jupyter-widgets/controls",
       "_model_module_version": "1.5.0",
       "_model_name": "FloatSliderModel",
       "_view_count": null,
       "_view_module": "@jupyter-widgets/controls",
       "_view_module_version": "1.5.0",
       "_view_name": "FloatSliderView",
       "continuous_update": true,
       "description": "b",
       "description_tooltip": null,
       "disabled": false,
       "layout": "IPY_MODEL_cac4b1d902d94a53aff4b4e714959651",
       "max": 4.5,
       "min": -1.5,
       "orientation": "horizontal",
       "readout": true,
       "readout_format": ".2f",
       "step": 0.1,
       "style": "IPY_MODEL_82158b20fe914d248708d70c467663bf",
       "value": 1.5
      }
     },
     "a3a9a0cc58674d698e464ab1a8a62644": {
      "model_module": "@jupyter-widgets/controls",
      "model_module_version": "1.5.0",
      "model_name": "SliderStyleModel",
      "state": {
       "_model_module": "@jupyter-widgets/controls",
       "_model_module_version": "1.5.0",
       "_model_name": "SliderStyleModel",
       "_view_count": null,
       "_view_module": "@jupyter-widgets/base",
       "_view_module_version": "1.2.0",
       "_view_name": "StyleView",
       "description_width": "",
       "handle_color": null
      }
     },
     "a54aa4a2dec64e5b9a1cc1182892e03e": {
      "model_module": "@jupyter-widgets/base",
      "model_module_version": "1.2.0",
      "model_name": "LayoutModel",
      "state": {
       "_model_module": "@jupyter-widgets/base",
       "_model_module_version": "1.2.0",
       "_model_name": "LayoutModel",
       "_view_count": null,
       "_view_module": "@jupyter-widgets/base",
       "_view_module_version": "1.2.0",
       "_view_name": "LayoutView",
       "align_content": null,
       "align_items": null,
       "align_self": null,
       "border": null,
       "bottom": null,
       "display": null,
       "flex": null,
       "flex_flow": null,
       "grid_area": null,
       "grid_auto_columns": null,
       "grid_auto_flow": null,
       "grid_auto_rows": null,
       "grid_column": null,
       "grid_gap": null,
       "grid_row": null,
       "grid_template_areas": null,
       "grid_template_columns": null,
       "grid_template_rows": null,
       "height": null,
       "justify_content": null,
       "justify_items": null,
       "left": null,
       "margin": null,
       "max_height": null,
       "max_width": null,
       "min_height": null,
       "min_width": null,
       "object_fit": null,
       "object_position": null,
       "order": null,
       "overflow": null,
       "overflow_x": null,
       "overflow_y": null,
       "padding": null,
       "right": null,
       "top": null,
       "visibility": null,
       "width": null
      }
     },
     "ad253d81c2fe4f8cb2f9ca435150ed63": {
      "model_module": "@jupyter-widgets/controls",
      "model_module_version": "1.5.0",
      "model_name": "FloatSliderModel",
      "state": {
       "_dom_classes": [],
       "_model_module": "@jupyter-widgets/controls",
       "_model_module_version": "1.5.0",
       "_model_name": "FloatSliderModel",
       "_view_count": null,
       "_view_module": "@jupyter-widgets/controls",
       "_view_module_version": "1.5.0",
       "_view_name": "FloatSliderView",
       "continuous_update": true,
       "description": "b",
       "description_tooltip": null,
       "disabled": false,
       "layout": "IPY_MODEL_b328ac199f3e444cb7efdb3dc2ab0bab",
       "max": 4.5,
       "min": -1.5,
       "orientation": "horizontal",
       "readout": true,
       "readout_format": ".2f",
       "step": 0.1,
       "style": "IPY_MODEL_fb1bbc8dad5f49b28f09af529a5ba0a4",
       "value": 1.5
      }
     },
     "b328ac199f3e444cb7efdb3dc2ab0bab": {
      "model_module": "@jupyter-widgets/base",
      "model_module_version": "1.2.0",
      "model_name": "LayoutModel",
      "state": {
       "_model_module": "@jupyter-widgets/base",
       "_model_module_version": "1.2.0",
       "_model_name": "LayoutModel",
       "_view_count": null,
       "_view_module": "@jupyter-widgets/base",
       "_view_module_version": "1.2.0",
       "_view_name": "LayoutView",
       "align_content": null,
       "align_items": null,
       "align_self": null,
       "border": null,
       "bottom": null,
       "display": null,
       "flex": null,
       "flex_flow": null,
       "grid_area": null,
       "grid_auto_columns": null,
       "grid_auto_flow": null,
       "grid_auto_rows": null,
       "grid_column": null,
       "grid_gap": null,
       "grid_row": null,
       "grid_template_areas": null,
       "grid_template_columns": null,
       "grid_template_rows": null,
       "height": null,
       "justify_content": null,
       "justify_items": null,
       "left": null,
       "margin": null,
       "max_height": null,
       "max_width": null,
       "min_height": null,
       "min_width": null,
       "object_fit": null,
       "object_position": null,
       "order": null,
       "overflow": null,
       "overflow_x": null,
       "overflow_y": null,
       "padding": null,
       "right": null,
       "top": null,
       "visibility": null,
       "width": null
      }
     },
     "b65399719d654b8ebbf3daed1eb83593": {
      "model_module": "@jupyter-widgets/base",
      "model_module_version": "1.2.0",
      "model_name": "LayoutModel",
      "state": {
       "_model_module": "@jupyter-widgets/base",
       "_model_module_version": "1.2.0",
       "_model_name": "LayoutModel",
       "_view_count": null,
       "_view_module": "@jupyter-widgets/base",
       "_view_module_version": "1.2.0",
       "_view_name": "LayoutView",
       "align_content": null,
       "align_items": null,
       "align_self": null,
       "border": null,
       "bottom": null,
       "display": null,
       "flex": null,
       "flex_flow": null,
       "grid_area": null,
       "grid_auto_columns": null,
       "grid_auto_flow": null,
       "grid_auto_rows": null,
       "grid_column": null,
       "grid_gap": null,
       "grid_row": null,
       "grid_template_areas": null,
       "grid_template_columns": null,
       "grid_template_rows": null,
       "height": null,
       "justify_content": null,
       "justify_items": null,
       "left": null,
       "margin": null,
       "max_height": null,
       "max_width": null,
       "min_height": null,
       "min_width": null,
       "object_fit": null,
       "object_position": null,
       "order": null,
       "overflow": null,
       "overflow_x": null,
       "overflow_y": null,
       "padding": null,
       "right": null,
       "top": null,
       "visibility": null,
       "width": null
      }
     },
     "b835efb62f6143fd84f7f695e19e5fb2": {
      "model_module": "@jupyter-widgets/base",
      "model_module_version": "1.2.0",
      "model_name": "LayoutModel",
      "state": {
       "_model_module": "@jupyter-widgets/base",
       "_model_module_version": "1.2.0",
       "_model_name": "LayoutModel",
       "_view_count": null,
       "_view_module": "@jupyter-widgets/base",
       "_view_module_version": "1.2.0",
       "_view_name": "LayoutView",
       "align_content": null,
       "align_items": null,
       "align_self": null,
       "border": null,
       "bottom": null,
       "display": null,
       "flex": null,
       "flex_flow": null,
       "grid_area": null,
       "grid_auto_columns": null,
       "grid_auto_flow": null,
       "grid_auto_rows": null,
       "grid_column": null,
       "grid_gap": null,
       "grid_row": null,
       "grid_template_areas": null,
       "grid_template_columns": null,
       "grid_template_rows": null,
       "height": null,
       "justify_content": null,
       "justify_items": null,
       "left": null,
       "margin": null,
       "max_height": null,
       "max_width": null,
       "min_height": null,
       "min_width": null,
       "object_fit": null,
       "object_position": null,
       "order": null,
       "overflow": null,
       "overflow_x": null,
       "overflow_y": null,
       "padding": null,
       "right": null,
       "top": null,
       "visibility": null,
       "width": null
      }
     },
     "bf669d81e6dd494ebadeda5a9f7b3392": {
      "model_module": "@jupyter-widgets/base",
      "model_module_version": "1.2.0",
      "model_name": "LayoutModel",
      "state": {
       "_model_module": "@jupyter-widgets/base",
       "_model_module_version": "1.2.0",
       "_model_name": "LayoutModel",
       "_view_count": null,
       "_view_module": "@jupyter-widgets/base",
       "_view_module_version": "1.2.0",
       "_view_name": "LayoutView",
       "align_content": null,
       "align_items": null,
       "align_self": null,
       "border": null,
       "bottom": null,
       "display": null,
       "flex": null,
       "flex_flow": null,
       "grid_area": null,
       "grid_auto_columns": null,
       "grid_auto_flow": null,
       "grid_auto_rows": null,
       "grid_column": null,
       "grid_gap": null,
       "grid_row": null,
       "grid_template_areas": null,
       "grid_template_columns": null,
       "grid_template_rows": null,
       "height": null,
       "justify_content": null,
       "justify_items": null,
       "left": null,
       "margin": null,
       "max_height": null,
       "max_width": null,
       "min_height": null,
       "min_width": null,
       "object_fit": null,
       "object_position": null,
       "order": null,
       "overflow": null,
       "overflow_x": null,
       "overflow_y": null,
       "padding": null,
       "right": null,
       "top": null,
       "visibility": null,
       "width": null
      }
     },
     "ca8b282199d048e9a6144a3f9f885c8c": {
      "model_module": "@jupyter-widgets/output",
      "model_module_version": "1.0.0",
      "model_name": "OutputModel",
      "state": {
       "_dom_classes": [],
       "_model_module": "@jupyter-widgets/output",
       "_model_module_version": "1.0.0",
       "_model_name": "OutputModel",
       "_view_count": null,
       "_view_module": "@jupyter-widgets/output",
       "_view_module_version": "1.0.0",
       "_view_name": "OutputView",
       "layout": "IPY_MODEL_b65399719d654b8ebbf3daed1eb83593",
       "msg_id": "",
       "outputs": [
        {
         "data": {
          "image/png": "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\n",
          "text/plain": "<Figure size 432x288 with 1 Axes>"
         },
         "metadata": {
          "needs_background": "light"
         },
         "output_type": "display_data"
        }
       ]
      }
     },
     "cac4b1d902d94a53aff4b4e714959651": {
      "model_module": "@jupyter-widgets/base",
      "model_module_version": "1.2.0",
      "model_name": "LayoutModel",
      "state": {
       "_model_module": "@jupyter-widgets/base",
       "_model_module_version": "1.2.0",
       "_model_name": "LayoutModel",
       "_view_count": null,
       "_view_module": "@jupyter-widgets/base",
       "_view_module_version": "1.2.0",
       "_view_name": "LayoutView",
       "align_content": null,
       "align_items": null,
       "align_self": null,
       "border": null,
       "bottom": null,
       "display": null,
       "flex": null,
       "flex_flow": null,
       "grid_area": null,
       "grid_auto_columns": null,
       "grid_auto_flow": null,
       "grid_auto_rows": null,
       "grid_column": null,
       "grid_gap": null,
       "grid_row": null,
       "grid_template_areas": null,
       "grid_template_columns": null,
       "grid_template_rows": null,
       "height": null,
       "justify_content": null,
       "justify_items": null,
       "left": null,
       "margin": null,
       "max_height": null,
       "max_width": null,
       "min_height": null,
       "min_width": null,
       "object_fit": null,
       "object_position": null,
       "order": null,
       "overflow": null,
       "overflow_x": null,
       "overflow_y": null,
       "padding": null,
       "right": null,
       "top": null,
       "visibility": null,
       "width": null
      }
     },
     "cc819f9bf24f4af382563671e74caa0f": {
      "model_module": "@jupyter-widgets/base",
      "model_module_version": "1.2.0",
      "model_name": "LayoutModel",
      "state": {
       "_model_module": "@jupyter-widgets/base",
       "_model_module_version": "1.2.0",
       "_model_name": "LayoutModel",
       "_view_count": null,
       "_view_module": "@jupyter-widgets/base",
       "_view_module_version": "1.2.0",
       "_view_name": "LayoutView",
       "align_content": null,
       "align_items": null,
       "align_self": null,
       "border": null,
       "bottom": null,
       "display": null,
       "flex": null,
       "flex_flow": null,
       "grid_area": null,
       "grid_auto_columns": null,
       "grid_auto_flow": null,
       "grid_auto_rows": null,
       "grid_column": null,
       "grid_gap": null,
       "grid_row": null,
       "grid_template_areas": null,
       "grid_template_columns": null,
       "grid_template_rows": null,
       "height": null,
       "justify_content": null,
       "justify_items": null,
       "left": null,
       "margin": null,
       "max_height": null,
       "max_width": null,
       "min_height": null,
       "min_width": null,
       "object_fit": null,
       "object_position": null,
       "order": null,
       "overflow": null,
       "overflow_x": null,
       "overflow_y": null,
       "padding": null,
       "right": null,
       "top": null,
       "visibility": null,
       "width": null
      }
     },
     "cc99a32aaf3d45fe81c384a82213dd82": {
      "model_module": "@jupyter-widgets/base",
      "model_module_version": "1.2.0",
      "model_name": "LayoutModel",
      "state": {
       "_model_module": "@jupyter-widgets/base",
       "_model_module_version": "1.2.0",
       "_model_name": "LayoutModel",
       "_view_count": null,
       "_view_module": "@jupyter-widgets/base",
       "_view_module_version": "1.2.0",
       "_view_name": "LayoutView",
       "align_content": null,
       "align_items": null,
       "align_self": null,
       "border": null,
       "bottom": null,
       "display": null,
       "flex": null,
       "flex_flow": null,
       "grid_area": null,
       "grid_auto_columns": null,
       "grid_auto_flow": null,
       "grid_auto_rows": null,
       "grid_column": null,
       "grid_gap": null,
       "grid_row": null,
       "grid_template_areas": null,
       "grid_template_columns": null,
       "grid_template_rows": null,
       "height": null,
       "justify_content": null,
       "justify_items": null,
       "left": null,
       "margin": null,
       "max_height": null,
       "max_width": null,
       "min_height": null,
       "min_width": null,
       "object_fit": null,
       "object_position": null,
       "order": null,
       "overflow": null,
       "overflow_x": null,
       "overflow_y": null,
       "padding": null,
       "right": null,
       "top": null,
       "visibility": null,
       "width": null
      }
     },
     "ea2dbbfe6dc34faab8d3a50aa31d7814": {
      "model_module": "@jupyter-widgets/controls",
      "model_module_version": "1.5.0",
      "model_name": "FloatSliderModel",
      "state": {
       "_dom_classes": [],
       "_model_module": "@jupyter-widgets/controls",
       "_model_module_version": "1.5.0",
       "_model_name": "FloatSliderModel",
       "_view_count": null,
       "_view_module": "@jupyter-widgets/controls",
       "_view_module_version": "1.5.0",
       "_view_name": "FloatSliderView",
       "continuous_update": true,
       "description": "c",
       "description_tooltip": null,
       "disabled": false,
       "layout": "IPY_MODEL_b835efb62f6143fd84f7f695e19e5fb2",
       "max": 4.5,
       "min": -1.5,
       "orientation": "horizontal",
       "readout": true,
       "readout_format": ".2f",
       "step": 0.1,
       "style": "IPY_MODEL_6beb526bb1df40548cfd2fde8f3575ce",
       "value": 1.5
      }
     },
     "f302838900894900865c81b81630202b": {
      "model_module": "@jupyter-widgets/output",
      "model_module_version": "1.0.0",
      "model_name": "OutputModel",
      "state": {
       "_dom_classes": [],
       "_model_module": "@jupyter-widgets/output",
       "_model_module_version": "1.0.0",
       "_model_name": "OutputModel",
       "_view_count": null,
       "_view_module": "@jupyter-widgets/output",
       "_view_module_version": "1.0.0",
       "_view_name": "OutputView",
       "layout": "IPY_MODEL_a54aa4a2dec64e5b9a1cc1182892e03e",
       "msg_id": "",
       "outputs": [
        {
         "data": {
          "image/png": "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\n",
          "text/plain": "<Figure size 432x288 with 1 Axes>"
         },
         "metadata": {
          "needs_background": "light"
         },
         "output_type": "display_data"
        }
       ]
      }
     },
     "fb1bbc8dad5f49b28f09af529a5ba0a4": {
      "model_module": "@jupyter-widgets/controls",
      "model_module_version": "1.5.0",
      "model_name": "SliderStyleModel",
      "state": {
       "_model_module": "@jupyter-widgets/controls",
       "_model_module_version": "1.5.0",
       "_model_name": "SliderStyleModel",
       "_view_count": null,
       "_view_module": "@jupyter-widgets/base",
       "_view_module_version": "1.2.0",
       "_view_name": "StyleView",
       "description_width": "",
       "handle_color": null
      }
     },
     "ff88730ffe9b4cfb9b1e911efb99628b": {
      "model_module": "@jupyter-widgets/controls",
      "model_module_version": "1.5.0",
      "model_name": "VBoxModel",
      "state": {
       "_dom_classes": [
        "widget-interact"
       ],
       "_model_module": "@jupyter-widgets/controls",
       "_model_module_version": "1.5.0",
       "_model_name": "VBoxModel",
       "_view_count": null,
       "_view_module": "@jupyter-widgets/controls",
       "_view_module_version": "1.5.0",
       "_view_name": "VBoxView",
       "box_style": "",
       "children": [
        "IPY_MODEL_72e36ff6cfde462984f650dcea497eee",
        "IPY_MODEL_9b6986e1a0b04344939faac3458a9cf9",
        "IPY_MODEL_ea2dbbfe6dc34faab8d3a50aa31d7814",
        "IPY_MODEL_ca8b282199d048e9a6144a3f9f885c8c"
       ],
       "layout": "IPY_MODEL_58c98502f5774f33ab739937ac5df769"
      }
     }
    },
    "version_major": 2,
    "version_minor": 0
   }
  }
 },
 "nbformat": 4,
 "nbformat_minor": 5
}
