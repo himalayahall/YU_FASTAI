{
 "cells": [
  {
   "cell_type": "code",
   "execution_count": 1,
   "id": "ede4abbd",
   "metadata": {
    "execution": {
     "iopub.execute_input": "2023-01-28T17:15:15.915894Z",
     "iopub.status.busy": "2023-01-28T17:15:15.915144Z",
     "iopub.status.idle": "2023-01-28T17:15:20.769944Z",
     "shell.execute_reply": "2023-01-28T17:15:20.768488Z"
    },
    "papermill": {
     "duration": 4.870321,
     "end_time": "2023-01-28T17:15:20.773045",
     "exception": false,
     "start_time": "2023-01-28T17:15:15.902724",
     "status": "completed"
    },
    "tags": []
   },
   "outputs": [],
   "source": [
    "from fastai.vision.all import *\n",
    "import pylab as plt\n",
    "\n",
    "random.seed(42)"
   ]
  },
  {
   "cell_type": "markdown",
   "id": "75dabd38",
   "metadata": {
    "papermill": {
     "duration": 0.009228,
     "end_time": "2023-01-28T17:15:20.792182",
     "exception": false,
     "start_time": "2023-01-28T17:15:20.782954",
     "status": "completed"
    },
    "tags": []
   },
   "source": [
    "Let's begin by defining a function that will plot the output for any given quadratic function."
   ]
  },
  {
   "cell_type": "code",
   "execution_count": 2,
   "id": "7933e6f7",
   "metadata": {
    "execution": {
     "iopub.execute_input": "2023-01-28T17:15:20.813201Z",
     "iopub.status.busy": "2023-01-28T17:15:20.812769Z",
     "iopub.status.idle": "2023-01-28T17:15:20.820534Z",
     "shell.execute_reply": "2023-01-28T17:15:20.819333Z"
    },
    "papermill": {
     "duration": 0.021276,
     "end_time": "2023-01-28T17:15:20.822921",
     "exception": false,
     "start_time": "2023-01-28T17:15:20.801645",
     "status": "completed"
    },
    "tags": []
   },
   "outputs": [],
   "source": [
    "def plot_function(f, tx=None, ty=None, title=None, min=-2, max=2, figsize=(6,4)):\n",
    "    x = torch.linspace(min,max,steps=20)\n",
    "    fig,ax = plt.subplots(figsize=figsize)\n",
    "    ax.plot(x, f(x))\n",
    "    if tx is not None: ax.set_xlabel(tx)\n",
    "    if ty is not None: ax.set_ylabel(ty)\n",
    "    if title is not None: ax.set_title(title)"
   ]
  },
  {
   "cell_type": "markdown",
   "id": "8a6563f5",
   "metadata": {
    "papermill": {
     "duration": 0.009198,
     "end_time": "2023-01-28T17:15:20.841761",
     "exception": false,
     "start_time": "2023-01-28T17:15:20.832563",
     "status": "completed"
    },
    "tags": []
   },
   "source": [
    "One can think of any NN as a function that maps a set of inputs to another set of outputs. We would like train the NN to map the inputs to the outputs in such a way that the `loss` is minimized. Fitting the model to the data and minimizing the loss is the essence of machine learning.\n",
    "\n",
    "So what is this function? That depends on the problem we are trying to solve, but to understand a few key concepts, we will look at a simple regression problem and use a quadratic function as the 'model'.\n",
    "\n",
    "Let's start by defining the quadratic function $3x^2 + 2x + 1$. "
   ]
  },
  {
   "cell_type": "code",
   "execution_count": 3,
   "id": "aee39fea",
   "metadata": {
    "execution": {
     "iopub.execute_input": "2023-01-28T17:15:20.864115Z",
     "iopub.status.busy": "2023-01-28T17:15:20.862976Z",
     "iopub.status.idle": "2023-01-28T17:15:20.869175Z",
     "shell.execute_reply": "2023-01-28T17:15:20.868010Z"
    },
    "papermill": {
     "duration": 0.01938,
     "end_time": "2023-01-28T17:15:20.871575",
     "exception": false,
     "start_time": "2023-01-28T17:15:20.852195",
     "status": "completed"
    },
    "tags": []
   },
   "outputs": [],
   "source": [
    "def quad(x): return 3 * x**2 + 2 * x + 1"
   ]
  },
  {
   "cell_type": "markdown",
   "id": "3c64e037",
   "metadata": {
    "papermill": {
     "duration": 0.009243,
     "end_time": "2023-01-28T17:15:20.890300",
     "exception": false,
     "start_time": "2023-01-28T17:15:20.881057",
     "status": "completed"
    },
    "tags": []
   },
   "source": [
    "Let's generate a plot of our quadratic function."
   ]
  },
  {
   "cell_type": "code",
   "execution_count": 4,
   "id": "7bafd264",
   "metadata": {
    "execution": {
     "iopub.execute_input": "2023-01-28T17:15:20.910977Z",
     "iopub.status.busy": "2023-01-28T17:15:20.910543Z",
     "iopub.status.idle": "2023-01-28T17:15:21.421417Z",
     "shell.execute_reply": "2023-01-28T17:15:21.420060Z"
    },
    "papermill": {
     "duration": 0.524778,
     "end_time": "2023-01-28T17:15:21.424508",
     "exception": false,
     "start_time": "2023-01-28T17:15:20.899730",
     "status": "completed"
    },
    "tags": []
   },
   "outputs": [
    {
     "data": {
      "image/png": "[encoded data removed]",
      "text/plain": [
       "<Figure size 432x288 with 1 Axes>"
      ]
     },
     "metadata": {
      "needs_background": "light"
     },
     "output_type": "display_data"
    }
   ],
   "source": [
    "plot_function(quad, '$3x^2 + 2x + 1$')"
   ]
  },
  {
   "cell_type": "markdown",
   "id": "ed0ad6d4",
   "metadata": {
    "papermill": {
     "duration": 0.010022,
     "end_time": "2023-01-28T17:15:21.449125",
     "exception": false,
     "start_time": "2023-01-28T17:15:21.439103",
     "status": "completed"
    },
    "tags": []
   },
   "source": [
    "To make it easy to look at different functions let's define a generalized quadratic function."
   ]
  },
  {
   "cell_type": "code",
   "execution_count": 5,
   "id": "8718bc85",
   "metadata": {
    "execution": {
     "iopub.execute_input": "2023-01-28T17:15:21.471667Z",
     "iopub.status.busy": "2023-01-28T17:15:21.470723Z",
     "iopub.status.idle": "2023-01-28T17:15:21.476610Z",
     "shell.execute_reply": "2023-01-28T17:15:21.475601Z"
    },
    "papermill": {
     "duration": 0.019967,
     "end_time": "2023-01-28T17:15:21.479020",
     "exception": false,
     "start_time": "2023-01-28T17:15:21.459053",
     "status": "completed"
    },
    "tags": []
   },
   "outputs": [],
   "source": [
    "def quad(a, b, c, x): return a * x**2 + b * x + c"
   ]
  },
  {
   "cell_type": "markdown",
   "id": "52b1825d",
   "metadata": {
    "papermill": {
     "duration": 0.009766,
     "end_time": "2023-01-28T17:15:21.498999",
     "exception": false,
     "start_time": "2023-01-28T17:15:21.489233",
     "status": "completed"
    },
    "tags": []
   },
   "source": [
    "Let's also define a factory for creating quadratic functions. Factory functions are a broadly used concept in software engineering that hide complexity and provide many other potential benefits. \n",
    "\n",
    "We use the `partial` function to 'fix' the values of a, b, and coefficients. Note - a `lambda` would work just as well but `partial` is more flexible and powerful."
   ]
  },
  {
   "cell_type": "code",
   "execution_count": 6,
   "id": "3608c2eb",
   "metadata": {
    "execution": {
     "iopub.execute_input": "2023-01-28T17:15:21.523415Z",
     "iopub.status.busy": "2023-01-28T17:15:21.522465Z",
     "iopub.status.idle": "2023-01-28T17:15:21.528296Z",
     "shell.execute_reply": "2023-01-28T17:15:21.527279Z"
    },
    "papermill": {
     "duration": 0.021162,
     "end_time": "2023-01-28T17:15:21.530644",
     "exception": false,
     "start_time": "2023-01-28T17:15:21.509482",
     "status": "completed"
    },
    "tags": []
   },
   "outputs": [],
   "source": [
    "from functools import partial\n",
    "def make_quad(a, b, c) : return partial(quad, a, b, c)"
   ]
  },
  {
   "cell_type": "markdown",
   "id": "c1ced804",
   "metadata": {
    "papermill": {
     "duration": 0.010252,
     "end_time": "2023-01-28T17:15:21.550962",
     "exception": false,
     "start_time": "2023-01-28T17:15:21.540710",
     "status": "completed"
    },
    "tags": []
   },
   "source": [
    "Now we use the factory to re-create our quadratic"
   ]
  },
  {
   "cell_type": "code",
   "execution_count": 7,
   "id": "2b6058d8",
   "metadata": {
    "execution": {
     "iopub.execute_input": "2023-01-28T17:15:21.573488Z",
     "iopub.status.busy": "2023-01-28T17:15:21.572577Z",
     "iopub.status.idle": "2023-01-28T17:15:21.577961Z",
     "shell.execute_reply": "2023-01-28T17:15:21.576918Z"
    },
    "papermill": {
     "duration": 0.019416,
     "end_time": "2023-01-28T17:15:21.580409",
     "exception": false,
     "start_time": "2023-01-28T17:15:21.560993",
     "status": "completed"
    },
    "tags": []
   },
   "outputs": [],
   "source": [
    "f = make_quad(3, 2, 1)"
   ]
  },
  {
   "cell_type": "markdown",
   "id": "81068f60",
   "metadata": {
    "papermill": {
     "duration": 0.00969,
     "end_time": "2023-01-28T17:15:21.601176",
     "exception": false,
     "start_time": "2023-01-28T17:15:21.591486",
     "status": "completed"
    },
    "tags": []
   },
   "source": [
    "Short sidebar on `partial` functions:\n",
    "\n",
    "Partial functions are used to derive a specialized function with fewer parameters from the original function by setting constant values to a certain number of arguments. Python Partial functions make code more reusable without altering the original function."
   ]
  },
  {
   "cell_type": "code",
   "execution_count": 8,
   "id": "24e08780",
   "metadata": {
    "execution": {
     "iopub.execute_input": "2023-01-28T17:15:21.624711Z",
     "iopub.status.busy": "2023-01-28T17:15:21.623612Z",
     "iopub.status.idle": "2023-01-28T17:15:21.631640Z",
     "shell.execute_reply": "2023-01-28T17:15:21.630536Z"
    },
    "papermill": {
     "duration": 0.022709,
     "end_time": "2023-01-28T17:15:21.634258",
     "exception": false,
     "start_time": "2023-01-28T17:15:21.611549",
     "status": "completed"
    },
    "tags": []
   },
   "outputs": [
    {
     "data": {
      "text/plain": [
       "functools.partial(<function quad at 0x7f3594840320>, 3, 2, 1)"
      ]
     },
     "execution_count": 8,
     "metadata": {},
     "output_type": "execute_result"
    }
   ],
   "source": [
    "f"
   ]
  },
  {
   "cell_type": "markdown",
   "id": "487c28fe",
   "metadata": {
    "papermill": {
     "duration": 0.009834,
     "end_time": "2023-01-28T17:15:21.655670",
     "exception": false,
     "start_time": "2023-01-28T17:15:21.645836",
     "status": "completed"
    },
    "tags": []
   },
   "source": [
    "Unlike `lambda`, `partial` functions can be examined for inner details."
   ]
  },
  {
   "cell_type": "code",
   "execution_count": 9,
   "id": "69155ffa",
   "metadata": {
    "execution": {
     "iopub.execute_input": "2023-01-28T17:15:21.678402Z",
     "iopub.status.busy": "2023-01-28T17:15:21.677496Z",
     "iopub.status.idle": "2023-01-28T17:15:21.684819Z",
     "shell.execute_reply": "2023-01-28T17:15:21.683786Z"
    },
    "papermill": {
     "duration": 0.021225,
     "end_time": "2023-01-28T17:15:21.687229",
     "exception": false,
     "start_time": "2023-01-28T17:15:21.666004",
     "status": "completed"
    },
    "tags": []
   },
   "outputs": [
    {
     "data": {
      "text/plain": [
       "(3, 2, 1)"
      ]
     },
     "execution_count": 9,
     "metadata": {},
     "output_type": "execute_result"
    }
   ],
   "source": [
    "f.args"
   ]
  },
  {
   "cell_type": "code",
   "execution_count": 10,
   "id": "497857a2",
   "metadata": {
    "execution": {
     "iopub.execute_input": "2023-01-28T17:15:21.710477Z",
     "iopub.status.busy": "2023-01-28T17:15:21.709520Z",
     "iopub.status.idle": "2023-01-28T17:15:21.717181Z",
     "shell.execute_reply": "2023-01-28T17:15:21.716169Z"
    },
    "papermill": {
     "duration": 0.02179,
     "end_time": "2023-01-28T17:15:21.719609",
     "exception": false,
     "start_time": "2023-01-28T17:15:21.697819",
     "status": "completed"
    },
    "tags": []
   },
   "outputs": [
    {
     "data": {
      "text/plain": [
       "<function __main__.quad(a, b, c, x)>"
      ]
     },
     "execution_count": 10,
     "metadata": {},
     "output_type": "execute_result"
    }
   ],
   "source": [
    "f.func"
   ]
  },
  {
   "cell_type": "markdown",
   "id": "0fa2c9a8",
   "metadata": {
    "papermill": {
     "duration": 0.009779,
     "end_time": "2023-01-28T17:15:21.739861",
     "exception": false,
     "start_time": "2023-01-28T17:15:21.730082",
     "status": "completed"
    },
    "tags": []
   },
   "source": [
    "Let's generate some random normally distributed data. We will use out quadratic functiomn to 'fit' this data."
   ]
  },
  {
   "cell_type": "code",
   "execution_count": 11,
   "id": "ff477e7c",
   "metadata": {
    "execution": {
     "iopub.execute_input": "2023-01-28T17:15:21.762709Z",
     "iopub.status.busy": "2023-01-28T17:15:21.761813Z",
     "iopub.status.idle": "2023-01-28T17:15:21.768722Z",
     "shell.execute_reply": "2023-01-28T17:15:21.767697Z"
    },
    "papermill": {
     "duration": 0.0214,
     "end_time": "2023-01-28T17:15:21.771471",
     "exception": false,
     "start_time": "2023-01-28T17:15:21.750071",
     "status": "completed"
    },
    "tags": []
   },
   "outputs": [],
   "source": [
    "from numpy.random import normal, seed, uniform\n",
    "def noise(x, scale) : return normal(scale = scale, size = x.shape)\n",
    "def add_noise(x, mult, add): return x + (1 + noise(x, mult)) + noise(x, add)"
   ]
  },
  {
   "cell_type": "code",
   "execution_count": 12,
   "id": "fd2ae36c",
   "metadata": {
    "execution": {
     "iopub.execute_input": "2023-01-28T17:15:21.793634Z",
     "iopub.status.busy": "2023-01-28T17:15:21.793239Z",
     "iopub.status.idle": "2023-01-28T17:15:22.030676Z",
     "shell.execute_reply": "2023-01-28T17:15:22.029441Z"
    },
    "papermill": {
     "duration": 0.251553,
     "end_time": "2023-01-28T17:15:22.033244",
     "exception": false,
     "start_time": "2023-01-28T17:15:21.781691",
     "status": "completed"
    },
    "tags": []
   },
   "outputs": [
    {
     "data": {
      "text/plain": [
       "<matplotlib.collections.PathCollection at 0x7f359267fc50>"
      ]
     },
     "execution_count": 12,
     "metadata": {},
     "output_type": "execute_result"
    },
    {
     "data": {
      "image/png": "[encoded data removed]",
      "text/plain": [
       "<Figure size 432x288 with 1 Axes>"
      ]
     },
     "metadata": {
      "needs_background": "light"
     },
     "output_type": "display_data"
    }
   ],
   "source": [
    "x = torch.linspace(-2, 2, steps=20)[:,None]\n",
    "y = add_noise(f(x), 0.3, 1.5)\n",
    "plt.scatter(x, y)"
   ]
  },
  {
   "cell_type": "markdown",
   "id": "fcdb7d0d",
   "metadata": {
    "papermill": {
     "duration": 0.009979,
     "end_time": "2023-01-28T17:15:22.053757",
     "exception": false,
     "start_time": "2023-01-28T17:15:22.043778",
     "status": "completed"
    },
    "tags": []
   },
   "source": [
    "To see how well our quadratic function fits the data, and to try out different variations of the quad coefficients, let's create an interactive function to plot the data together with the output of the quad function. \n",
    "\n",
    "We can then vary the quad coefficients to try better to get a better fit."
   ]
  },
  {
   "cell_type": "code",
   "execution_count": 13,
   "id": "a354346f",
   "metadata": {
    "execution": {
     "iopub.execute_input": "2023-01-28T17:15:22.076240Z",
     "iopub.status.busy": "2023-01-28T17:15:22.075833Z",
     "iopub.status.idle": "2023-01-28T17:15:22.080621Z",
     "shell.execute_reply": "2023-01-28T17:15:22.079416Z"
    },
    "papermill": {
     "duration": 0.018926,
     "end_time": "2023-01-28T17:15:22.083102",
     "exception": false,
     "start_time": "2023-01-28T17:15:22.064176",
     "status": "completed"
    },
    "tags": []
   },
   "outputs": [],
   "source": [
    "from ipywidgets import interact"
   ]
  },
  {
   "cell_type": "code",
   "execution_count": 14,
   "id": "c8f84cdb",
   "metadata": {
    "execution": {
     "iopub.execute_input": "2023-01-28T17:15:22.106157Z",
     "iopub.status.busy": "2023-01-28T17:15:22.105397Z",
     "iopub.status.idle": "2023-01-28T17:15:22.376463Z",
     "shell.execute_reply": "2023-01-28T17:15:22.375051Z"
    },
    "papermill": {
     "duration": 0.28568,
     "end_time": "2023-01-28T17:15:22.379214",
     "exception": false,
     "start_time": "2023-01-28T17:15:22.093534",
     "status": "completed"
    },
    "tags": []
   },
   "outputs": [
    {
     "data": {
      "application/vnd.jupyter.widget-view+json": {
       "model_id": "321b6adff1034e85ad3cd18eb7221afd",
       "version_major": 2,
       "version_minor": 0
      },
      "text/plain": [
       "interactive(children=(FloatSlider(value=1.5, description='a', max=4.5, min=-1.5), FloatSlider(value=1.5, descr…"
      ]
     },
     "metadata": {},
     "output_type": "display_data"
    }
   ],
   "source": [
    "@interact(a = 1.5, b = 1.5, c = 1.5)\n",
    "def plot_quad(a, b, c):\n",
    "    plot_function(make_quad(a, b, c))\n",
    "    plt.scatter(x, y)"
   ]
  },
  {
   "cell_type": "markdown",
   "id": "e81e7b86",
   "metadata": {
    "papermill": {
     "duration": 0.01032,
     "end_time": "2023-01-28T17:15:22.402071",
     "exception": false,
     "start_time": "2023-01-28T17:15:22.391751",
     "status": "completed"
    },
    "tags": []
   },
   "source": [
    "Playing with the interactive widget was fun but judging whether a particular combination of coefficients is better than previous combinations was very subjective. \n",
    "\n",
    "Let's correct that by creating a `loss` function. The function will take the predictions ($\\hat y$) and actual observations ($y$) and calculate the Mean Square Error (MSE)"
   ]
  },
  {
   "cell_type": "code",
   "execution_count": 15,
   "id": "e25942d8",
   "metadata": {
    "execution": {
     "iopub.execute_input": "2023-01-28T17:15:22.426136Z",
     "iopub.status.busy": "2023-01-28T17:15:22.425251Z",
     "iopub.status.idle": "2023-01-28T17:15:22.430608Z",
     "shell.execute_reply": "2023-01-28T17:15:22.429824Z"
    },
    "papermill": {
     "duration": 0.020036,
     "end_time": "2023-01-28T17:15:22.432755",
     "exception": false,
     "start_time": "2023-01-28T17:15:22.412719",
     "status": "completed"
    },
    "tags": []
   },
   "outputs": [],
   "source": [
    "def mse(pred, actual) : return ((pred - actual) ** 2).mean()"
   ]
  },
  {
   "cell_type": "markdown",
   "id": "df05e218",
   "metadata": {
    "papermill": {
     "duration": 0.010212,
     "end_time": "2023-01-28T17:15:22.453665",
     "exception": false,
     "start_time": "2023-01-28T17:15:22.443453",
     "status": "completed"
    },
    "tags": []
   },
   "source": [
    "Next, we update our interactive function to add MSE to the plot so we can easily tell whether the new coefficient setting is improved and degraded the model."
   ]
  },
  {
   "cell_type": "code",
   "execution_count": 16,
   "id": "ebde953b",
   "metadata": {
    "execution": {
     "iopub.execute_input": "2023-01-28T17:15:22.476955Z",
     "iopub.status.busy": "2023-01-28T17:15:22.476523Z",
     "iopub.status.idle": "2023-01-28T17:15:22.743714Z",
     "shell.execute_reply": "2023-01-28T17:15:22.742548Z"
    },
    "papermill": {
     "duration": 0.282671,
     "end_time": "2023-01-28T17:15:22.747030",
     "exception": false,
     "start_time": "2023-01-28T17:15:22.464359",
     "status": "completed"
    },
    "tags": []
   },
   "outputs": [
    {
     "data": {
      "application/vnd.jupyter.widget-view+json": {
       "model_id": "e93a4edb920d494fbcc3f912ec663e9b",
       "version_major": 2,
       "version_minor": 0
      },
      "text/plain": [
       "interactive(children=(FloatSlider(value=1.5, description='a', max=4.5, min=-1.5), FloatSlider(value=1.5, descr…"
      ]
     },
     "metadata": {},
     "output_type": "display_data"
    }
   ],
   "source": [
    "@interact(a = 1.5, b = 1.5, c = 1.5)\n",
    "def plot_quad(a, b, c):\n",
    "    f = make_quad(a, b, c)\n",
    "    loss = mse(f(x), y)\n",
    "    title = \"MSE: \" + str(loss)\n",
    "    plot_function(f, title=f'MSE: {loss:.2f}')\n",
    "    plt.scatter(x, y)"
   ]
  },
  {
   "cell_type": "markdown",
   "id": "7df7567e",
   "metadata": {
    "papermill": {
     "duration": 0.010628,
     "end_time": "2023-01-28T17:15:22.771053",
     "exception": false,
     "start_time": "2023-01-28T17:15:22.760425",
     "status": "completed"
    },
    "tags": []
   },
   "source": [
    "Cool! That was better but it would be great if finding the best combination of coefficients - i.e. smallest MSE - could be automated. After all, that is our key objective.\n",
    "\n",
    "Let's wrap the creating of the loss function and calculation of the MSE into a single function `quad_mse`"
   ]
  },
  {
   "cell_type": "code",
   "execution_count": 17,
   "id": "afa5ad6e",
   "metadata": {
    "execution": {
     "iopub.execute_input": "2023-01-28T17:15:22.795371Z",
     "iopub.status.busy": "2023-01-28T17:15:22.794520Z",
     "iopub.status.idle": "2023-01-28T17:15:22.800000Z",
     "shell.execute_reply": "2023-01-28T17:15:22.799057Z"
    },
    "papermill": {
     "duration": 0.020389,
     "end_time": "2023-01-28T17:15:22.802256",
     "exception": false,
     "start_time": "2023-01-28T17:15:22.781867",
     "status": "completed"
    },
    "tags": []
   },
   "outputs": [],
   "source": [
    "def quad_mse(params):\n",
    "    f = make_quad(*params)\n",
    "    return mse(f(x), y)"
   ]
  },
  {
   "cell_type": "markdown",
   "id": "4ec1dd4c",
   "metadata": {
    "papermill": {
     "duration": 0.010523,
     "end_time": "2023-01-28T17:15:22.824036",
     "exception": false,
     "start_time": "2023-01-28T17:15:22.813513",
     "status": "completed"
    },
    "tags": []
   },
   "source": [
    "For sanity check, let's compute MSE using the `quad_mse` our default coefficient settings `[1.5, 1.5, 1.5]`."
   ]
  },
  {
   "cell_type": "code",
   "execution_count": 18,
   "id": "1a2e1c69",
   "metadata": {
    "execution": {
     "iopub.execute_input": "2023-01-28T17:15:22.847701Z",
     "iopub.status.busy": "2023-01-28T17:15:22.847069Z",
     "iopub.status.idle": "2023-01-28T17:15:22.854628Z",
     "shell.execute_reply": "2023-01-28T17:15:22.853607Z"
    },
    "papermill": {
     "duration": 0.022121,
     "end_time": "2023-01-28T17:15:22.856884",
     "exception": false,
     "start_time": "2023-01-28T17:15:22.834763",
     "status": "completed"
    },
    "tags": []
   },
   "outputs": [
    {
     "data": {
      "text/plain": [
       "tensor(16.9808, dtype=torch.float64)"
      ]
     },
     "execution_count": 18,
     "metadata": {},
     "output_type": "execute_result"
    }
   ],
   "source": [
    "quad_mse([1.5, 1.5, 1.5])"
   ]
  },
  {
   "cell_type": "markdown",
   "id": "9ee9c854",
   "metadata": {
    "papermill": {
     "duration": 0.01062,
     "end_time": "2023-01-28T17:15:22.878439",
     "exception": false,
     "start_time": "2023-01-28T17:15:22.867819",
     "status": "completed"
    },
    "tags": []
   },
   "source": [
    "This is fun! Let's compute MSE at another set of coefficients. \n",
    "\n",
    "Much better!"
   ]
  },
  {
   "cell_type": "code",
   "execution_count": 19,
   "id": "a785fbc0",
   "metadata": {
    "execution": {
     "iopub.execute_input": "2023-01-28T17:15:22.901958Z",
     "iopub.status.busy": "2023-01-28T17:15:22.901503Z",
     "iopub.status.idle": "2023-01-28T17:15:22.909319Z",
     "shell.execute_reply": "2023-01-28T17:15:22.908324Z"
    },
    "papermill": {
     "duration": 0.022202,
     "end_time": "2023-01-28T17:15:22.911428",
     "exception": false,
     "start_time": "2023-01-28T17:15:22.889226",
     "status": "completed"
    },
    "tags": []
   },
   "outputs": [
    {
     "data": {
      "text/plain": [
       "tensor(3.9920, dtype=torch.float64)"
      ]
     },
     "execution_count": 19,
     "metadata": {},
     "output_type": "execute_result"
    }
   ],
   "source": [
    "quad_mse([3.0, 1.5, 1.5])"
   ]
  },
  {
   "cell_type": "markdown",
   "id": "41e29c5a",
   "metadata": {
    "papermill": {
     "duration": 0.01064,
     "end_time": "2023-01-28T17:15:22.932945",
     "exception": false,
     "start_time": "2023-01-28T17:15:22.922305",
     "status": "completed"
    },
    "tags": []
   },
   "source": [
    "And once more. \n",
    "\n",
    "Oops, the loss increased! We will have to undo last change."
   ]
  },
  {
   "cell_type": "code",
   "execution_count": 20,
   "id": "32441c68",
   "metadata": {
    "execution": {
     "iopub.execute_input": "2023-01-28T17:15:22.957774Z",
     "iopub.status.busy": "2023-01-28T17:15:22.957134Z",
     "iopub.status.idle": "2023-01-28T17:15:22.965096Z",
     "shell.execute_reply": "2023-01-28T17:15:22.963955Z"
    },
    "papermill": {
     "duration": 0.023468,
     "end_time": "2023-01-28T17:15:22.967555",
     "exception": false,
     "start_time": "2023-01-28T17:15:22.944087",
     "status": "completed"
    },
    "tags": []
   },
   "outputs": [
    {
     "data": {
      "text/plain": [
       "tensor(3.5585, dtype=torch.float64)"
      ]
     },
     "execution_count": 20,
     "metadata": {},
     "output_type": "execute_result"
    }
   ],
   "source": [
    "quad_mse([3.5, 1.5, 1.5])"
   ]
  },
  {
   "cell_type": "markdown",
   "id": "22dba063",
   "metadata": {
    "papermill": {
     "duration": 0.010796,
     "end_time": "2023-01-28T17:15:22.989490",
     "exception": false,
     "start_time": "2023-01-28T17:15:22.978694",
     "status": "completed"
    },
    "tags": []
   },
   "source": [
    "We can keep doing this and eventually (hopefully) we will arrive at an acceptable loss. That would give us the optimal coefficients for the quad function to fit the data. This is roughly how a NN does its learning!\n",
    "\n",
    "Short pause - think of the quadratic function as the NN, the quad coefficients as the weights, MSE as the loss function, and modification of coefficients as backward propagation updating the weights."
   ]
  },
  {
   "cell_type": "markdown",
   "id": "cb274de4",
   "metadata": {
    "papermill": {
     "duration": 0.010986,
     "end_time": "2023-01-28T17:15:23.011500",
     "exception": false,
     "start_time": "2023-01-28T17:15:23.000514",
     "status": "completed"
    },
    "tags": []
   },
   "source": [
    "You may have noticed that sometimes a coefficient value had to be increased (decreased) to get a better (lower) loss. And we didn't know ahead of time whether it was a good idea to increase (decrease) a particular coefficient. We simply made the change, observed the resulting loss, and only then did we know whether or not the model had improved.\n",
    "\n",
    "Wouldn't it be nice if we knew whether to increase or decrease a particular coefficient **before** making that change? That's where the gradients comes in!"
   ]
  },
  {
   "cell_type": "markdown",
   "id": "edac0248",
   "metadata": {
    "papermill": {
     "duration": 0.010865,
     "end_time": "2023-01-28T17:15:23.033456",
     "exception": false,
     "start_time": "2023-01-28T17:15:23.022591",
     "status": "completed"
    },
    "tags": []
   },
   "source": [
    "We will leverage tensors to do the heavy lifting. Let's create a `tensor` to calculate the quadratic MSE."
   ]
  },
  {
   "cell_type": "code",
   "execution_count": 21,
   "id": "024a763a",
   "metadata": {
    "execution": {
     "iopub.execute_input": "2023-01-28T17:15:23.057492Z",
     "iopub.status.busy": "2023-01-28T17:15:23.057043Z",
     "iopub.status.idle": "2023-01-28T17:15:23.065186Z",
     "shell.execute_reply": "2023-01-28T17:15:23.064123Z"
    },
    "papermill": {
     "duration": 0.02356,
     "end_time": "2023-01-28T17:15:23.068110",
     "exception": false,
     "start_time": "2023-01-28T17:15:23.044550",
     "status": "completed"
    },
    "tags": []
   },
   "outputs": [
    {
     "data": {
      "text/plain": [
       "tensor([1.5000, 1.5000, 1.5000])"
      ]
     },
     "execution_count": 21,
     "metadata": {},
     "output_type": "execute_result"
    }
   ],
   "source": [
    "a_tensor = tensor([1.5, 1.5, 1.5])\n",
    "a_tensor"
   ]
  },
  {
   "cell_type": "markdown",
   "id": "cc2783ea",
   "metadata": {
    "papermill": {
     "duration": 0.011353,
     "end_time": "2023-01-28T17:15:23.091006",
     "exception": false,
     "start_time": "2023-01-28T17:15:23.079653",
     "status": "completed"
    },
    "tags": []
   },
   "source": [
    "next, we tell Pytorch that we'd like to compute gradient at that tensor. \n",
    "\n",
    "Note, Pytorch has flagged (requires_grad) that this tensor requires gradient whenever it's used in calculations"
   ]
  },
  {
   "cell_type": "code",
   "execution_count": 22,
   "id": "b27c391b",
   "metadata": {
    "execution": {
     "iopub.execute_input": "2023-01-28T17:15:23.117087Z",
     "iopub.status.busy": "2023-01-28T17:15:23.116650Z",
     "iopub.status.idle": "2023-01-28T17:15:23.124384Z",
     "shell.execute_reply": "2023-01-28T17:15:23.123498Z"
    },
    "papermill": {
     "duration": 0.02332,
     "end_time": "2023-01-28T17:15:23.126670",
     "exception": false,
     "start_time": "2023-01-28T17:15:23.103350",
     "status": "completed"
    },
    "tags": []
   },
   "outputs": [
    {
     "data": {
      "text/plain": [
       "tensor([1.5000, 1.5000, 1.5000], requires_grad=True)"
      ]
     },
     "execution_count": 22,
     "metadata": {},
     "output_type": "execute_result"
    }
   ],
   "source": [
    "a_tensor.requires_grad_()\n",
    "a_tensor"
   ]
  },
  {
   "cell_type": "markdown",
   "id": "418d659a",
   "metadata": {
    "papermill": {
     "duration": 0.011127,
     "end_time": "2023-01-28T17:15:23.149468",
     "exception": false,
     "start_time": "2023-01-28T17:15:23.138341",
     "status": "completed"
    },
    "tags": []
   },
   "source": [
    "Let's compute MSE using the tensor. \n",
    "\n",
    "Note, in the output of the calculation Pytorch informs us that it knows how to calculate the gradients"
   ]
  },
  {
   "cell_type": "code",
   "execution_count": 23,
   "id": "c63d9cfd",
   "metadata": {
    "execution": {
     "iopub.execute_input": "2023-01-28T17:15:23.174678Z",
     "iopub.status.busy": "2023-01-28T17:15:23.174207Z",
     "iopub.status.idle": "2023-01-28T17:15:23.183010Z",
     "shell.execute_reply": "2023-01-28T17:15:23.181957Z"
    },
    "papermill": {
     "duration": 0.023708,
     "end_time": "2023-01-28T17:15:23.185205",
     "exception": false,
     "start_time": "2023-01-28T17:15:23.161497",
     "status": "completed"
    },
    "tags": []
   },
   "outputs": [
    {
     "data": {
      "text/plain": [
       "tensor(16.9808, dtype=torch.float64, grad_fn=<MeanBackward0>)"
      ]
     },
     "execution_count": 23,
     "metadata": {},
     "output_type": "execute_result"
    }
   ],
   "source": [
    "loss = quad_mse(a_tensor)\n",
    "loss"
   ]
  },
  {
   "cell_type": "markdown",
   "id": "7fd039ed",
   "metadata": {
    "papermill": {
     "duration": 0.011619,
     "end_time": "2023-01-28T17:15:23.208978",
     "exception": false,
     "start_time": "2023-01-28T17:15:23.197359",
     "status": "completed"
    },
    "tags": []
   },
   "source": [
    "Let's tell Pytorch to calculate the gradients. \n",
    "\n",
    "Nothing seems to have happened, however... "
   ]
  },
  {
   "cell_type": "code",
   "execution_count": 24,
   "id": "a9a3f218",
   "metadata": {
    "execution": {
     "iopub.execute_input": "2023-01-28T17:15:23.234155Z",
     "iopub.status.busy": "2023-01-28T17:15:23.233699Z",
     "iopub.status.idle": "2023-01-28T17:15:23.253349Z",
     "shell.execute_reply": "2023-01-28T17:15:23.251924Z"
    },
    "papermill": {
     "duration": 0.035694,
     "end_time": "2023-01-28T17:15:23.256150",
     "exception": false,
     "start_time": "2023-01-28T17:15:23.220456",
     "status": "completed"
    },
    "tags": []
   },
   "outputs": [],
   "source": [
    "loss.backward()"
   ]
  },
  {
   "cell_type": "markdown",
   "id": "c721af8d",
   "metadata": {
    "papermill": {
     "duration": 0.011272,
     "end_time": "2023-01-28T17:15:23.279298",
     "exception": false,
     "start_time": "2023-01-28T17:15:23.268026",
     "status": "completed"
    },
    "tags": []
   },
   "source": [
    "Pytorch has updated the tensor with the gradients of each coefficient!\n",
    "\n",
    "We can see that:\n",
    "\n",
    "- loss will go down by a lot if we increase the first parameter **a**\n",
    "- loss will go down somewhat if we increase the second parameter **b**\n",
    "- loss will go down if we increase the third parameter **c**\n",
    "\n",
    "We have a lot of the  machinery in place to use the quadratic function (model) to predict (y) from the input (x), calculate gradients of model parameters, modify parameters, and repeat until the loss reaches an acceptable threshold."
   ]
  },
  {
   "cell_type": "code",
   "execution_count": 25,
   "id": "bac9e37c",
   "metadata": {
    "execution": {
     "iopub.execute_input": "2023-01-28T17:15:23.304777Z",
     "iopub.status.busy": "2023-01-28T17:15:23.304335Z",
     "iopub.status.idle": "2023-01-28T17:15:23.311670Z",
     "shell.execute_reply": "2023-01-28T17:15:23.310843Z"
    },
    "papermill": {
     "duration": 0.023017,
     "end_time": "2023-01-28T17:15:23.313924",
     "exception": false,
     "start_time": "2023-01-28T17:15:23.290907",
     "status": "completed"
    },
    "tags": []
   },
   "outputs": [
    {
     "data": {
      "text/plain": [
       "tensor([-14.5033,  -1.7261,  -6.7942])"
      ]
     },
     "execution_count": 25,
     "metadata": {},
     "output_type": "execute_result"
    }
   ],
   "source": [
    "a_tensor.grad"
   ]
  }
 ],
 "metadata": {
  "kernelspec": {
   "display_name": "Python 3",
   "language": "python",
   "name": "python3"
  },
  "language_info": {
   "codemirror_mode": {
    "name": "ipython",
    "version": 3
   },
   "file_extension": ".py",
   "mimetype": "text/x-python",
   "name": "python",
   "nbconvert_exporter": "python",
   "pygments_lexer": "ipython3",
   "version": "3.7.12"
  },
  "papermill": {
   "default_parameters": {},
   "duration": 18.729037,
   "end_time": "2023-01-28T17:15:24.551065",
   "environment_variables": {},
   "exception": null,
   "input_path": "__notebook__.ipynb",
   "output_path": "__notebook__.ipynb",
   "parameters": {},
   "start_time": "2023-01-28T17:15:05.822028",
   "version": "2.3.4"
  },
  "widgets": {
   "application/vnd.jupyter.widget-state+json": {
    "state": {
     "132fae5db2a7490f87dd638a8f6c23e7": {
      "model_module": "@jupyter-widgets/controls",
      "model_module_version": "1.5.0",
      "model_name": "SliderStyleModel",
      "state": {
       "_model_module": "@jupyter-widgets/controls",
       "_model_module_version": "1.5.0",
       "_model_name": "SliderStyleModel",
       "_view_count": null,
       "_view_module": "@jupyter-widgets/base",
       "_view_module_version": "1.2.0",
       "_view_name": "StyleView",
       "description_width": "",
       "handle_color": null
      }
     },
     "14b602a088a7498eb9f0c6dca3067aa3": {
      "model_module": "@jupyter-widgets/controls",
      "model_module_version": "1.5.0",
      "model_name": "SliderStyleModel",
      "state": {
       "_model_module": "@jupyter-widgets/controls",
       "_model_module_version": "1.5.0",
       "_model_name": "SliderStyleModel",
       "_view_count": null,
       "_view_module": "@jupyter-widgets/base",
       "_view_module_version": "1.2.0",
       "_view_name": "StyleView",
       "description_width": "",
       "handle_color": null
      }
     },
     "1dd88d96a22b4338a4a632ba1a2d60df": {
      "model_module": "@jupyter-widgets/controls",
      "model_module_version": "1.5.0",
      "model_name": "SliderStyleModel",
      "state": {
       "_model_module": "@jupyter-widgets/controls",
       "_model_module_version": "1.5.0",
       "_model_name": "SliderStyleModel",
       "_view_count": null,
       "_view_module": "@jupyter-widgets/base",
       "_view_module_version": "1.2.0",
       "_view_name": "StyleView",
       "description_width": "",
       "handle_color": null
      }
     },
     "321b6adff1034e85ad3cd18eb7221afd": {
      "model_module": "@jupyter-widgets/controls",
      "model_module_version": "1.5.0",
      "model_name": "VBoxModel",
      "state": {
       "_dom_classes": [
        "widget-interact"
       ],
       "_model_module": "@jupyter-widgets/controls",
       "_model_module_version": "1.5.0",
       "_model_name": "VBoxModel",
       "_view_count": null,
       "_view_module": "@jupyter-widgets/controls",
       "_view_module_version": "1.5.0",
       "_view_name": "VBoxView",
       "box_style": "",
       "children": [
        "IPY_MODEL_c7fe363afcc04fe5b021f7773ece808a",
        "IPY_MODEL_713bffac3e504eb78ba177c02e02b4ff",
        "IPY_MODEL_9b2fdfaefd7f4b22b18ae6f1a386d6ee",
        "IPY_MODEL_93770bcb7a2743239bcace55dab4c48e"
       ],
       "layout": "IPY_MODEL_c6d36e424d7c4d3586ba0db2b281a836"
      }
     },
     "39cafe2a3a354c4c9d07af1b9bc4856e": {
      "model_module": "@jupyter-widgets/base",
      "model_module_version": "1.2.0",
      "model_name": "LayoutModel",
      "state": {
       "_model_module": "@jupyter-widgets/base",
       "_model_module_version": "1.2.0",
       "_model_name": "LayoutModel",
       "_view_count": null,
       "_view_module": "@jupyter-widgets/base",
       "_view_module_version": "1.2.0",
       "_view_name": "LayoutView",
       "align_content": null,
       "align_items": null,
       "align_self": null,
       "border": null,
       "bottom": null,
       "display": null,
       "flex": null,
       "flex_flow": null,
       "grid_area": null,
       "grid_auto_columns": null,
       "grid_auto_flow": null,
       "grid_auto_rows": null,
       "grid_column": null,
       "grid_gap": null,
       "grid_row": null,
       "grid_template_areas": null,
       "grid_template_columns": null,
       "grid_template_rows": null,
       "height": null,
       "justify_content": null,
       "justify_items": null,
       "left": null,
       "margin": null,
       "max_height": null,
       "max_width": null,
       "min_height": null,
       "min_width": null,
       "object_fit": null,
       "object_position": null,
       "order": null,
       "overflow": null,
       "overflow_x": null,
       "overflow_y": null,
       "padding": null,
       "right": null,
       "top": null,
       "visibility": null,
       "width": null
      }
     },
     "4c771eed3b374bdebda3261897d16e94": {
      "model_module": "@jupyter-widgets/controls",
      "model_module_version": "1.5.0",
      "model_name": "SliderStyleModel",
      "state": {
       "_model_module": "@jupyter-widgets/controls",
       "_model_module_version": "1.5.0",
       "_model_name": "SliderStyleModel",
       "_view_count": null,
       "_view_module": "@jupyter-widgets/base",
       "_view_module_version": "1.2.0",
       "_view_name": "StyleView",
       "description_width": "",
       "handle_color": null
      }
     },
     "713bffac3e504eb78ba177c02e02b4ff": {
      "model_module": "@jupyter-widgets/controls",
      "model_module_version": "1.5.0",
      "model_name": "FloatSliderModel",
      "state": {
       "_dom_classes": [],
       "_model_module": "@jupyter-widgets/controls",
       "_model_module_version": "1.5.0",
       "_model_name": "FloatSliderModel",
       "_view_count": null,
       "_view_module": "@jupyter-widgets/controls",
       "_view_module_version": "1.5.0",
       "_view_name": "FloatSliderView",
       "continuous_update": true,
       "description": "b",
       "description_tooltip": null,
       "disabled": false,
       "layout": "IPY_MODEL_ed2d361c92e04d2f81eb13364bd24fc6",
       "max": 4.5,
       "min": -1.5,
       "orientation": "horizontal",
       "readout": true,
       "readout_format": ".2f",
       "step": 0.1,
       "style": "IPY_MODEL_aab9a8b0981a4c44b66b929cf58a312b",
       "value": 1.5
      }
     },
     "7b2a33025c974a88b0fe2fe4c917565a": {
      "model_module": "@jupyter-widgets/output",
      "model_module_version": "1.0.0",
      "model_name": "OutputModel",
      "state": {
       "_dom_classes": [],
       "_model_module": "@jupyter-widgets/output",
       "_model_module_version": "1.0.0",
       "_model_name": "OutputModel",
       "_view_count": null,
       "_view_module": "@jupyter-widgets/output",
       "_view_module_version": "1.0.0",
       "_view_name": "OutputView",
       "layout": "IPY_MODEL_acba1a8c3fb245cfa612ca94e1cb6cf8",
       "msg_id": "",
       "outputs": [
        {
         "data": {
          "image/png": "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\n",
          "text/plain": "<Figure size 432x288 with 1 Axes>"
         },
         "metadata": {
          "needs_background": "light"
         },
         "output_type": "display_data"
        }
       ]
      }
     },
     "805b218046dd49c0935151b019d5dd50": {
      "model_module": "@jupyter-widgets/base",
      "model_module_version": "1.2.0",
      "model_name": "LayoutModel",
      "state": {
       "_model_module": "@jupyter-widgets/base",
       "_model_module_version": "1.2.0",
       "_model_name": "LayoutModel",
       "_view_count": null,
       "_view_module": "@jupyter-widgets/base",
       "_view_module_version": "1.2.0",
       "_view_name": "LayoutView",
       "align_content": null,
       "align_items": null,
       "align_self": null,
       "border": null,
       "bottom": null,
       "display": null,
       "flex": null,
       "flex_flow": null,
       "grid_area": null,
       "grid_auto_columns": null,
       "grid_auto_flow": null,
       "grid_auto_rows": null,
       "grid_column": null,
       "grid_gap": null,
       "grid_row": null,
       "grid_template_areas": null,
       "grid_template_columns": null,
       "grid_template_rows": null,
       "height": null,
       "justify_content": null,
       "justify_items": null,
       "left": null,
       "margin": null,
       "max_height": null,
       "max_width": null,
       "min_height": null,
       "min_width": null,
       "object_fit": null,
       "object_position": null,
       "order": null,
       "overflow": null,
       "overflow_x": null,
       "overflow_y": null,
       "padding": null,
       "right": null,
       "top": null,
       "visibility": null,
       "width": null
      }
     },
     "93770bcb7a2743239bcace55dab4c48e": {
      "model_module": "@jupyter-widgets/output",
      "model_module_version": "1.0.0",
      "model_name": "OutputModel",
      "state": {
       "_dom_classes": [],
       "_model_module": "@jupyter-widgets/output",
       "_model_module_version": "1.0.0",
       "_model_name": "OutputModel",
       "_view_count": null,
       "_view_module": "@jupyter-widgets/output",
       "_view_module_version": "1.0.0",
       "_view_name": "OutputView",
       "layout": "IPY_MODEL_805b218046dd49c0935151b019d5dd50",
       "msg_id": "",
       "outputs": [
        {
         "data": {
          "image/png": "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\n",
          "text/plain": "<Figure size 432x288 with 1 Axes>"
         },
         "metadata": {
          "needs_background": "light"
         },
         "output_type": "display_data"
        }
       ]
      }
     },
     "944e46aed48e496297e6bfa12814b1e5": {
      "model_module": "@jupyter-widgets/base",
      "model_module_version": "1.2.0",
      "model_name": "LayoutModel",
      "state": {
       "_model_module": "@jupyter-widgets/base",
       "_model_module_version": "1.2.0",
       "_model_name": "LayoutModel",
       "_view_count": null,
       "_view_module": "@jupyter-widgets/base",
       "_view_module_version": "1.2.0",
       "_view_name": "LayoutView",
       "align_content": null,
       "align_items": null,
       "align_self": null,
       "border": null,
       "bottom": null,
       "display": null,
       "flex": null,
       "flex_flow": null,
       "grid_area": null,
       "grid_auto_columns": null,
       "grid_auto_flow": null,
       "grid_auto_rows": null,
       "grid_column": null,
       "grid_gap": null,
       "grid_row": null,
       "grid_template_areas": null,
       "grid_template_columns": null,
       "grid_template_rows": null,
       "height": null,
       "justify_content": null,
       "justify_items": null,
       "left": null,
       "margin": null,
       "max_height": null,
       "max_width": null,
       "min_height": null,
       "min_width": null,
       "object_fit": null,
       "object_position": null,
       "order": null,
       "overflow": null,
       "overflow_x": null,
       "overflow_y": null,
       "padding": null,
       "right": null,
       "top": null,
       "visibility": null,
       "width": null
      }
     },
     "977437db0cf9420cbd5ec89e8bc5e86a": {
      "model_module": "@jupyter-widgets/base",
      "model_module_version": "1.2.0",
      "model_name": "LayoutModel",
      "state": {
       "_model_module": "@jupyter-widgets/base",
       "_model_module_version": "1.2.0",
       "_model_name": "LayoutModel",
       "_view_count": null,
       "_view_module": "@jupyter-widgets/base",
       "_view_module_version": "1.2.0",
       "_view_name": "LayoutView",
       "align_content": null,
       "align_items": null,
       "align_self": null,
       "border": null,
       "bottom": null,
       "display": null,
       "flex": null,
       "flex_flow": null,
       "grid_area": null,
       "grid_auto_columns": null,
       "grid_auto_flow": null,
       "grid_auto_rows": null,
       "grid_column": null,
       "grid_gap": null,
       "grid_row": null,
       "grid_template_areas": null,
       "grid_template_columns": null,
       "grid_template_rows": null,
       "height": null,
       "justify_content": null,
       "justify_items": null,
       "left": null,
       "margin": null,
       "max_height": null,
       "max_width": null,
       "min_height": null,
       "min_width": null,
       "object_fit": null,
       "object_position": null,
       "order": null,
       "overflow": null,
       "overflow_x": null,
       "overflow_y": null,
       "padding": null,
       "right": null,
       "top": null,
       "visibility": null,
       "width": null
      }
     },
     "9b2fdfaefd7f4b22b18ae6f1a386d6ee": {
      "model_module": "@jupyter-widgets/controls",
      "model_module_version": "1.5.0",
      "model_name": "FloatSliderModel",
      "state": {
       "_dom_classes": [],
       "_model_module": "@jupyter-widgets/controls",
       "_model_module_version": "1.5.0",
       "_model_name": "FloatSliderModel",
       "_view_count": null,
       "_view_module": "@jupyter-widgets/controls",
       "_view_module_version": "1.5.0",
       "_view_name": "FloatSliderView",
       "continuous_update": true,
       "description": "c",
       "description_tooltip": null,
       "disabled": false,
       "layout": "IPY_MODEL_caf02726976243a28e3b61ab6bdb72db",
       "max": 4.5,
       "min": -1.5,
       "orientation": "horizontal",
       "readout": true,
       "readout_format": ".2f",
       "step": 0.1,
       "style": "IPY_MODEL_132fae5db2a7490f87dd638a8f6c23e7",
       "value": 1.5
      }
     },
     "9d59716a28ad4888a739e494c6e3ebd0": {
      "model_module": "@jupyter-widgets/controls",
      "model_module_version": "1.5.0",
      "model_name": "FloatSliderModel",
      "state": {
       "_dom_classes": [],
       "_model_module": "@jupyter-widgets/controls",
       "_model_module_version": "1.5.0",
       "_model_name": "FloatSliderModel",
       "_view_count": null,
       "_view_module": "@jupyter-widgets/controls",
       "_view_module_version": "1.5.0",
       "_view_name": "FloatSliderView",
       "continuous_update": true,
       "description": "c",
       "description_tooltip": null,
       "disabled": false,
       "layout": "IPY_MODEL_df6e8e9232f946cdac2c44cf2b9a9496",
       "max": 4.5,
       "min": -1.5,
       "orientation": "horizontal",
       "readout": true,
       "readout_format": ".2f",
       "step": 0.1,
       "style": "IPY_MODEL_4c771eed3b374bdebda3261897d16e94",
       "value": 1.5
      }
     },
     "9e8ef5b23a2f4617a6325884929f8f18": {
      "model_module": "@jupyter-widgets/controls",
      "model_module_version": "1.5.0",
      "model_name": "FloatSliderModel",
      "state": {
       "_dom_classes": [],
       "_model_module": "@jupyter-widgets/controls",
       "_model_module_version": "1.5.0",
       "_model_name": "FloatSliderModel",
       "_view_count": null,
       "_view_module": "@jupyter-widgets/controls",
       "_view_module_version": "1.5.0",
       "_view_name": "FloatSliderView",
       "continuous_update": true,
       "description": "a",
       "description_tooltip": null,
       "disabled": false,
       "layout": "IPY_MODEL_b617dd57e9ac4262aebeaedc692f8824",
       "max": 4.5,
       "min": -1.5,
       "orientation": "horizontal",
       "readout": true,
       "readout_format": ".2f",
       "step": 0.1,
       "style": "IPY_MODEL_f37f217f97164e068ba90f6d780acb48",
       "value": 1.5
      }
     },
     "aab9a8b0981a4c44b66b929cf58a312b": {
      "model_module": "@jupyter-widgets/controls",
      "model_module_version": "1.5.0",
      "model_name": "SliderStyleModel",
      "state": {
       "_model_module": "@jupyter-widgets/controls",
       "_model_module_version": "1.5.0",
       "_model_name": "SliderStyleModel",
       "_view_count": null,
       "_view_module": "@jupyter-widgets/base",
       "_view_module_version": "1.2.0",
       "_view_name": "StyleView",
       "description_width": "",
       "handle_color": null
      }
     },
     "acba1a8c3fb245cfa612ca94e1cb6cf8": {
      "model_module": "@jupyter-widgets/base",
      "model_module_version": "1.2.0",
      "model_name": "LayoutModel",
      "state": {
       "_model_module": "@jupyter-widgets/base",
       "_model_module_version": "1.2.0",
       "_model_name": "LayoutModel",
       "_view_count": null,
       "_view_module": "@jupyter-widgets/base",
       "_view_module_version": "1.2.0",
       "_view_name": "LayoutView",
       "align_content": null,
       "align_items": null,
       "align_self": null,
       "border": null,
       "bottom": null,
       "display": null,
       "flex": null,
       "flex_flow": null,
       "grid_area": null,
       "grid_auto_columns": null,
       "grid_auto_flow": null,
       "grid_auto_rows": null,
       "grid_column": null,
       "grid_gap": null,
       "grid_row": null,
       "grid_template_areas": null,
       "grid_template_columns": null,
       "grid_template_rows": null,
       "height": null,
       "justify_content": null,
       "justify_items": null,
       "left": null,
       "margin": null,
       "max_height": null,
       "max_width": null,
       "min_height": null,
       "min_width": null,
       "object_fit": null,
       "object_position": null,
       "order": null,
       "overflow": null,
       "overflow_x": null,
       "overflow_y": null,
       "padding": null,
       "right": null,
       "top": null,
       "visibility": null,
       "width": null
      }
     },
     "b617dd57e9ac4262aebeaedc692f8824": {
      "model_module": "@jupyter-widgets/base",
      "model_module_version": "1.2.0",
      "model_name": "LayoutModel",
      "state": {
       "_model_module": "@jupyter-widgets/base",
       "_model_module_version": "1.2.0",
       "_model_name": "LayoutModel",
       "_view_count": null,
       "_view_module": "@jupyter-widgets/base",
       "_view_module_version": "1.2.0",
       "_view_name": "LayoutView",
       "align_content": null,
       "align_items": null,
       "align_self": null,
       "border": null,
       "bottom": null,
       "display": null,
       "flex": null,
       "flex_flow": null,
       "grid_area": null,
       "grid_auto_columns": null,
       "grid_auto_flow": null,
       "grid_auto_rows": null,
       "grid_column": null,
       "grid_gap": null,
       "grid_row": null,
       "grid_template_areas": null,
       "grid_template_columns": null,
       "grid_template_rows": null,
       "height": null,
       "justify_content": null,
       "justify_items": null,
       "left": null,
       "margin": null,
       "max_height": null,
       "max_width": null,
       "min_height": null,
       "min_width": null,
       "object_fit": null,
       "object_position": null,
       "order": null,
       "overflow": null,
       "overflow_x": null,
       "overflow_y": null,
       "padding": null,
       "right": null,
       "top": null,
       "visibility": null,
       "width": null
      }
     },
     "c6d36e424d7c4d3586ba0db2b281a836": {
      "model_module": "@jupyter-widgets/base",
      "model_module_version": "1.2.0",
      "model_name": "LayoutModel",
      "state": {
       "_model_module": "@jupyter-widgets/base",
       "_model_module_version": "1.2.0",
       "_model_name": "LayoutModel",
       "_view_count": null,
       "_view_module": "@jupyter-widgets/base",
       "_view_module_version": "1.2.0",
       "_view_name": "LayoutView",
       "align_content": null,
       "align_items": null,
       "align_self": null,
       "border": null,
       "bottom": null,
       "display": null,
       "flex": null,
       "flex_flow": null,
       "grid_area": null,
       "grid_auto_columns": null,
       "grid_auto_flow": null,
       "grid_auto_rows": null,
       "grid_column": null,
       "grid_gap": null,
       "grid_row": null,
       "grid_template_areas": null,
       "grid_template_columns": null,
       "grid_template_rows": null,
       "height": null,
       "justify_content": null,
       "justify_items": null,
       "left": null,
       "margin": null,
       "max_height": null,
       "max_width": null,
       "min_height": null,
       "min_width": null,
       "object_fit": null,
       "object_position": null,
       "order": null,
       "overflow": null,
       "overflow_x": null,
       "overflow_y": null,
       "padding": null,
       "right": null,
       "top": null,
       "visibility": null,
       "width": null
      }
     },
     "c7fe363afcc04fe5b021f7773ece808a": {
      "model_module": "@jupyter-widgets/controls",
      "model_module_version": "1.5.0",
      "model_name": "FloatSliderModel",
      "state": {
       "_dom_classes": [],
       "_model_module": "@jupyter-widgets/controls",
       "_model_module_version": "1.5.0",
       "_model_name": "FloatSliderModel",
       "_view_count": null,
       "_view_module": "@jupyter-widgets/controls",
       "_view_module_version": "1.5.0",
       "_view_name": "FloatSliderView",
       "continuous_update": true,
       "description": "a",
       "description_tooltip": null,
       "disabled": false,
       "layout": "IPY_MODEL_977437db0cf9420cbd5ec89e8bc5e86a",
       "max": 4.5,
       "min": -1.5,
       "orientation": "horizontal",
       "readout": true,
       "readout_format": ".2f",
       "step": 0.1,
       "style": "IPY_MODEL_1dd88d96a22b4338a4a632ba1a2d60df",
       "value": 1.5
      }
     },
     "caf02726976243a28e3b61ab6bdb72db": {
      "model_module": "@jupyter-widgets/base",
      "model_module_version": "1.2.0",
      "model_name": "LayoutModel",
      "state": {
       "_model_module": "@jupyter-widgets/base",
       "_model_module_version": "1.2.0",
       "_model_name": "LayoutModel",
       "_view_count": null,
       "_view_module": "@jupyter-widgets/base",
       "_view_module_version": "1.2.0",
       "_view_name": "LayoutView",
       "align_content": null,
       "align_items": null,
       "align_self": null,
       "border": null,
       "bottom": null,
       "display": null,
       "flex": null,
       "flex_flow": null,
       "grid_area": null,
       "grid_auto_columns": null,
       "grid_auto_flow": null,
       "grid_auto_rows": null,
       "grid_column": null,
       "grid_gap": null,
       "grid_row": null,
       "grid_template_areas": null,
       "grid_template_columns": null,
       "grid_template_rows": null,
       "height": null,
       "justify_content": null,
       "justify_items": null,
       "left": null,
       "margin": null,
       "max_height": null,
       "max_width": null,
       "min_height": null,
       "min_width": null,
       "object_fit": null,
       "object_position": null,
       "order": null,
       "overflow": null,
       "overflow_x": null,
       "overflow_y": null,
       "padding": null,
       "right": null,
       "top": null,
       "visibility": null,
       "width": null
      }
     },
     "df6e8e9232f946cdac2c44cf2b9a9496": {
      "model_module": "@jupyter-widgets/base",
      "model_module_version": "1.2.0",
      "model_name": "LayoutModel",
      "state": {
       "_model_module": "@jupyter-widgets/base",
       "_model_module_version": "1.2.0",
       "_model_name": "LayoutModel",
       "_view_count": null,
       "_view_module": "@jupyter-widgets/base",
       "_view_module_version": "1.2.0",
       "_view_name": "LayoutView",
       "align_content": null,
       "align_items": null,
       "align_self": null,
       "border": null,
       "bottom": null,
       "display": null,
       "flex": null,
       "flex_flow": null,
       "grid_area": null,
       "grid_auto_columns": null,
       "grid_auto_flow": null,
       "grid_auto_rows": null,
       "grid_column": null,
       "grid_gap": null,
       "grid_row": null,
       "grid_template_areas": null,
       "grid_template_columns": null,
       "grid_template_rows": null,
       "height": null,
       "justify_content": null,
       "justify_items": null,
       "left": null,
       "margin": null,
       "max_height": null,
       "max_width": null,
       "min_height": null,
       "min_width": null,
       "object_fit": null,
       "object_position": null,
       "order": null,
       "overflow": null,
       "overflow_x": null,
       "overflow_y": null,
       "padding": null,
       "right": null,
       "top": null,
       "visibility": null,
       "width": null
      }
     },
     "e93a4edb920d494fbcc3f912ec663e9b": {
      "model_module": "@jupyter-widgets/controls",
      "model_module_version": "1.5.0",
      "model_name": "VBoxModel",
      "state": {
       "_dom_classes": [
        "widget-interact"
       ],
       "_model_module": "@jupyter-widgets/controls",
       "_model_module_version": "1.5.0",
       "_model_name": "VBoxModel",
       "_view_count": null,
       "_view_module": "@jupyter-widgets/controls",
       "_view_module_version": "1.5.0",
       "_view_name": "VBoxView",
       "box_style": "",
       "children": [
        "IPY_MODEL_9e8ef5b23a2f4617a6325884929f8f18",
        "IPY_MODEL_f46a8639b83c4421bb0060d45ebcbf39",
        "IPY_MODEL_9d59716a28ad4888a739e494c6e3ebd0",
        "IPY_MODEL_7b2a33025c974a88b0fe2fe4c917565a"
       ],
       "layout": "IPY_MODEL_944e46aed48e496297e6bfa12814b1e5"
      }
     },
     "ed2d361c92e04d2f81eb13364bd24fc6": {
      "model_module": "@jupyter-widgets/base",
      "model_module_version": "1.2.0",
      "model_name": "LayoutModel",
      "state": {
       "_model_module": "@jupyter-widgets/base",
       "_model_module_version": "1.2.0",
       "_model_name": "LayoutModel",
       "_view_count": null,
       "_view_module": "@jupyter-widgets/base",
       "_view_module_version": "1.2.0",
       "_view_name": "LayoutView",
       "align_content": null,
       "align_items": null,
       "align_self": null,
       "border": null,
       "bottom": null,
       "display": null,
       "flex": null,
       "flex_flow": null,
       "grid_area": null,
       "grid_auto_columns": null,
       "grid_auto_flow": null,
       "grid_auto_rows": null,
       "grid_column": null,
       "grid_gap": null,
       "grid_row": null,
       "grid_template_areas": null,
       "grid_template_columns": null,
       "grid_template_rows": null,
       "height": null,
       "justify_content": null,
       "justify_items": null,
       "left": null,
       "margin": null,
       "max_height": null,
       "max_width": null,
       "min_height": null,
       "min_width": null,
       "object_fit": null,
       "object_position": null,
       "order": null,
       "overflow": null,
       "overflow_x": null,
       "overflow_y": null,
       "padding": null,
       "right": null,
       "top": null,
       "visibility": null,
       "width": null
      }
     },
     "f37f217f97164e068ba90f6d780acb48": {
      "model_module": "@jupyter-widgets/controls",
      "model_module_version": "1.5.0",
      "model_name": "SliderStyleModel",
      "state": {
       "_model_module": "@jupyter-widgets/controls",
       "_model_module_version": "1.5.0",
       "_model_name": "SliderStyleModel",
       "_view_count": null,
       "_view_module": "@jupyter-widgets/base",
       "_view_module_version": "1.2.0",
       "_view_name": "StyleView",
       "description_width": "",
       "handle_color": null
      }
     },
     "f46a8639b83c4421bb0060d45ebcbf39": {
      "model_module": "@jupyter-widgets/controls",
      "model_module_version": "1.5.0",
      "model_name": "FloatSliderModel",
      "state": {
       "_dom_classes": [],
       "_model_module": "@jupyter-widgets/controls",
       "_model_module_version": "1.5.0",
       "_model_name": "FloatSliderModel",
       "_view_count": null,
       "_view_module": "@jupyter-widgets/controls",
       "_view_module_version": "1.5.0",
       "_view_name": "FloatSliderView",
       "continuous_update": true,
       "description": "b",
       "description_tooltip": null,
       "disabled": false,
       "layout": "IPY_MODEL_39cafe2a3a354c4c9d07af1b9bc4856e",
       "max": 4.5,
       "min": -1.5,
       "orientation": "horizontal",
       "readout": true,
       "readout_format": ".2f",
       "step": 0.1,
       "style": "IPY_MODEL_14b602a088a7498eb9f0c6dca3067aa3",
       "value": 1.5
      }
     }
    },
    "version_major": 2,
    "version_minor": 0
   }
  }
 },
 "nbformat": 4,
 "nbformat_minor": 5
}
