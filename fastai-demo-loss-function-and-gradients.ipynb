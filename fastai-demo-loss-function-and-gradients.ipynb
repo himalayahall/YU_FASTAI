{
 "cells": [
  {
   "cell_type": "code",
   "execution_count": 1,
   "id": "5a704457",
   "metadata": {
    "execution": {
     "iopub.execute_input": "2023-01-27T22:08:21.272058Z",
     "iopub.status.busy": "2023-01-27T22:08:21.271286Z",
     "iopub.status.idle": "2023-01-27T22:08:26.126333Z",
     "shell.execute_reply": "2023-01-27T22:08:26.125033Z"
    },
    "papermill": {
     "duration": 4.872417,
     "end_time": "2023-01-27T22:08:26.129394",
     "exception": false,
     "start_time": "2023-01-27T22:08:21.256977",
     "status": "completed"
    },
    "tags": []
   },
   "outputs": [],
   "source": [
    "from fastai.vision.all import *\n",
    "import pylab as plt\n",
    "\n",
    "random.seed(42)"
   ]
  },
  {
   "cell_type": "markdown",
   "id": "c57e866b",
   "metadata": {
    "papermill": {
     "duration": 0.008384,
     "end_time": "2023-01-27T22:08:26.146872",
     "exception": false,
     "start_time": "2023-01-27T22:08:26.138488",
     "status": "completed"
    },
    "tags": []
   },
   "source": [
    "Define function to plot the output of any given quadratic function"
   ]
  },
  {
   "cell_type": "code",
   "execution_count": 2,
   "id": "01be02a4",
   "metadata": {
    "execution": {
     "iopub.execute_input": "2023-01-27T22:08:26.166359Z",
     "iopub.status.busy": "2023-01-27T22:08:26.165926Z",
     "iopub.status.idle": "2023-01-27T22:08:26.173003Z",
     "shell.execute_reply": "2023-01-27T22:08:26.171891Z"
    },
    "papermill": {
     "duration": 0.019522,
     "end_time": "2023-01-27T22:08:26.175158",
     "exception": false,
     "start_time": "2023-01-27T22:08:26.155636",
     "status": "completed"
    },
    "tags": []
   },
   "outputs": [],
   "source": [
    "def plot_function(f, tx=None, ty=None, title=None, min=-2, max=2, figsize=(6,4)):\n",
    "    x = torch.linspace(min,max,steps=20)\n",
    "    fig,ax = plt.subplots(figsize=figsize)\n",
    "    ax.plot(x, f(x))\n",
    "    if tx is not None: ax.set_xlabel(tx)\n",
    "    if ty is not None: ax.set_ylabel(ty)\n",
    "    if title is not None: ax.set_title(title)"
   ]
  },
  {
   "cell_type": "markdown",
   "id": "2b7fc13d",
   "metadata": {
    "papermill": {
     "duration": 0.008208,
     "end_time": "2023-01-27T22:08:26.192220",
     "exception": false,
     "start_time": "2023-01-27T22:08:26.184012",
     "status": "completed"
    },
    "tags": []
   },
   "source": [
    "Define quadratic function $3x^2 + 2x + 1$"
   ]
  },
  {
   "cell_type": "code",
   "execution_count": 3,
   "id": "6253b9a6",
   "metadata": {
    "execution": {
     "iopub.execute_input": "2023-01-27T22:08:26.211283Z",
     "iopub.status.busy": "2023-01-27T22:08:26.210890Z",
     "iopub.status.idle": "2023-01-27T22:08:26.216321Z",
     "shell.execute_reply": "2023-01-27T22:08:26.215136Z"
    },
    "papermill": {
     "duration": 0.017665,
     "end_time": "2023-01-27T22:08:26.218492",
     "exception": false,
     "start_time": "2023-01-27T22:08:26.200827",
     "status": "completed"
    },
    "tags": []
   },
   "outputs": [],
   "source": [
    "def quad(x): return 3 * x**2 + 2 * x + 1"
   ]
  },
  {
   "cell_type": "markdown",
   "id": "6fa4a3f5",
   "metadata": {
    "papermill": {
     "duration": 0.008346,
     "end_time": "2023-01-27T22:08:26.235612",
     "exception": false,
     "start_time": "2023-01-27T22:08:26.227266",
     "status": "completed"
    },
    "tags": []
   },
   "source": [
    "Plot our quadratic function"
   ]
  },
  {
   "cell_type": "code",
   "execution_count": 4,
   "id": "4ef2ac88",
   "metadata": {
    "execution": {
     "iopub.execute_input": "2023-01-27T22:08:26.254788Z",
     "iopub.status.busy": "2023-01-27T22:08:26.254396Z",
     "iopub.status.idle": "2023-01-27T22:08:26.712436Z",
     "shell.execute_reply": "2023-01-27T22:08:26.710941Z"
    },
    "papermill": {
     "duration": 0.471391,
     "end_time": "2023-01-27T22:08:26.715649",
     "exception": false,
     "start_time": "2023-01-27T22:08:26.244258",
     "status": "completed"
    },
    "tags": []
   },
   "outputs": [
    {
     "data": {
      "image/png": "[encoded data removed]",
      "text/plain": [
       "<Figure size 432x288 with 1 Axes>"
      ]
     },
     "metadata": {
      "needs_background": "light"
     },
     "output_type": "display_data"
    }
   ],
   "source": [
    "plot_function(quad, '$3x^2 + 2x + 1$')"
   ]
  },
  {
   "cell_type": "markdown",
   "id": "71f7a19f",
   "metadata": {
    "papermill": {
     "duration": 0.008637,
     "end_time": "2023-01-27T22:08:26.734478",
     "exception": false,
     "start_time": "2023-01-27T22:08:26.725841",
     "status": "completed"
    },
    "tags": []
   },
   "source": [
    "Define a generalized quadratic function"
   ]
  },
  {
   "cell_type": "code",
   "execution_count": 5,
   "id": "08c3738b",
   "metadata": {
    "execution": {
     "iopub.execute_input": "2023-01-27T22:08:26.754790Z",
     "iopub.status.busy": "2023-01-27T22:08:26.754358Z",
     "iopub.status.idle": "2023-01-27T22:08:26.759948Z",
     "shell.execute_reply": "2023-01-27T22:08:26.758626Z"
    },
    "papermill": {
     "duration": 0.018953,
     "end_time": "2023-01-27T22:08:26.762481",
     "exception": false,
     "start_time": "2023-01-27T22:08:26.743528",
     "status": "completed"
    },
    "tags": []
   },
   "outputs": [],
   "source": [
    "def quad(a, b, c, x): return a * x**2 + b * x + c"
   ]
  },
  {
   "cell_type": "markdown",
   "id": "80a92c97",
   "metadata": {
    "papermill": {
     "duration": 0.008611,
     "end_time": "2023-01-27T22:08:26.780590",
     "exception": false,
     "start_time": "2023-01-27T22:08:26.771979",
     "status": "completed"
    },
    "tags": []
   },
   "source": [
    "Let's also define a factory function that can create any desired quadratic. The `partial` function is used to 'fix' the values of a, b, and coefficients"
   ]
  },
  {
   "cell_type": "code",
   "execution_count": 6,
   "id": "ff3beac2",
   "metadata": {
    "execution": {
     "iopub.execute_input": "2023-01-27T22:08:26.801093Z",
     "iopub.status.busy": "2023-01-27T22:08:26.800034Z",
     "iopub.status.idle": "2023-01-27T22:08:26.805374Z",
     "shell.execute_reply": "2023-01-27T22:08:26.804575Z"
    },
    "papermill": {
     "duration": 0.017647,
     "end_time": "2023-01-27T22:08:26.807338",
     "exception": false,
     "start_time": "2023-01-27T22:08:26.789691",
     "status": "completed"
    },
    "tags": []
   },
   "outputs": [],
   "source": [
    "from functools import partial\n",
    "def make_quad(a, b, c) : return partial(quad, a, b, c)"
   ]
  },
  {
   "cell_type": "markdown",
   "id": "f06681d9",
   "metadata": {
    "papermill": {
     "duration": 0.008541,
     "end_time": "2023-01-27T22:08:26.824825",
     "exception": false,
     "start_time": "2023-01-27T22:08:26.816284",
     "status": "completed"
    },
    "tags": []
   },
   "source": [
    "Use the factory to re-create our quadratic"
   ]
  },
  {
   "cell_type": "code",
   "execution_count": 7,
   "id": "a2663248",
   "metadata": {
    "execution": {
     "iopub.execute_input": "2023-01-27T22:08:26.844742Z",
     "iopub.status.busy": "2023-01-27T22:08:26.843925Z",
     "iopub.status.idle": "2023-01-27T22:08:26.848339Z",
     "shell.execute_reply": "2023-01-27T22:08:26.847568Z"
    },
    "papermill": {
     "duration": 0.016638,
     "end_time": "2023-01-27T22:08:26.850343",
     "exception": false,
     "start_time": "2023-01-27T22:08:26.833705",
     "status": "completed"
    },
    "tags": []
   },
   "outputs": [],
   "source": [
    "f = make_quad(3, 2, 1)"
   ]
  },
  {
   "cell_type": "markdown",
   "id": "995ed46e",
   "metadata": {
    "papermill": {
     "duration": 0.008494,
     "end_time": "2023-01-27T22:08:26.867820",
     "exception": false,
     "start_time": "2023-01-27T22:08:26.859326",
     "status": "completed"
    },
    "tags": []
   },
   "source": [
    "Let's generate some random normally distributed data. Then we will use our quadratic functiomn to 'fit' this data"
   ]
  },
  {
   "cell_type": "code",
   "execution_count": 8,
   "id": "8feb9fc7",
   "metadata": {
    "execution": {
     "iopub.execute_input": "2023-01-27T22:08:26.888050Z",
     "iopub.status.busy": "2023-01-27T22:08:26.887252Z",
     "iopub.status.idle": "2023-01-27T22:08:26.893056Z",
     "shell.execute_reply": "2023-01-27T22:08:26.892238Z"
    },
    "papermill": {
     "duration": 0.018565,
     "end_time": "2023-01-27T22:08:26.895271",
     "exception": false,
     "start_time": "2023-01-27T22:08:26.876706",
     "status": "completed"
    },
    "tags": []
   },
   "outputs": [],
   "source": [
    "from numpy.random import normal, seed, uniform\n",
    "def noise(x, scale) : return normal(scale = scale, size = x.shape)\n",
    "def add_noise(x, mult, add): return x + (1 + noise(x, mult)) + noise(x, add)"
   ]
  },
  {
   "cell_type": "code",
   "execution_count": 9,
   "id": "7be52489",
   "metadata": {
    "execution": {
     "iopub.execute_input": "2023-01-27T22:08:26.915083Z",
     "iopub.status.busy": "2023-01-27T22:08:26.914460Z",
     "iopub.status.idle": "2023-01-27T22:08:27.151726Z",
     "shell.execute_reply": "2023-01-27T22:08:27.150369Z"
    },
    "papermill": {
     "duration": 0.250323,
     "end_time": "2023-01-27T22:08:27.154506",
     "exception": false,
     "start_time": "2023-01-27T22:08:26.904183",
     "status": "completed"
    },
    "tags": []
   },
   "outputs": [
    {
     "data": {
      "text/plain": [
       "<matplotlib.collections.PathCollection at 0x7f2e8e9447d0>"
      ]
     },
     "execution_count": 9,
     "metadata": {},
     "output_type": "execute_result"
    },
    {
     "data": {
      "image/png": "[encoded data removed]",
      "text/plain": [
       "<Figure size 432x288 with 1 Axes>"
      ]
     },
     "metadata": {
      "needs_background": "light"
     },
     "output_type": "display_data"
    }
   ],
   "source": [
    "x = torch.linspace(-2, 2, steps=20)[:,None]\n",
    "y = add_noise(f(x), 0.3, 1.5)\n",
    "plt.scatter(x, y)"
   ]
  },
  {
   "cell_type": "markdown",
   "id": "3d82546d",
   "metadata": {
    "papermill": {
     "duration": 0.008953,
     "end_time": "2023-01-27T22:08:27.172881",
     "exception": false,
     "start_time": "2023-01-27T22:08:27.163928",
     "status": "completed"
    },
    "tags": []
   },
   "source": [
    "In order to see how well our quadratic function fits the data and to try out different variations of the quad coefficients, we will create an interactive function that will plot our random data and the output of the quad function on same plot. We can then vary the quad coefficients to try better fit with the data."
   ]
  },
  {
   "cell_type": "code",
   "execution_count": 10,
   "id": "7b5b8cbf",
   "metadata": {
    "execution": {
     "iopub.execute_input": "2023-01-27T22:08:27.193717Z",
     "iopub.status.busy": "2023-01-27T22:08:27.193248Z",
     "iopub.status.idle": "2023-01-27T22:08:27.198875Z",
     "shell.execute_reply": "2023-01-27T22:08:27.197690Z"
    },
    "papermill": {
     "duration": 0.018975,
     "end_time": "2023-01-27T22:08:27.201192",
     "exception": false,
     "start_time": "2023-01-27T22:08:27.182217",
     "status": "completed"
    },
    "tags": []
   },
   "outputs": [],
   "source": [
    "from ipywidgets import interact"
   ]
  },
  {
   "cell_type": "code",
   "execution_count": 11,
   "id": "778cfee7",
   "metadata": {
    "execution": {
     "iopub.execute_input": "2023-01-27T22:08:27.222901Z",
     "iopub.status.busy": "2023-01-27T22:08:27.222405Z",
     "iopub.status.idle": "2023-01-27T22:08:27.503819Z",
     "shell.execute_reply": "2023-01-27T22:08:27.502724Z"
    },
    "papermill": {
     "duration": 0.29505,
     "end_time": "2023-01-27T22:08:27.506409",
     "exception": false,
     "start_time": "2023-01-27T22:08:27.211359",
     "status": "completed"
    },
    "tags": []
   },
   "outputs": [
    {
     "data": {
      "application/vnd.jupyter.widget-view+json": {
       "model_id": "a8285d8e8e4f4ee6828f30f40062652b",
       "version_major": 2,
       "version_minor": 0
      },
      "text/plain": [
       "interactive(children=(FloatSlider(value=1.5, description='a', max=4.5, min=-1.5), FloatSlider(value=1.5, descr…"
      ]
     },
     "metadata": {},
     "output_type": "display_data"
    }
   ],
   "source": [
    "@interact(a = 1.5, b = 1.5, c = 1.5)\n",
    "def plot_quad(a, b, c):\n",
    "    plot_function(make_quad(a, b, c))\n",
    "    plt.scatter(x, y)"
   ]
  },
  {
   "cell_type": "markdown",
   "id": "0180f14f",
   "metadata": {
    "papermill": {
     "duration": 0.009244,
     "end_time": "2023-01-27T22:08:27.525786",
     "exception": false,
     "start_time": "2023-01-27T22:08:27.516542",
     "status": "completed"
    },
    "tags": []
   },
   "source": [
    "That was fun but judging whether a particular combination of coefficients is better than previous combinations was very subjective. Let's correct that by creating a `loss` function. The function will take predictions and actual observations and calculate the Mean Square Error (MSE)"
   ]
  },
  {
   "cell_type": "code",
   "execution_count": 12,
   "id": "6e36a8f6",
   "metadata": {
    "execution": {
     "iopub.execute_input": "2023-01-27T22:08:27.546994Z",
     "iopub.status.busy": "2023-01-27T22:08:27.546568Z",
     "iopub.status.idle": "2023-01-27T22:08:27.551987Z",
     "shell.execute_reply": "2023-01-27T22:08:27.550553Z"
    },
    "papermill": {
     "duration": 0.019045,
     "end_time": "2023-01-27T22:08:27.554466",
     "exception": false,
     "start_time": "2023-01-27T22:08:27.535421",
     "status": "completed"
    },
    "tags": []
   },
   "outputs": [],
   "source": [
    "def mse(pred, actual) : return ((pred - actual) ** 2).mean()"
   ]
  },
  {
   "cell_type": "markdown",
   "id": "52e4ef41",
   "metadata": {
    "papermill": {
     "duration": 0.009718,
     "end_time": "2023-01-27T22:08:27.574537",
     "exception": false,
     "start_time": "2023-01-27T22:08:27.564819",
     "status": "completed"
    },
    "tags": []
   },
   "source": [
    "Let's modify our interactive function to plot our data and output of the quad function on same plot and also add the MSE to the plot so we can easily tell whether the new coefficient setting is improved and degraded the model"
   ]
  },
  {
   "cell_type": "code",
   "execution_count": 13,
   "id": "d3c5a3ef",
   "metadata": {
    "execution": {
     "iopub.execute_input": "2023-01-27T22:08:27.595976Z",
     "iopub.status.busy": "2023-01-27T22:08:27.595522Z",
     "iopub.status.idle": "2023-01-27T22:08:27.887793Z",
     "shell.execute_reply": "2023-01-27T22:08:27.886668Z"
    },
    "papermill": {
     "duration": 0.307529,
     "end_time": "2023-01-27T22:08:27.891756",
     "exception": false,
     "start_time": "2023-01-27T22:08:27.584227",
     "status": "completed"
    },
    "tags": []
   },
   "outputs": [
    {
     "data": {
      "application/vnd.jupyter.widget-view+json": {
       "model_id": "a18d458379f14dbda35c6e822f04736a",
       "version_major": 2,
       "version_minor": 0
      },
      "text/plain": [
       "interactive(children=(FloatSlider(value=1.5, description='a', max=4.5, min=-1.5), FloatSlider(value=1.5, descr…"
      ]
     },
     "metadata": {},
     "output_type": "display_data"
    }
   ],
   "source": [
    "@interact(a = 1.5, b = 1.5, c = 1.5)\n",
    "def plot_quad(a, b, c):\n",
    "    f = make_quad(a, b, c)\n",
    "    loss = mse(f(x), y)\n",
    "    title = \"MSE: \" + str(loss)\n",
    "    plot_function(f, title=f'MSE: {loss:.2f}')\n",
    "    plt.scatter(x, y)"
   ]
  },
  {
   "cell_type": "markdown",
   "id": "3419d6cc",
   "metadata": {
    "papermill": {
     "duration": 0.009614,
     "end_time": "2023-01-27T22:08:27.913961",
     "exception": false,
     "start_time": "2023-01-27T22:08:27.904347",
     "status": "completed"
    },
    "tags": []
   },
   "source": [
    "Cool. That was better but it would be great if finding the best combination of coefficients - i.e. smallest MSE - could be automated. After all that is our key objective.\n",
    "\n",
    "Let's wrap the creating of the loss function and calculation of the MSE into a single function `quad_mse`"
   ]
  },
  {
   "cell_type": "code",
   "execution_count": 14,
   "id": "3147bba6",
   "metadata": {
    "execution": {
     "iopub.execute_input": "2023-01-27T22:08:27.936014Z",
     "iopub.status.busy": "2023-01-27T22:08:27.935446Z",
     "iopub.status.idle": "2023-01-27T22:08:27.941918Z",
     "shell.execute_reply": "2023-01-27T22:08:27.940773Z"
    },
    "papermill": {
     "duration": 0.02071,
     "end_time": "2023-01-27T22:08:27.944652",
     "exception": false,
     "start_time": "2023-01-27T22:08:27.923942",
     "status": "completed"
    },
    "tags": []
   },
   "outputs": [],
   "source": [
    "def quad_mse(params):\n",
    "    f = make_quad(*params)\n",
    "    return mse(f(x), y)"
   ]
  },
  {
   "cell_type": "markdown",
   "id": "27b22e7f",
   "metadata": {
    "papermill": {
     "duration": 0.009417,
     "end_time": "2023-01-27T22:08:27.964078",
     "exception": false,
     "start_time": "2023-01-27T22:08:27.954661",
     "status": "completed"
    },
    "tags": []
   },
   "source": [
    "For sanity check, let's compute MSE using the `quad_mse` our default coefficient settings `[1.5, 1.5, 1.5]`."
   ]
  },
  {
   "cell_type": "code",
   "execution_count": 15,
   "id": "28309a4b",
   "metadata": {
    "execution": {
     "iopub.execute_input": "2023-01-27T22:08:27.988806Z",
     "iopub.status.busy": "2023-01-27T22:08:27.987827Z",
     "iopub.status.idle": "2023-01-27T22:08:27.996481Z",
     "shell.execute_reply": "2023-01-27T22:08:27.995540Z"
    },
    "papermill": {
     "duration": 0.024945,
     "end_time": "2023-01-27T22:08:27.998832",
     "exception": false,
     "start_time": "2023-01-27T22:08:27.973887",
     "status": "completed"
    },
    "tags": []
   },
   "outputs": [
    {
     "data": {
      "text/plain": [
       "tensor(15.8497, dtype=torch.float64)"
      ]
     },
     "execution_count": 15,
     "metadata": {},
     "output_type": "execute_result"
    }
   ],
   "source": [
    "quad_mse([1.5, 1.5, 1.5])"
   ]
  },
  {
   "cell_type": "markdown",
   "id": "9d03547e",
   "metadata": {
    "papermill": {
     "duration": 0.009395,
     "end_time": "2023-01-27T22:08:28.018090",
     "exception": false,
     "start_time": "2023-01-27T22:08:28.008695",
     "status": "completed"
    },
    "tags": []
   },
   "source": [
    "This is fun! Let's compute MSE at another coefficient settings. This is much better!"
   ]
  },
  {
   "cell_type": "code",
   "execution_count": 16,
   "id": "135a7c77",
   "metadata": {
    "execution": {
     "iopub.execute_input": "2023-01-27T22:08:28.045696Z",
     "iopub.status.busy": "2023-01-27T22:08:28.045088Z",
     "iopub.status.idle": "2023-01-27T22:08:28.054350Z",
     "shell.execute_reply": "2023-01-27T22:08:28.053462Z"
    },
    "papermill": {
     "duration": 0.028836,
     "end_time": "2023-01-27T22:08:28.057222",
     "exception": false,
     "start_time": "2023-01-27T22:08:28.028386",
     "status": "completed"
    },
    "tags": []
   },
   "outputs": [
    {
     "data": {
      "text/plain": [
       "tensor(3.6958, dtype=torch.float64)"
      ]
     },
     "execution_count": 16,
     "metadata": {},
     "output_type": "execute_result"
    }
   ],
   "source": [
    "quad_mse([3.0, 1.5, 1.5])"
   ]
  },
  {
   "cell_type": "markdown",
   "id": "7fcf69cb",
   "metadata": {
    "papermill": {
     "duration": 0.011681,
     "end_time": "2023-01-27T22:08:28.081520",
     "exception": false,
     "start_time": "2023-01-27T22:08:28.069839",
     "status": "completed"
    },
    "tags": []
   },
   "source": [
    "Once more. Oops, loss increased this time!"
   ]
  },
  {
   "cell_type": "code",
   "execution_count": 17,
   "id": "af9357f8",
   "metadata": {
    "execution": {
     "iopub.execute_input": "2023-01-27T22:08:28.106136Z",
     "iopub.status.busy": "2023-01-27T22:08:28.104794Z",
     "iopub.status.idle": "2023-01-27T22:08:28.113732Z",
     "shell.execute_reply": "2023-01-27T22:08:28.112564Z"
    },
    "papermill": {
     "duration": 0.023602,
     "end_time": "2023-01-27T22:08:28.116139",
     "exception": false,
     "start_time": "2023-01-27T22:08:28.092537",
     "status": "completed"
    },
    "tags": []
   },
   "outputs": [
    {
     "data": {
      "text/plain": [
       "tensor(3.5405, dtype=torch.float64)"
      ]
     },
     "execution_count": 17,
     "metadata": {},
     "output_type": "execute_result"
    }
   ],
   "source": [
    "quad_mse([3.5, 1.5, 1.5])"
   ]
  },
  {
   "cell_type": "markdown",
   "id": "a721ba99",
   "metadata": {
    "papermill": {
     "duration": 0.009612,
     "end_time": "2023-01-27T22:08:28.135791",
     "exception": false,
     "start_time": "2023-01-27T22:08:28.126179",
     "status": "completed"
    },
    "tags": []
   },
   "source": [
    "We can keep doing this and eventually (hopefully) we'd arrive at an acceptable loss which would give us the optimal coefficients for fitting our data. This is roughly how a deep neural network does its learning!\n",
    "\n",
    "Short pause - think of the quadratic function as the neural network construction, the coefficients as the weights of the NN, MSE as the loss function, and modification of coefficients as backward propagation updating the weights."
   ]
  },
  {
   "cell_type": "markdown",
   "id": "d1e5a17d",
   "metadata": {
    "papermill": {
     "duration": 0.009519,
     "end_time": "2023-01-27T22:08:28.155350",
     "exception": false,
     "start_time": "2023-01-27T22:08:28.145831",
     "status": "completed"
    },
    "tags": []
   },
   "source": [
    "You may have noticed that sometimes a coefficient value had to be increased and sometimes decreased to get a better (lower) loss. We didn't really know ahead of time whether it was a good idea to increase (decrease) a particular coefficient. We made the change, observed the resulting loss, and only then did we know whether or not the model had improved.\n",
    "\n",
    "Wouldn't it be nice if we knew whether to increase or decrease a particular coefficient **before** making that change? That's where the gradients comes in!"
   ]
  },
  {
   "cell_type": "markdown",
   "id": "fd9bacd7",
   "metadata": {
    "papermill": {
     "duration": 0.009468,
     "end_time": "2023-01-27T22:08:28.174720",
     "exception": false,
     "start_time": "2023-01-27T22:08:28.165252",
     "status": "completed"
    },
    "tags": []
   },
   "source": [
    "Let's create a tensor to calculate the quadratic MSE"
   ]
  },
  {
   "cell_type": "code",
   "execution_count": 18,
   "id": "7cf397b8",
   "metadata": {
    "execution": {
     "iopub.execute_input": "2023-01-27T22:08:28.196776Z",
     "iopub.status.busy": "2023-01-27T22:08:28.195893Z",
     "iopub.status.idle": "2023-01-27T22:08:28.204209Z",
     "shell.execute_reply": "2023-01-27T22:08:28.203273Z"
    },
    "papermill": {
     "duration": 0.021753,
     "end_time": "2023-01-27T22:08:28.206549",
     "exception": false,
     "start_time": "2023-01-27T22:08:28.184796",
     "status": "completed"
    },
    "tags": []
   },
   "outputs": [
    {
     "data": {
      "text/plain": [
       "tensor([1.5000, 1.5000, 1.5000])"
      ]
     },
     "execution_count": 18,
     "metadata": {},
     "output_type": "execute_result"
    }
   ],
   "source": [
    "a_tensor = tensor([1.5, 1.5, 1.5])\n",
    "a_tensor"
   ]
  },
  {
   "cell_type": "markdown",
   "id": "562bcd5a",
   "metadata": {
    "papermill": {
     "duration": 0.009548,
     "end_time": "2023-01-27T22:08:28.226167",
     "exception": false,
     "start_time": "2023-01-27T22:08:28.216619",
     "status": "completed"
    },
    "tags": []
   },
   "source": [
    "Then we tell Pytorch that we'd like to compute gradient at that tensor. Note, Pytorch has flagged (requires_grad) that this tensor requires gradient whenever it's used in calculations"
   ]
  },
  {
   "cell_type": "code",
   "execution_count": 19,
   "id": "b387e289",
   "metadata": {
    "execution": {
     "iopub.execute_input": "2023-01-27T22:08:28.249374Z",
     "iopub.status.busy": "2023-01-27T22:08:28.248377Z",
     "iopub.status.idle": "2023-01-27T22:08:28.256347Z",
     "shell.execute_reply": "2023-01-27T22:08:28.255404Z"
    },
    "papermill": {
     "duration": 0.022637,
     "end_time": "2023-01-27T22:08:28.258678",
     "exception": false,
     "start_time": "2023-01-27T22:08:28.236041",
     "status": "completed"
    },
    "tags": []
   },
   "outputs": [
    {
     "data": {
      "text/plain": [
       "tensor([1.5000, 1.5000, 1.5000], requires_grad=True)"
      ]
     },
     "execution_count": 19,
     "metadata": {},
     "output_type": "execute_result"
    }
   ],
   "source": [
    "a_tensor.requires_grad_()\n",
    "a_tensor"
   ]
  },
  {
   "cell_type": "markdown",
   "id": "a49432d3",
   "metadata": {
    "papermill": {
     "duration": 0.009761,
     "end_time": "2023-01-27T22:08:28.278697",
     "exception": false,
     "start_time": "2023-01-27T22:08:28.268936",
     "status": "completed"
    },
    "tags": []
   },
   "source": [
    "Let's compute the quadratic MSE using our tensor. Note, in the output of the calculation Pytorch informs us that it knows how to calculate the gradients"
   ]
  },
  {
   "cell_type": "code",
   "execution_count": 20,
   "id": "337d7258",
   "metadata": {
    "execution": {
     "iopub.execute_input": "2023-01-27T22:08:28.301619Z",
     "iopub.status.busy": "2023-01-27T22:08:28.300821Z",
     "iopub.status.idle": "2023-01-27T22:08:28.309990Z",
     "shell.execute_reply": "2023-01-27T22:08:28.309042Z"
    },
    "papermill": {
     "duration": 0.023453,
     "end_time": "2023-01-27T22:08:28.312352",
     "exception": false,
     "start_time": "2023-01-27T22:08:28.288899",
     "status": "completed"
    },
    "tags": []
   },
   "outputs": [
    {
     "data": {
      "text/plain": [
       "tensor(15.8497, dtype=torch.float64, grad_fn=<MeanBackward0>)"
      ]
     },
     "execution_count": 20,
     "metadata": {},
     "output_type": "execute_result"
    }
   ],
   "source": [
    "loss = quad_mse(a_tensor)\n",
    "loss"
   ]
  },
  {
   "cell_type": "markdown",
   "id": "555c6103",
   "metadata": {
    "papermill": {
     "duration": 0.009851,
     "end_time": "2023-01-27T22:08:28.332689",
     "exception": false,
     "start_time": "2023-01-27T22:08:28.322838",
     "status": "completed"
    },
    "tags": []
   },
   "source": [
    "Let's ask Pytorch to go ahead and calculate the gradients. Nothing seems to to have happened but... "
   ]
  },
  {
   "cell_type": "code",
   "execution_count": 21,
   "id": "210784b6",
   "metadata": {
    "execution": {
     "iopub.execute_input": "2023-01-27T22:08:28.355525Z",
     "iopub.status.busy": "2023-01-27T22:08:28.354675Z",
     "iopub.status.idle": "2023-01-27T22:08:28.375984Z",
     "shell.execute_reply": "2023-01-27T22:08:28.374955Z"
    },
    "papermill": {
     "duration": 0.035834,
     "end_time": "2023-01-27T22:08:28.378777",
     "exception": false,
     "start_time": "2023-01-27T22:08:28.342943",
     "status": "completed"
    },
    "tags": []
   },
   "outputs": [],
   "source": [
    "loss.backward()"
   ]
  },
  {
   "cell_type": "markdown",
   "id": "33f23ef4",
   "metadata": {
    "papermill": {
     "duration": 0.010484,
     "end_time": "2023-01-27T22:08:28.399622",
     "exception": false,
     "start_time": "2023-01-27T22:08:28.389138",
     "status": "completed"
    },
    "tags": []
   },
   "source": [
    "Pytorch has updated the tensor with gradients for each coefficient!\n",
    "\n",
    "Let's take a look at the gradients. Gradients are telling us that:\n",
    "- loss will go down by a lot if we increase the first parameter **a**\n",
    "- loss will go down somewhat if we increase the second parameter **b**\n",
    "- loss will go down if we increase the tird parameter **c**\n",
    "\n",
    "And there we have all the basic machinery use our quadratic function (model) to predict (y) from the input (x), calculate the gradient for model parameters, modify the model parameters, and repeat until the loss no longer decreases."
   ]
  },
  {
   "cell_type": "code",
   "execution_count": 22,
   "id": "7b007524",
   "metadata": {
    "execution": {
     "iopub.execute_input": "2023-01-27T22:08:28.423215Z",
     "iopub.status.busy": "2023-01-27T22:08:28.422380Z",
     "iopub.status.idle": "2023-01-27T22:08:28.430083Z",
     "shell.execute_reply": "2023-01-27T22:08:28.429156Z"
    },
    "papermill": {
     "duration": 0.022224,
     "end_time": "2023-01-27T22:08:28.432330",
     "exception": false,
     "start_time": "2023-01-27T22:08:28.410106",
     "status": "completed"
    },
    "tags": []
   },
   "outputs": [
    {
     "data": {
      "text/plain": [
       "tensor([-13.9468,  -2.2699,  -5.1976])"
      ]
     },
     "execution_count": 22,
     "metadata": {},
     "output_type": "execute_result"
    }
   ],
   "source": [
    "a_tensor.grad"
   ]
  }
 ],
 "metadata": {
  "kernelspec": {
   "display_name": "Python 3",
   "language": "python",
   "name": "python3"
  },
  "language_info": {
   "codemirror_mode": {
    "name": "ipython",
    "version": 3
   },
   "file_extension": ".py",
   "mimetype": "text/x-python",
   "name": "python",
   "nbconvert_exporter": "python",
   "pygments_lexer": "ipython3",
   "version": "3.7.12"
  },
  "papermill": {
   "default_parameters": {},
   "duration": 17.804629,
   "end_time": "2023-01-27T22:08:29.668601",
   "environment_variables": {},
   "exception": null,
   "input_path": "__notebook__.ipynb",
   "output_path": "__notebook__.ipynb",
   "parameters": {},
   "start_time": "2023-01-27T22:08:11.863972",
   "version": "2.3.4"
  },
  "widgets": {
   "application/vnd.jupyter.widget-state+json": {
    "state": {
     "11b8c2b90ca646c19aa675170d937201": {
      "model_module": "@jupyter-widgets/controls",
      "model_module_version": "1.5.0",
      "model_name": "FloatSliderModel",
      "state": {
       "_dom_classes": [],
       "_model_module": "@jupyter-widgets/controls",
       "_model_module_version": "1.5.0",
       "_model_name": "FloatSliderModel",
       "_view_count": null,
       "_view_module": "@jupyter-widgets/controls",
       "_view_module_version": "1.5.0",
       "_view_name": "FloatSliderView",
       "continuous_update": true,
       "description": "a",
       "description_tooltip": null,
       "disabled": false,
       "layout": "IPY_MODEL_2c1642b358404fb9b603ce9c94c3f1d9",
       "max": 4.5,
       "min": -1.5,
       "orientation": "horizontal",
       "readout": true,
       "readout_format": ".2f",
       "step": 0.1,
       "style": "IPY_MODEL_88dc44a1e3b143d08a7b551835ee778d",
       "value": 1.5
      }
     },
     "254b9b825d014051ac6f0374fb079486": {
      "model_module": "@jupyter-widgets/output",
      "model_module_version": "1.0.0",
      "model_name": "OutputModel",
      "state": {
       "_dom_classes": [],
       "_model_module": "@jupyter-widgets/output",
       "_model_module_version": "1.0.0",
       "_model_name": "OutputModel",
       "_view_count": null,
       "_view_module": "@jupyter-widgets/output",
       "_view_module_version": "1.0.0",
       "_view_name": "OutputView",
       "layout": "IPY_MODEL_fe1c09902b6148938dbc9bcc39fe47b2",
       "msg_id": "",
       "outputs": [
        {
         "data": {
          "image/png": "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\n",
          "text/plain": "<Figure size 432x288 with 1 Axes>"
         },
         "metadata": {
          "needs_background": "light"
         },
         "output_type": "display_data"
        }
       ]
      }
     },
     "2c1642b358404fb9b603ce9c94c3f1d9": {
      "model_module": "@jupyter-widgets/base",
      "model_module_version": "1.2.0",
      "model_name": "LayoutModel",
      "state": {
       "_model_module": "@jupyter-widgets/base",
       "_model_module_version": "1.2.0",
       "_model_name": "LayoutModel",
       "_view_count": null,
       "_view_module": "@jupyter-widgets/base",
       "_view_module_version": "1.2.0",
       "_view_name": "LayoutView",
       "align_content": null,
       "align_items": null,
       "align_self": null,
       "border": null,
       "bottom": null,
       "display": null,
       "flex": null,
       "flex_flow": null,
       "grid_area": null,
       "grid_auto_columns": null,
       "grid_auto_flow": null,
       "grid_auto_rows": null,
       "grid_column": null,
       "grid_gap": null,
       "grid_row": null,
       "grid_template_areas": null,
       "grid_template_columns": null,
       "grid_template_rows": null,
       "height": null,
       "justify_content": null,
       "justify_items": null,
       "left": null,
       "margin": null,
       "max_height": null,
       "max_width": null,
       "min_height": null,
       "min_width": null,
       "object_fit": null,
       "object_position": null,
       "order": null,
       "overflow": null,
       "overflow_x": null,
       "overflow_y": null,
       "padding": null,
       "right": null,
       "top": null,
       "visibility": null,
       "width": null
      }
     },
     "39bbeb2b452049a9b126ddf8f5079d81": {
      "model_module": "@jupyter-widgets/controls",
      "model_module_version": "1.5.0",
      "model_name": "FloatSliderModel",
      "state": {
       "_dom_classes": [],
       "_model_module": "@jupyter-widgets/controls",
       "_model_module_version": "1.5.0",
       "_model_name": "FloatSliderModel",
       "_view_count": null,
       "_view_module": "@jupyter-widgets/controls",
       "_view_module_version": "1.5.0",
       "_view_name": "FloatSliderView",
       "continuous_update": true,
       "description": "c",
       "description_tooltip": null,
       "disabled": false,
       "layout": "IPY_MODEL_f8b5ae15c67140ed9a783aafaed90031",
       "max": 4.5,
       "min": -1.5,
       "orientation": "horizontal",
       "readout": true,
       "readout_format": ".2f",
       "step": 0.1,
       "style": "IPY_MODEL_80ec1ad5814a427798d39676082fee49",
       "value": 1.5
      }
     },
     "42b8b0dc4a6b42c2a57431fe7919a76c": {
      "model_module": "@jupyter-widgets/base",
      "model_module_version": "1.2.0",
      "model_name": "LayoutModel",
      "state": {
       "_model_module": "@jupyter-widgets/base",
       "_model_module_version": "1.2.0",
       "_model_name": "LayoutModel",
       "_view_count": null,
       "_view_module": "@jupyter-widgets/base",
       "_view_module_version": "1.2.0",
       "_view_name": "LayoutView",
       "align_content": null,
       "align_items": null,
       "align_self": null,
       "border": null,
       "bottom": null,
       "display": null,
       "flex": null,
       "flex_flow": null,
       "grid_area": null,
       "grid_auto_columns": null,
       "grid_auto_flow": null,
       "grid_auto_rows": null,
       "grid_column": null,
       "grid_gap": null,
       "grid_row": null,
       "grid_template_areas": null,
       "grid_template_columns": null,
       "grid_template_rows": null,
       "height": null,
       "justify_content": null,
       "justify_items": null,
       "left": null,
       "margin": null,
       "max_height": null,
       "max_width": null,
       "min_height": null,
       "min_width": null,
       "object_fit": null,
       "object_position": null,
       "order": null,
       "overflow": null,
       "overflow_x": null,
       "overflow_y": null,
       "padding": null,
       "right": null,
       "top": null,
       "visibility": null,
       "width": null
      }
     },
     "434b84122fa24ab29f30506171657282": {
      "model_module": "@jupyter-widgets/controls",
      "model_module_version": "1.5.0",
      "model_name": "SliderStyleModel",
      "state": {
       "_model_module": "@jupyter-widgets/controls",
       "_model_module_version": "1.5.0",
       "_model_name": "SliderStyleModel",
       "_view_count": null,
       "_view_module": "@jupyter-widgets/base",
       "_view_module_version": "1.2.0",
       "_view_name": "StyleView",
       "description_width": "",
       "handle_color": null
      }
     },
     "48ffd38e7c3244f5b5f0459dd601ba40": {
      "model_module": "@jupyter-widgets/base",
      "model_module_version": "1.2.0",
      "model_name": "LayoutModel",
      "state": {
       "_model_module": "@jupyter-widgets/base",
       "_model_module_version": "1.2.0",
       "_model_name": "LayoutModel",
       "_view_count": null,
       "_view_module": "@jupyter-widgets/base",
       "_view_module_version": "1.2.0",
       "_view_name": "LayoutView",
       "align_content": null,
       "align_items": null,
       "align_self": null,
       "border": null,
       "bottom": null,
       "display": null,
       "flex": null,
       "flex_flow": null,
       "grid_area": null,
       "grid_auto_columns": null,
       "grid_auto_flow": null,
       "grid_auto_rows": null,
       "grid_column": null,
       "grid_gap": null,
       "grid_row": null,
       "grid_template_areas": null,
       "grid_template_columns": null,
       "grid_template_rows": null,
       "height": null,
       "justify_content": null,
       "justify_items": null,
       "left": null,
       "margin": null,
       "max_height": null,
       "max_width": null,
       "min_height": null,
       "min_width": null,
       "object_fit": null,
       "object_position": null,
       "order": null,
       "overflow": null,
       "overflow_x": null,
       "overflow_y": null,
       "padding": null,
       "right": null,
       "top": null,
       "visibility": null,
       "width": null
      }
     },
     "5178303a84da4462b6554bea7b1e922f": {
      "model_module": "@jupyter-widgets/base",
      "model_module_version": "1.2.0",
      "model_name": "LayoutModel",
      "state": {
       "_model_module": "@jupyter-widgets/base",
       "_model_module_version": "1.2.0",
       "_model_name": "LayoutModel",
       "_view_count": null,
       "_view_module": "@jupyter-widgets/base",
       "_view_module_version": "1.2.0",
       "_view_name": "LayoutView",
       "align_content": null,
       "align_items": null,
       "align_self": null,
       "border": null,
       "bottom": null,
       "display": null,
       "flex": null,
       "flex_flow": null,
       "grid_area": null,
       "grid_auto_columns": null,
       "grid_auto_flow": null,
       "grid_auto_rows": null,
       "grid_column": null,
       "grid_gap": null,
       "grid_row": null,
       "grid_template_areas": null,
       "grid_template_columns": null,
       "grid_template_rows": null,
       "height": null,
       "justify_content": null,
       "justify_items": null,
       "left": null,
       "margin": null,
       "max_height": null,
       "max_width": null,
       "min_height": null,
       "min_width": null,
       "object_fit": null,
       "object_position": null,
       "order": null,
       "overflow": null,
       "overflow_x": null,
       "overflow_y": null,
       "padding": null,
       "right": null,
       "top": null,
       "visibility": null,
       "width": null
      }
     },
     "520e53ee6ac4473babaad88d27f81c16": {
      "model_module": "@jupyter-widgets/base",
      "model_module_version": "1.2.0",
      "model_name": "LayoutModel",
      "state": {
       "_model_module": "@jupyter-widgets/base",
       "_model_module_version": "1.2.0",
       "_model_name": "LayoutModel",
       "_view_count": null,
       "_view_module": "@jupyter-widgets/base",
       "_view_module_version": "1.2.0",
       "_view_name": "LayoutView",
       "align_content": null,
       "align_items": null,
       "align_self": null,
       "border": null,
       "bottom": null,
       "display": null,
       "flex": null,
       "flex_flow": null,
       "grid_area": null,
       "grid_auto_columns": null,
       "grid_auto_flow": null,
       "grid_auto_rows": null,
       "grid_column": null,
       "grid_gap": null,
       "grid_row": null,
       "grid_template_areas": null,
       "grid_template_columns": null,
       "grid_template_rows": null,
       "height": null,
       "justify_content": null,
       "justify_items": null,
       "left": null,
       "margin": null,
       "max_height": null,
       "max_width": null,
       "min_height": null,
       "min_width": null,
       "object_fit": null,
       "object_position": null,
       "order": null,
       "overflow": null,
       "overflow_x": null,
       "overflow_y": null,
       "padding": null,
       "right": null,
       "top": null,
       "visibility": null,
       "width": null
      }
     },
     "5580f7db6dbd45fe98d54636b672f243": {
      "model_module": "@jupyter-widgets/base",
      "model_module_version": "1.2.0",
      "model_name": "LayoutModel",
      "state": {
       "_model_module": "@jupyter-widgets/base",
       "_model_module_version": "1.2.0",
       "_model_name": "LayoutModel",
       "_view_count": null,
       "_view_module": "@jupyter-widgets/base",
       "_view_module_version": "1.2.0",
       "_view_name": "LayoutView",
       "align_content": null,
       "align_items": null,
       "align_self": null,
       "border": null,
       "bottom": null,
       "display": null,
       "flex": null,
       "flex_flow": null,
       "grid_area": null,
       "grid_auto_columns": null,
       "grid_auto_flow": null,
       "grid_auto_rows": null,
       "grid_column": null,
       "grid_gap": null,
       "grid_row": null,
       "grid_template_areas": null,
       "grid_template_columns": null,
       "grid_template_rows": null,
       "height": null,
       "justify_content": null,
       "justify_items": null,
       "left": null,
       "margin": null,
       "max_height": null,
       "max_width": null,
       "min_height": null,
       "min_width": null,
       "object_fit": null,
       "object_position": null,
       "order": null,
       "overflow": null,
       "overflow_x": null,
       "overflow_y": null,
       "padding": null,
       "right": null,
       "top": null,
       "visibility": null,
       "width": null
      }
     },
     "65d3db22b46f480cb421cdcd333c607f": {
      "model_module": "@jupyter-widgets/base",
      "model_module_version": "1.2.0",
      "model_name": "LayoutModel",
      "state": {
       "_model_module": "@jupyter-widgets/base",
       "_model_module_version": "1.2.0",
       "_model_name": "LayoutModel",
       "_view_count": null,
       "_view_module": "@jupyter-widgets/base",
       "_view_module_version": "1.2.0",
       "_view_name": "LayoutView",
       "align_content": null,
       "align_items": null,
       "align_self": null,
       "border": null,
       "bottom": null,
       "display": null,
       "flex": null,
       "flex_flow": null,
       "grid_area": null,
       "grid_auto_columns": null,
       "grid_auto_flow": null,
       "grid_auto_rows": null,
       "grid_column": null,
       "grid_gap": null,
       "grid_row": null,
       "grid_template_areas": null,
       "grid_template_columns": null,
       "grid_template_rows": null,
       "height": null,
       "justify_content": null,
       "justify_items": null,
       "left": null,
       "margin": null,
       "max_height": null,
       "max_width": null,
       "min_height": null,
       "min_width": null,
       "object_fit": null,
       "object_position": null,
       "order": null,
       "overflow": null,
       "overflow_x": null,
       "overflow_y": null,
       "padding": null,
       "right": null,
       "top": null,
       "visibility": null,
       "width": null
      }
     },
     "79444203a173431b910ba103238b916c": {
      "model_module": "@jupyter-widgets/controls",
      "model_module_version": "1.5.0",
      "model_name": "FloatSliderModel",
      "state": {
       "_dom_classes": [],
       "_model_module": "@jupyter-widgets/controls",
       "_model_module_version": "1.5.0",
       "_model_name": "FloatSliderModel",
       "_view_count": null,
       "_view_module": "@jupyter-widgets/controls",
       "_view_module_version": "1.5.0",
       "_view_name": "FloatSliderView",
       "continuous_update": true,
       "description": "b",
       "description_tooltip": null,
       "disabled": false,
       "layout": "IPY_MODEL_5178303a84da4462b6554bea7b1e922f",
       "max": 4.5,
       "min": -1.5,
       "orientation": "horizontal",
       "readout": true,
       "readout_format": ".2f",
       "step": 0.1,
       "style": "IPY_MODEL_434b84122fa24ab29f30506171657282",
       "value": 1.5
      }
     },
     "80ec1ad5814a427798d39676082fee49": {
      "model_module": "@jupyter-widgets/controls",
      "model_module_version": "1.5.0",
      "model_name": "SliderStyleModel",
      "state": {
       "_model_module": "@jupyter-widgets/controls",
       "_model_module_version": "1.5.0",
       "_model_name": "SliderStyleModel",
       "_view_count": null,
       "_view_module": "@jupyter-widgets/base",
       "_view_module_version": "1.2.0",
       "_view_name": "StyleView",
       "description_width": "",
       "handle_color": null
      }
     },
     "88dc44a1e3b143d08a7b551835ee778d": {
      "model_module": "@jupyter-widgets/controls",
      "model_module_version": "1.5.0",
      "model_name": "SliderStyleModel",
      "state": {
       "_model_module": "@jupyter-widgets/controls",
       "_model_module_version": "1.5.0",
       "_model_name": "SliderStyleModel",
       "_view_count": null,
       "_view_module": "@jupyter-widgets/base",
       "_view_module_version": "1.2.0",
       "_view_name": "StyleView",
       "description_width": "",
       "handle_color": null
      }
     },
     "a18d458379f14dbda35c6e822f04736a": {
      "model_module": "@jupyter-widgets/controls",
      "model_module_version": "1.5.0",
      "model_name": "VBoxModel",
      "state": {
       "_dom_classes": [
        "widget-interact"
       ],
       "_model_module": "@jupyter-widgets/controls",
       "_model_module_version": "1.5.0",
       "_model_name": "VBoxModel",
       "_view_count": null,
       "_view_module": "@jupyter-widgets/controls",
       "_view_module_version": "1.5.0",
       "_view_name": "VBoxView",
       "box_style": "",
       "children": [
        "IPY_MODEL_f5e8f0a515da482ea163ac6ddf4027d1",
        "IPY_MODEL_79444203a173431b910ba103238b916c",
        "IPY_MODEL_bafcf9e73bb84bb2bc273ac89fd60ba5",
        "IPY_MODEL_a71619516d3348fb8529094974664683"
       ],
       "layout": "IPY_MODEL_42b8b0dc4a6b42c2a57431fe7919a76c"
      }
     },
     "a71619516d3348fb8529094974664683": {
      "model_module": "@jupyter-widgets/output",
      "model_module_version": "1.0.0",
      "model_name": "OutputModel",
      "state": {
       "_dom_classes": [],
       "_model_module": "@jupyter-widgets/output",
       "_model_module_version": "1.0.0",
       "_model_name": "OutputModel",
       "_view_count": null,
       "_view_module": "@jupyter-widgets/output",
       "_view_module_version": "1.0.0",
       "_view_name": "OutputView",
       "layout": "IPY_MODEL_520e53ee6ac4473babaad88d27f81c16",
       "msg_id": "",
       "outputs": [
        {
         "data": {
          "image/png": "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\n",
          "text/plain": "<Figure size 432x288 with 1 Axes>"
         },
         "metadata": {
          "needs_background": "light"
         },
         "output_type": "display_data"
        }
       ]
      }
     },
     "a8285d8e8e4f4ee6828f30f40062652b": {
      "model_module": "@jupyter-widgets/controls",
      "model_module_version": "1.5.0",
      "model_name": "VBoxModel",
      "state": {
       "_dom_classes": [
        "widget-interact"
       ],
       "_model_module": "@jupyter-widgets/controls",
       "_model_module_version": "1.5.0",
       "_model_name": "VBoxModel",
       "_view_count": null,
       "_view_module": "@jupyter-widgets/controls",
       "_view_module_version": "1.5.0",
       "_view_name": "VBoxView",
       "box_style": "",
       "children": [
        "IPY_MODEL_11b8c2b90ca646c19aa675170d937201",
        "IPY_MODEL_aede13cb822548dbb2955ff753a34ac8",
        "IPY_MODEL_39bbeb2b452049a9b126ddf8f5079d81",
        "IPY_MODEL_254b9b825d014051ac6f0374fb079486"
       ],
       "layout": "IPY_MODEL_65d3db22b46f480cb421cdcd333c607f"
      }
     },
     "aede13cb822548dbb2955ff753a34ac8": {
      "model_module": "@jupyter-widgets/controls",
      "model_module_version": "1.5.0",
      "model_name": "FloatSliderModel",
      "state": {
       "_dom_classes": [],
       "_model_module": "@jupyter-widgets/controls",
       "_model_module_version": "1.5.0",
       "_model_name": "FloatSliderModel",
       "_view_count": null,
       "_view_module": "@jupyter-widgets/controls",
       "_view_module_version": "1.5.0",
       "_view_name": "FloatSliderView",
       "continuous_update": true,
       "description": "b",
       "description_tooltip": null,
       "disabled": false,
       "layout": "IPY_MODEL_c14cb68a73e74565a0ecfc38ae01d40a",
       "max": 4.5,
       "min": -1.5,
       "orientation": "horizontal",
       "readout": true,
       "readout_format": ".2f",
       "step": 0.1,
       "style": "IPY_MODEL_c334b351cfcf4233a3c12f092708d0c6",
       "value": 1.5
      }
     },
     "bafcf9e73bb84bb2bc273ac89fd60ba5": {
      "model_module": "@jupyter-widgets/controls",
      "model_module_version": "1.5.0",
      "model_name": "FloatSliderModel",
      "state": {
       "_dom_classes": [],
       "_model_module": "@jupyter-widgets/controls",
       "_model_module_version": "1.5.0",
       "_model_name": "FloatSliderModel",
       "_view_count": null,
       "_view_module": "@jupyter-widgets/controls",
       "_view_module_version": "1.5.0",
       "_view_name": "FloatSliderView",
       "continuous_update": true,
       "description": "c",
       "description_tooltip": null,
       "disabled": false,
       "layout": "IPY_MODEL_48ffd38e7c3244f5b5f0459dd601ba40",
       "max": 4.5,
       "min": -1.5,
       "orientation": "horizontal",
       "readout": true,
       "readout_format": ".2f",
       "step": 0.1,
       "style": "IPY_MODEL_ed3aab30c44f4ebb85dc0bc3da4a451f",
       "value": 1.5
      }
     },
     "bf8483e29129447895734d51ff49948b": {
      "model_module": "@jupyter-widgets/controls",
      "model_module_version": "1.5.0",
      "model_name": "SliderStyleModel",
      "state": {
       "_model_module": "@jupyter-widgets/controls",
       "_model_module_version": "1.5.0",
       "_model_name": "SliderStyleModel",
       "_view_count": null,
       "_view_module": "@jupyter-widgets/base",
       "_view_module_version": "1.2.0",
       "_view_name": "StyleView",
       "description_width": "",
       "handle_color": null
      }
     },
     "c14cb68a73e74565a0ecfc38ae01d40a": {
      "model_module": "@jupyter-widgets/base",
      "model_module_version": "1.2.0",
      "model_name": "LayoutModel",
      "state": {
       "_model_module": "@jupyter-widgets/base",
       "_model_module_version": "1.2.0",
       "_model_name": "LayoutModel",
       "_view_count": null,
       "_view_module": "@jupyter-widgets/base",
       "_view_module_version": "1.2.0",
       "_view_name": "LayoutView",
       "align_content": null,
       "align_items": null,
       "align_self": null,
       "border": null,
       "bottom": null,
       "display": null,
       "flex": null,
       "flex_flow": null,
       "grid_area": null,
       "grid_auto_columns": null,
       "grid_auto_flow": null,
       "grid_auto_rows": null,
       "grid_column": null,
       "grid_gap": null,
       "grid_row": null,
       "grid_template_areas": null,
       "grid_template_columns": null,
       "grid_template_rows": null,
       "height": null,
       "justify_content": null,
       "justify_items": null,
       "left": null,
       "margin": null,
       "max_height": null,
       "max_width": null,
       "min_height": null,
       "min_width": null,
       "object_fit": null,
       "object_position": null,
       "order": null,
       "overflow": null,
       "overflow_x": null,
       "overflow_y": null,
       "padding": null,
       "right": null,
       "top": null,
       "visibility": null,
       "width": null
      }
     },
     "c334b351cfcf4233a3c12f092708d0c6": {
      "model_module": "@jupyter-widgets/controls",
      "model_module_version": "1.5.0",
      "model_name": "SliderStyleModel",
      "state": {
       "_model_module": "@jupyter-widgets/controls",
       "_model_module_version": "1.5.0",
       "_model_name": "SliderStyleModel",
       "_view_count": null,
       "_view_module": "@jupyter-widgets/base",
       "_view_module_version": "1.2.0",
       "_view_name": "StyleView",
       "description_width": "",
       "handle_color": null
      }
     },
     "ed3aab30c44f4ebb85dc0bc3da4a451f": {
      "model_module": "@jupyter-widgets/controls",
      "model_module_version": "1.5.0",
      "model_name": "SliderStyleModel",
      "state": {
       "_model_module": "@jupyter-widgets/controls",
       "_model_module_version": "1.5.0",
       "_model_name": "SliderStyleModel",
       "_view_count": null,
       "_view_module": "@jupyter-widgets/base",
       "_view_module_version": "1.2.0",
       "_view_name": "StyleView",
       "description_width": "",
       "handle_color": null
      }
     },
     "f5e8f0a515da482ea163ac6ddf4027d1": {
      "model_module": "@jupyter-widgets/controls",
      "model_module_version": "1.5.0",
      "model_name": "FloatSliderModel",
      "state": {
       "_dom_classes": [],
       "_model_module": "@jupyter-widgets/controls",
       "_model_module_version": "1.5.0",
       "_model_name": "FloatSliderModel",
       "_view_count": null,
       "_view_module": "@jupyter-widgets/controls",
       "_view_module_version": "1.5.0",
       "_view_name": "FloatSliderView",
       "continuous_update": true,
       "description": "a",
       "description_tooltip": null,
       "disabled": false,
       "layout": "IPY_MODEL_5580f7db6dbd45fe98d54636b672f243",
       "max": 4.5,
       "min": -1.5,
       "orientation": "horizontal",
       "readout": true,
       "readout_format": ".2f",
       "step": 0.1,
       "style": "IPY_MODEL_bf8483e29129447895734d51ff49948b",
       "value": 1.5
      }
     },
     "f8b5ae15c67140ed9a783aafaed90031": {
      "model_module": "@jupyter-widgets/base",
      "model_module_version": "1.2.0",
      "model_name": "LayoutModel",
      "state": {
       "_model_module": "@jupyter-widgets/base",
       "_model_module_version": "1.2.0",
       "_model_name": "LayoutModel",
       "_view_count": null,
       "_view_module": "@jupyter-widgets/base",
       "_view_module_version": "1.2.0",
       "_view_name": "LayoutView",
       "align_content": null,
       "align_items": null,
       "align_self": null,
       "border": null,
       "bottom": null,
       "display": null,
       "flex": null,
       "flex_flow": null,
       "grid_area": null,
       "grid_auto_columns": null,
       "grid_auto_flow": null,
       "grid_auto_rows": null,
       "grid_column": null,
       "grid_gap": null,
       "grid_row": null,
       "grid_template_areas": null,
       "grid_template_columns": null,
       "grid_template_rows": null,
       "height": null,
       "justify_content": null,
       "justify_items": null,
       "left": null,
       "margin": null,
       "max_height": null,
       "max_width": null,
       "min_height": null,
       "min_width": null,
       "object_fit": null,
       "object_position": null,
       "order": null,
       "overflow": null,
       "overflow_x": null,
       "overflow_y": null,
       "padding": null,
       "right": null,
       "top": null,
       "visibility": null,
       "width": null
      }
     },
     "fe1c09902b6148938dbc9bcc39fe47b2": {
      "model_module": "@jupyter-widgets/base",
      "model_module_version": "1.2.0",
      "model_name": "LayoutModel",
      "state": {
       "_model_module": "@jupyter-widgets/base",
       "_model_module_version": "1.2.0",
       "_model_name": "LayoutModel",
       "_view_count": null,
       "_view_module": "@jupyter-widgets/base",
       "_view_module_version": "1.2.0",
       "_view_name": "LayoutView",
       "align_content": null,
       "align_items": null,
       "align_self": null,
       "border": null,
       "bottom": null,
       "display": null,
       "flex": null,
       "flex_flow": null,
       "grid_area": null,
       "grid_auto_columns": null,
       "grid_auto_flow": null,
       "grid_auto_rows": null,
       "grid_column": null,
       "grid_gap": null,
       "grid_row": null,
       "grid_template_areas": null,
       "grid_template_columns": null,
       "grid_template_rows": null,
       "height": null,
       "justify_content": null,
       "justify_items": null,
       "left": null,
       "margin": null,
       "max_height": null,
       "max_width": null,
       "min_height": null,
       "min_width": null,
       "object_fit": null,
       "object_position": null,
       "order": null,
       "overflow": null,
       "overflow_x": null,
       "overflow_y": null,
       "padding": null,
       "right": null,
       "top": null,
       "visibility": null,
       "width": null
      }
     }
    },
    "version_major": 2,
    "version_minor": 0
   }
  }
 },
 "nbformat": 4,
 "nbformat_minor": 5
}
