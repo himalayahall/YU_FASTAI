{
 "cells": [
  {
   "cell_type": "code",
   "execution_count": 1,
   "id": "16707c1e",
   "metadata": {
    "execution": {
     "iopub.execute_input": "2023-01-28T17:24:00.629424Z",
     "iopub.status.busy": "2023-01-28T17:24:00.628959Z",
     "iopub.status.idle": "2023-01-28T17:24:05.034117Z",
     "shell.execute_reply": "2023-01-28T17:24:05.032790Z"
    },
    "papermill": {
     "duration": 4.421098,
     "end_time": "2023-01-28T17:24:05.037129",
     "exception": false,
     "start_time": "2023-01-28T17:24:00.616031",
     "status": "completed"
    },
    "tags": []
   },
   "outputs": [],
   "source": [
    "from fastai.vision.all import *\n",
    "import pylab as plt\n",
    "\n",
    "random.seed(42)"
   ]
  },
  {
   "cell_type": "markdown",
   "id": "a9f36e15",
   "metadata": {
    "papermill": {
     "duration": 0.009339,
     "end_time": "2023-01-28T17:24:05.056394",
     "exception": false,
     "start_time": "2023-01-28T17:24:05.047055",
     "status": "completed"
    },
    "tags": []
   },
   "source": [
    "Let's begin by defining a function that will plot the output for any given quadratic function."
   ]
  },
  {
   "cell_type": "code",
   "execution_count": 2,
   "id": "fe76b00c",
   "metadata": {
    "execution": {
     "iopub.execute_input": "2023-01-28T17:24:05.077852Z",
     "iopub.status.busy": "2023-01-28T17:24:05.077423Z",
     "iopub.status.idle": "2023-01-28T17:24:05.084228Z",
     "shell.execute_reply": "2023-01-28T17:24:05.083156Z"
    },
    "papermill": {
     "duration": 0.020252,
     "end_time": "2023-01-28T17:24:05.086399",
     "exception": false,
     "start_time": "2023-01-28T17:24:05.066147",
     "status": "completed"
    },
    "tags": []
   },
   "outputs": [],
   "source": [
    "def plot_function(f, tx=None, ty=None, title=None, min=-2, max=2, figsize=(6,4)):\n",
    "    x = torch.linspace(min,max,steps=20)\n",
    "    fig,ax = plt.subplots(figsize=figsize)\n",
    "    ax.plot(x, f(x))\n",
    "    if tx is not None: ax.set_xlabel(tx)\n",
    "    if ty is not None: ax.set_ylabel(ty)\n",
    "    if title is not None: ax.set_title(title)"
   ]
  },
  {
   "cell_type": "markdown",
   "id": "9fd070aa",
   "metadata": {
    "papermill": {
     "duration": 0.009448,
     "end_time": "2023-01-28T17:24:05.105453",
     "exception": false,
     "start_time": "2023-01-28T17:24:05.096005",
     "status": "completed"
    },
    "tags": []
   },
   "source": [
    "One can think of any NN as a function that maps a set of inputs to another set of outputs. We would like train the NN to map the inputs to the outputs in such a way that the `loss` is minimized. Fitting the model to the data and minimizing the loss is the essence of machine learning.\n",
    "\n",
    "So what is this function? That depends on the problem we are trying to solve, but to understand a few key concepts, we will look at a simple regression problem and use a quadratic function as the 'model'.\n",
    "\n",
    "Let's start by defining the quadratic function $3x^2 + 2x + 1$. "
   ]
  },
  {
   "cell_type": "code",
   "execution_count": 3,
   "id": "79d28aa4",
   "metadata": {
    "execution": {
     "iopub.execute_input": "2023-01-28T17:24:05.127235Z",
     "iopub.status.busy": "2023-01-28T17:24:05.126831Z",
     "iopub.status.idle": "2023-01-28T17:24:05.131925Z",
     "shell.execute_reply": "2023-01-28T17:24:05.130788Z"
    },
    "papermill": {
     "duration": 0.018278,
     "end_time": "2023-01-28T17:24:05.134247",
     "exception": false,
     "start_time": "2023-01-28T17:24:05.115969",
     "status": "completed"
    },
    "tags": []
   },
   "outputs": [],
   "source": [
    "def quad(x): return 3 * x**2 + 2 * x + 1"
   ]
  },
  {
   "cell_type": "markdown",
   "id": "5ac03624",
   "metadata": {
    "papermill": {
     "duration": 0.009018,
     "end_time": "2023-01-28T17:24:05.152736",
     "exception": false,
     "start_time": "2023-01-28T17:24:05.143718",
     "status": "completed"
    },
    "tags": []
   },
   "source": [
    "Let's generate a plot of our quadratic function."
   ]
  },
  {
   "cell_type": "code",
   "execution_count": 4,
   "id": "f3628457",
   "metadata": {
    "execution": {
     "iopub.execute_input": "2023-01-28T17:24:05.173425Z",
     "iopub.status.busy": "2023-01-28T17:24:05.172809Z",
     "iopub.status.idle": "2023-01-28T17:24:05.607122Z",
     "shell.execute_reply": "2023-01-28T17:24:05.605970Z"
    },
    "papermill": {
     "duration": 0.448192,
     "end_time": "2023-01-28T17:24:05.610169",
     "exception": false,
     "start_time": "2023-01-28T17:24:05.161977",
     "status": "completed"
    },
    "tags": []
   },
   "outputs": [
    {
     "data": {
      "image/png": "[encoded data removed]",
      "text/plain": [
       "<Figure size 432x288 with 1 Axes>"
      ]
     },
     "metadata": {
      "needs_background": "light"
     },
     "output_type": "display_data"
    }
   ],
   "source": [
    "plot_function(quad, '$3x^2 + 2x + 1$')"
   ]
  },
  {
   "cell_type": "markdown",
   "id": "44758b99",
   "metadata": {
    "papermill": {
     "duration": 0.009773,
     "end_time": "2023-01-28T17:24:05.630052",
     "exception": false,
     "start_time": "2023-01-28T17:24:05.620279",
     "status": "completed"
    },
    "tags": []
   },
   "source": [
    "To make it easy to look at different functions let's define a generalized quadratic function."
   ]
  },
  {
   "cell_type": "code",
   "execution_count": 5,
   "id": "c9f67dbd",
   "metadata": {
    "execution": {
     "iopub.execute_input": "2023-01-28T17:24:05.651815Z",
     "iopub.status.busy": "2023-01-28T17:24:05.651178Z",
     "iopub.status.idle": "2023-01-28T17:24:05.656635Z",
     "shell.execute_reply": "2023-01-28T17:24:05.655574Z"
    },
    "papermill": {
     "duration": 0.018669,
     "end_time": "2023-01-28T17:24:05.658721",
     "exception": false,
     "start_time": "2023-01-28T17:24:05.640052",
     "status": "completed"
    },
    "tags": []
   },
   "outputs": [],
   "source": [
    "def quad(a, b, c, x): return a * x**2 + b * x + c"
   ]
  },
  {
   "cell_type": "markdown",
   "id": "f5cd733a",
   "metadata": {
    "papermill": {
     "duration": 0.009381,
     "end_time": "2023-01-28T17:24:05.677961",
     "exception": false,
     "start_time": "2023-01-28T17:24:05.668580",
     "status": "completed"
    },
    "tags": []
   },
   "source": [
    "Let's also define a factory for creating quadratic functions. Factory functions are a broadly used concept in software engineering that hide complexity and provide many other potential benefits. \n",
    "\n",
    "We use the `partial` function to 'fix' the values of a, b, and coefficients. Note - a `lambda` would work just as well but `partial` is more flexible and powerful."
   ]
  },
  {
   "cell_type": "code",
   "execution_count": 6,
   "id": "ae13f95f",
   "metadata": {
    "execution": {
     "iopub.execute_input": "2023-01-28T17:24:05.698930Z",
     "iopub.status.busy": "2023-01-28T17:24:05.698483Z",
     "iopub.status.idle": "2023-01-28T17:24:05.703717Z",
     "shell.execute_reply": "2023-01-28T17:24:05.702651Z"
    },
    "papermill": {
     "duration": 0.018339,
     "end_time": "2023-01-28T17:24:05.706045",
     "exception": false,
     "start_time": "2023-01-28T17:24:05.687706",
     "status": "completed"
    },
    "tags": []
   },
   "outputs": [],
   "source": [
    "from functools import partial\n",
    "def make_quad(a, b, c) : return partial(quad, a, b, c)"
   ]
  },
  {
   "cell_type": "markdown",
   "id": "31c2657f",
   "metadata": {
    "papermill": {
     "duration": 0.009304,
     "end_time": "2023-01-28T17:24:05.725270",
     "exception": false,
     "start_time": "2023-01-28T17:24:05.715966",
     "status": "completed"
    },
    "tags": []
   },
   "source": [
    "Now we use the factory to re-create our quadratic"
   ]
  },
  {
   "cell_type": "code",
   "execution_count": 7,
   "id": "e22891bf",
   "metadata": {
    "execution": {
     "iopub.execute_input": "2023-01-28T17:24:05.746581Z",
     "iopub.status.busy": "2023-01-28T17:24:05.746172Z",
     "iopub.status.idle": "2023-01-28T17:24:05.751015Z",
     "shell.execute_reply": "2023-01-28T17:24:05.749961Z"
    },
    "papermill": {
     "duration": 0.018207,
     "end_time": "2023-01-28T17:24:05.753266",
     "exception": false,
     "start_time": "2023-01-28T17:24:05.735059",
     "status": "completed"
    },
    "tags": []
   },
   "outputs": [],
   "source": [
    "f = make_quad(3, 2, 1)"
   ]
  },
  {
   "cell_type": "markdown",
   "id": "17d0a85e",
   "metadata": {
    "papermill": {
     "duration": 0.009489,
     "end_time": "2023-01-28T17:24:05.772603",
     "exception": false,
     "start_time": "2023-01-28T17:24:05.763114",
     "status": "completed"
    },
    "tags": []
   },
   "source": [
    "Short sidebar on `partial` functions:\n",
    "\n",
    "Partial functions are used to derive a specialized function with fewer parameters from the original function by setting constant values to a certain number of arguments. Python Partial functions make code more reusable without altering the original function."
   ]
  },
  {
   "cell_type": "code",
   "execution_count": 8,
   "id": "d78c5338",
   "metadata": {
    "execution": {
     "iopub.execute_input": "2023-01-28T17:24:05.794106Z",
     "iopub.status.busy": "2023-01-28T17:24:05.793348Z",
     "iopub.status.idle": "2023-01-28T17:24:05.800017Z",
     "shell.execute_reply": "2023-01-28T17:24:05.798945Z"
    },
    "papermill": {
     "duration": 0.019933,
     "end_time": "2023-01-28T17:24:05.802377",
     "exception": false,
     "start_time": "2023-01-28T17:24:05.782444",
     "status": "completed"
    },
    "tags": []
   },
   "outputs": [
    {
     "data": {
      "text/plain": [
       "functools.partial(<function quad at 0x7f311de420e0>, 3, 2, 1)"
      ]
     },
     "execution_count": 8,
     "metadata": {},
     "output_type": "execute_result"
    }
   ],
   "source": [
    "f"
   ]
  },
  {
   "cell_type": "markdown",
   "id": "7cba6ed3",
   "metadata": {
    "papermill": {
     "duration": 0.009416,
     "end_time": "2023-01-28T17:24:05.821769",
     "exception": false,
     "start_time": "2023-01-28T17:24:05.812353",
     "status": "completed"
    },
    "tags": []
   },
   "source": [
    "Unlike `lambda`, `partial` functions can be examined for inner details."
   ]
  },
  {
   "cell_type": "code",
   "execution_count": 9,
   "id": "890e56b3",
   "metadata": {
    "execution": {
     "iopub.execute_input": "2023-01-28T17:24:05.843368Z",
     "iopub.status.busy": "2023-01-28T17:24:05.842291Z",
     "iopub.status.idle": "2023-01-28T17:24:05.849277Z",
     "shell.execute_reply": "2023-01-28T17:24:05.848424Z"
    },
    "papermill": {
     "duration": 0.019948,
     "end_time": "2023-01-28T17:24:05.851404",
     "exception": false,
     "start_time": "2023-01-28T17:24:05.831456",
     "status": "completed"
    },
    "tags": []
   },
   "outputs": [
    {
     "data": {
      "text/plain": [
       "(3, 2, 1)"
      ]
     },
     "execution_count": 9,
     "metadata": {},
     "output_type": "execute_result"
    }
   ],
   "source": [
    "f.args"
   ]
  },
  {
   "cell_type": "code",
   "execution_count": 10,
   "id": "a70b0aa1",
   "metadata": {
    "execution": {
     "iopub.execute_input": "2023-01-28T17:24:05.873211Z",
     "iopub.status.busy": "2023-01-28T17:24:05.872195Z",
     "iopub.status.idle": "2023-01-28T17:24:05.878068Z",
     "shell.execute_reply": "2023-01-28T17:24:05.877369Z"
    },
    "papermill": {
     "duration": 0.018785,
     "end_time": "2023-01-28T17:24:05.880057",
     "exception": false,
     "start_time": "2023-01-28T17:24:05.861272",
     "status": "completed"
    },
    "tags": []
   },
   "outputs": [
    {
     "data": {
      "text/plain": [
       "<function __main__.quad(a, b, c, x)>"
      ]
     },
     "execution_count": 10,
     "metadata": {},
     "output_type": "execute_result"
    }
   ],
   "source": [
    "f.func"
   ]
  },
  {
   "cell_type": "markdown",
   "id": "9ac9ec4b",
   "metadata": {
    "papermill": {
     "duration": 0.009681,
     "end_time": "2023-01-28T17:24:05.899810",
     "exception": false,
     "start_time": "2023-01-28T17:24:05.890129",
     "status": "completed"
    },
    "tags": []
   },
   "source": [
    "Let's generate some random normally distributed data. We will use out quadratic functiomn to 'fit' this data."
   ]
  },
  {
   "cell_type": "code",
   "execution_count": 11,
   "id": "b7156b20",
   "metadata": {
    "execution": {
     "iopub.execute_input": "2023-01-28T17:24:05.922293Z",
     "iopub.status.busy": "2023-01-28T17:24:05.921685Z",
     "iopub.status.idle": "2023-01-28T17:24:05.926677Z",
     "shell.execute_reply": "2023-01-28T17:24:05.925935Z"
    },
    "papermill": {
     "duration": 0.01861,
     "end_time": "2023-01-28T17:24:05.928675",
     "exception": false,
     "start_time": "2023-01-28T17:24:05.910065",
     "status": "completed"
    },
    "tags": []
   },
   "outputs": [],
   "source": [
    "from numpy.random import normal, seed, uniform\n",
    "def noise(x, scale) : return normal(scale = scale, size = x.shape)\n",
    "def add_noise(x, mult, add): return x + (1 + noise(x, mult)) + noise(x, add)"
   ]
  },
  {
   "cell_type": "code",
   "execution_count": 12,
   "id": "40b8d35c",
   "metadata": {
    "execution": {
     "iopub.execute_input": "2023-01-28T17:24:05.950779Z",
     "iopub.status.busy": "2023-01-28T17:24:05.950175Z",
     "iopub.status.idle": "2023-01-28T17:24:06.177318Z",
     "shell.execute_reply": "2023-01-28T17:24:06.176236Z"
    },
    "papermill": {
     "duration": 0.240814,
     "end_time": "2023-01-28T17:24:06.179613",
     "exception": false,
     "start_time": "2023-01-28T17:24:05.938799",
     "status": "completed"
    },
    "tags": []
   },
   "outputs": [
    {
     "data": {
      "text/plain": [
       "<matplotlib.collections.PathCollection at 0x7f311de6bbd0>"
      ]
     },
     "execution_count": 12,
     "metadata": {},
     "output_type": "execute_result"
    },
    {
     "data": {
      "image/png": "[encoded data removed]",
      "text/plain": [
       "<Figure size 432x288 with 1 Axes>"
      ]
     },
     "metadata": {
      "needs_background": "light"
     },
     "output_type": "display_data"
    }
   ],
   "source": [
    "x = torch.linspace(-2, 2, steps=20)[:,None]\n",
    "y = add_noise(f(x), 0.3, 1.5)\n",
    "plt.scatter(x, y)"
   ]
  },
  {
   "cell_type": "markdown",
   "id": "4802fac0",
   "metadata": {
    "papermill": {
     "duration": 0.010153,
     "end_time": "2023-01-28T17:24:06.200276",
     "exception": false,
     "start_time": "2023-01-28T17:24:06.190123",
     "status": "completed"
    },
    "tags": []
   },
   "source": [
    "To see how well our quadratic function fits the data, and to try out different variations of the quad coefficients, let's create an interactive function to plot the data together with the output of the quad function. \n",
    "\n",
    "We can then vary the quad coefficients to try better to get a better fit."
   ]
  },
  {
   "cell_type": "code",
   "execution_count": 13,
   "id": "2349a6df",
   "metadata": {
    "execution": {
     "iopub.execute_input": "2023-01-28T17:24:06.222814Z",
     "iopub.status.busy": "2023-01-28T17:24:06.222400Z",
     "iopub.status.idle": "2023-01-28T17:24:06.227115Z",
     "shell.execute_reply": "2023-01-28T17:24:06.226121Z"
    },
    "papermill": {
     "duration": 0.018486,
     "end_time": "2023-01-28T17:24:06.229245",
     "exception": false,
     "start_time": "2023-01-28T17:24:06.210759",
     "status": "completed"
    },
    "tags": []
   },
   "outputs": [],
   "source": [
    "from ipywidgets import interact"
   ]
  },
  {
   "cell_type": "code",
   "execution_count": 14,
   "id": "5e0fa98b",
   "metadata": {
    "execution": {
     "iopub.execute_input": "2023-01-28T17:24:06.252103Z",
     "iopub.status.busy": "2023-01-28T17:24:06.251316Z",
     "iopub.status.idle": "2023-01-28T17:24:06.511545Z",
     "shell.execute_reply": "2023-01-28T17:24:06.510397Z"
    },
    "papermill": {
     "duration": 0.274405,
     "end_time": "2023-01-28T17:24:06.514020",
     "exception": false,
     "start_time": "2023-01-28T17:24:06.239615",
     "status": "completed"
    },
    "tags": []
   },
   "outputs": [
    {
     "data": {
      "application/vnd.jupyter.widget-view+json": {
       "model_id": "25399b784f154a7886277817d9974973",
       "version_major": 2,
       "version_minor": 0
      },
      "text/plain": [
       "interactive(children=(FloatSlider(value=1.5, description='a', max=4.5, min=-1.5), FloatSlider(value=1.5, descr…"
      ]
     },
     "metadata": {},
     "output_type": "display_data"
    }
   ],
   "source": [
    "@interact(a = 1.5, b = 1.5, c = 1.5)\n",
    "def plot_quad(a, b, c):\n",
    "    plot_function(make_quad(a, b, c))\n",
    "    plt.scatter(x, y)"
   ]
  },
  {
   "cell_type": "markdown",
   "id": "501b313e",
   "metadata": {
    "papermill": {
     "duration": 0.010339,
     "end_time": "2023-01-28T17:24:06.536464",
     "exception": false,
     "start_time": "2023-01-28T17:24:06.526125",
     "status": "completed"
    },
    "tags": []
   },
   "source": [
    "Playing with the interactive widget was fun but judging whether a particular combination of coefficients is better than previous combinations was very subjective. \n",
    "\n",
    "Let's correct that by creating a `loss` function. The function will take the predictions ($\\hat y$) and actual observations ($y$) and calculate the Mean Square Error (MSE)"
   ]
  },
  {
   "cell_type": "code",
   "execution_count": 15,
   "id": "b0e80a51",
   "metadata": {
    "execution": {
     "iopub.execute_input": "2023-01-28T17:24:06.560625Z",
     "iopub.status.busy": "2023-01-28T17:24:06.559709Z",
     "iopub.status.idle": "2023-01-28T17:24:06.565199Z",
     "shell.execute_reply": "2023-01-28T17:24:06.564101Z"
    },
    "papermill": {
     "duration": 0.019716,
     "end_time": "2023-01-28T17:24:06.567419",
     "exception": false,
     "start_time": "2023-01-28T17:24:06.547703",
     "status": "completed"
    },
    "tags": []
   },
   "outputs": [],
   "source": [
    "def mse(pred, actual) : return ((pred - actual) ** 2).mean()"
   ]
  },
  {
   "cell_type": "markdown",
   "id": "b10053d1",
   "metadata": {
    "papermill": {
     "duration": 0.010331,
     "end_time": "2023-01-28T17:24:06.588657",
     "exception": false,
     "start_time": "2023-01-28T17:24:06.578326",
     "status": "completed"
    },
    "tags": []
   },
   "source": [
    "Next, we update our interactive function to add MSE to the plot so we can easily tell whether the new coefficient setting is improved and degraded the model."
   ]
  },
  {
   "cell_type": "code",
   "execution_count": 16,
   "id": "ebf9ed98",
   "metadata": {
    "execution": {
     "iopub.execute_input": "2023-01-28T17:24:06.612251Z",
     "iopub.status.busy": "2023-01-28T17:24:06.611882Z",
     "iopub.status.idle": "2023-01-28T17:24:06.872114Z",
     "shell.execute_reply": "2023-01-28T17:24:06.870963Z"
    },
    "papermill": {
     "duration": 0.275299,
     "end_time": "2023-01-28T17:24:06.874565",
     "exception": false,
     "start_time": "2023-01-28T17:24:06.599266",
     "status": "completed"
    },
    "tags": []
   },
   "outputs": [
    {
     "data": {
      "application/vnd.jupyter.widget-view+json": {
       "model_id": "604c82a08bd944968dd6f126c962cbbe",
       "version_major": 2,
       "version_minor": 0
      },
      "text/plain": [
       "interactive(children=(FloatSlider(value=1.5, description='a', max=4.5, min=-1.5), FloatSlider(value=1.5, descr…"
      ]
     },
     "metadata": {},
     "output_type": "display_data"
    }
   ],
   "source": [
    "@interact(a = 1.5, b = 1.5, c = 1.5)\n",
    "def plot_quad(a, b, c):\n",
    "    f = make_quad(a, b, c)\n",
    "    loss = mse(f(x), y)\n",
    "    title = \"MSE: \" + str(loss)\n",
    "    plot_function(f, title=f'MSE: {loss:.2f}')\n",
    "    plt.scatter(x, y)"
   ]
  },
  {
   "cell_type": "markdown",
   "id": "a1dd9b4d",
   "metadata": {
    "papermill": {
     "duration": 0.01057,
     "end_time": "2023-01-28T17:24:06.896297",
     "exception": false,
     "start_time": "2023-01-28T17:24:06.885727",
     "status": "completed"
    },
    "tags": []
   },
   "source": [
    "Cool! That was better but it would be great if finding the best combination of coefficients - i.e. smallest MSE - could be automated. After all, that is our key objective.\n",
    "\n",
    "Let's wrap the creating of the loss function and calculation of the MSE into a single function `quad_mse`"
   ]
  },
  {
   "cell_type": "code",
   "execution_count": 17,
   "id": "5ba15ebe",
   "metadata": {
    "execution": {
     "iopub.execute_input": "2023-01-28T17:24:06.920567Z",
     "iopub.status.busy": "2023-01-28T17:24:06.920137Z",
     "iopub.status.idle": "2023-01-28T17:24:06.924781Z",
     "shell.execute_reply": "2023-01-28T17:24:06.923992Z"
    },
    "papermill": {
     "duration": 0.019235,
     "end_time": "2023-01-28T17:24:06.926706",
     "exception": false,
     "start_time": "2023-01-28T17:24:06.907471",
     "status": "completed"
    },
    "tags": []
   },
   "outputs": [],
   "source": [
    "def quad_mse(params):\n",
    "    f = make_quad(*params)\n",
    "    return mse(f(x), y)"
   ]
  },
  {
   "cell_type": "markdown",
   "id": "d002a838",
   "metadata": {
    "papermill": {
     "duration": 0.010486,
     "end_time": "2023-01-28T17:24:06.948151",
     "exception": false,
     "start_time": "2023-01-28T17:24:06.937665",
     "status": "completed"
    },
    "tags": []
   },
   "source": [
    "For sanity check, let's compute MSE using the `quad_mse` our default coefficient settings `[1.5, 1.5, 1.5]`."
   ]
  },
  {
   "cell_type": "code",
   "execution_count": 18,
   "id": "fbc63ff0",
   "metadata": {
    "execution": {
     "iopub.execute_input": "2023-01-28T17:24:06.971768Z",
     "iopub.status.busy": "2023-01-28T17:24:06.971003Z",
     "iopub.status.idle": "2023-01-28T17:24:06.977647Z",
     "shell.execute_reply": "2023-01-28T17:24:06.976874Z"
    },
    "papermill": {
     "duration": 0.020666,
     "end_time": "2023-01-28T17:24:06.979573",
     "exception": false,
     "start_time": "2023-01-28T17:24:06.958907",
     "status": "completed"
    },
    "tags": []
   },
   "outputs": [
    {
     "data": {
      "text/plain": [
       "tensor(12.7018, dtype=torch.float64)"
      ]
     },
     "execution_count": 18,
     "metadata": {},
     "output_type": "execute_result"
    }
   ],
   "source": [
    "quad_mse([1.5, 1.5, 1.5])"
   ]
  },
  {
   "cell_type": "markdown",
   "id": "02fc2fe8",
   "metadata": {
    "papermill": {
     "duration": 0.010579,
     "end_time": "2023-01-28T17:24:07.000979",
     "exception": false,
     "start_time": "2023-01-28T17:24:06.990400",
     "status": "completed"
    },
    "tags": []
   },
   "source": [
    "This is fun! Let's compute MSE at another set of coefficients. \n",
    "\n",
    "Much better!"
   ]
  },
  {
   "cell_type": "code",
   "execution_count": 19,
   "id": "cca9d801",
   "metadata": {
    "execution": {
     "iopub.execute_input": "2023-01-28T17:24:07.025080Z",
     "iopub.status.busy": "2023-01-28T17:24:07.024399Z",
     "iopub.status.idle": "2023-01-28T17:24:07.030611Z",
     "shell.execute_reply": "2023-01-28T17:24:07.029906Z"
    },
    "papermill": {
     "duration": 0.02043,
     "end_time": "2023-01-28T17:24:07.032614",
     "exception": false,
     "start_time": "2023-01-28T17:24:07.012184",
     "status": "completed"
    },
    "tags": []
   },
   "outputs": [
    {
     "data": {
      "text/plain": [
       "tensor(2.4259, dtype=torch.float64)"
      ]
     },
     "execution_count": 19,
     "metadata": {},
     "output_type": "execute_result"
    }
   ],
   "source": [
    "quad_mse([3.0, 1.5, 1.5])"
   ]
  },
  {
   "cell_type": "markdown",
   "id": "bc325768",
   "metadata": {
    "papermill": {
     "duration": 0.010642,
     "end_time": "2023-01-28T17:24:07.054356",
     "exception": false,
     "start_time": "2023-01-28T17:24:07.043714",
     "status": "completed"
    },
    "tags": []
   },
   "source": [
    "And once more. \n",
    "\n",
    "Oops, the loss increased! We will have to undo last change."
   ]
  },
  {
   "cell_type": "code",
   "execution_count": 20,
   "id": "f9eb614e",
   "metadata": {
    "execution": {
     "iopub.execute_input": "2023-01-28T17:24:07.078474Z",
     "iopub.status.busy": "2023-01-28T17:24:07.077820Z",
     "iopub.status.idle": "2023-01-28T17:24:07.084278Z",
     "shell.execute_reply": "2023-01-28T17:24:07.083572Z"
    },
    "papermill": {
     "duration": 0.020879,
     "end_time": "2023-01-28T17:24:07.086229",
     "exception": false,
     "start_time": "2023-01-28T17:24:07.065350",
     "status": "completed"
    },
    "tags": []
   },
   "outputs": [
    {
     "data": {
      "text/plain": [
       "tensor(2.8967, dtype=torch.float64)"
      ]
     },
     "execution_count": 20,
     "metadata": {},
     "output_type": "execute_result"
    }
   ],
   "source": [
    "quad_mse([3.5, 1.5, 1.5])"
   ]
  },
  {
   "cell_type": "markdown",
   "id": "4160c6ad",
   "metadata": {
    "papermill": {
     "duration": 0.010882,
     "end_time": "2023-01-28T17:24:07.108250",
     "exception": false,
     "start_time": "2023-01-28T17:24:07.097368",
     "status": "completed"
    },
    "tags": []
   },
   "source": [
    "We can keep doing this and eventually (hopefully) we will arrive at an acceptable loss. That would give us the optimal coefficients for the quad function to fit the data. This is roughly how a NN does its learning!\n",
    "\n",
    "Short pause - think of the quadratic function as the NN, the quad coefficients as the weights, MSE as the loss function, and modification of coefficients as backward propagation updating the weights."
   ]
  },
  {
   "cell_type": "markdown",
   "id": "a953152c",
   "metadata": {
    "papermill": {
     "duration": 0.010761,
     "end_time": "2023-01-28T17:24:07.130476",
     "exception": false,
     "start_time": "2023-01-28T17:24:07.119715",
     "status": "completed"
    },
    "tags": []
   },
   "source": [
    "You may have noticed that sometimes a coefficient value had to be increased (decreased) to get a lower (higher) loss. And we didn't know ahead of time whether it was a good idea to increase (decrease) a particular coefficient. We simply made the change, observed the resulting loss, and only then did we know whether or not the model had improved.\n",
    "\n",
    "Wouldn't it be nice if we knew whether to increase or decrease a particular coefficient **before** making that change? That's where the gradients comes in!"
   ]
  },
  {
   "cell_type": "markdown",
   "id": "ad1d75fa",
   "metadata": {
    "papermill": {
     "duration": 0.010691,
     "end_time": "2023-01-28T17:24:07.152400",
     "exception": false,
     "start_time": "2023-01-28T17:24:07.141709",
     "status": "completed"
    },
    "tags": []
   },
   "source": [
    "We will leverage tensors to do the heavy lifting. Let's create a `tensor` to calculate the quadratic MSE."
   ]
  },
  {
   "cell_type": "code",
   "execution_count": 21,
   "id": "61c9c996",
   "metadata": {
    "execution": {
     "iopub.execute_input": "2023-01-28T17:24:07.176353Z",
     "iopub.status.busy": "2023-01-28T17:24:07.175693Z",
     "iopub.status.idle": "2023-01-28T17:24:07.182166Z",
     "shell.execute_reply": "2023-01-28T17:24:07.181474Z"
    },
    "papermill": {
     "duration": 0.02072,
     "end_time": "2023-01-28T17:24:07.184090",
     "exception": false,
     "start_time": "2023-01-28T17:24:07.163370",
     "status": "completed"
    },
    "tags": []
   },
   "outputs": [
    {
     "data": {
      "text/plain": [
       "tensor([1.5000, 1.5000, 1.5000])"
      ]
     },
     "execution_count": 21,
     "metadata": {},
     "output_type": "execute_result"
    }
   ],
   "source": [
    "a_tensor = tensor([1.5, 1.5, 1.5])\n",
    "a_tensor"
   ]
  },
  {
   "cell_type": "markdown",
   "id": "d47dd6c3",
   "metadata": {
    "papermill": {
     "duration": 0.010772,
     "end_time": "2023-01-28T17:24:07.205998",
     "exception": false,
     "start_time": "2023-01-28T17:24:07.195226",
     "status": "completed"
    },
    "tags": []
   },
   "source": [
    "next, we tell Pytorch that we'd like to compute gradient at that tensor. \n",
    "\n",
    "Note, Pytorch has flagged (requires_grad) that this tensor requires gradient whenever it's used in calculations"
   ]
  },
  {
   "cell_type": "code",
   "execution_count": 22,
   "id": "e28b81d9",
   "metadata": {
    "execution": {
     "iopub.execute_input": "2023-01-28T17:24:07.230358Z",
     "iopub.status.busy": "2023-01-28T17:24:07.229701Z",
     "iopub.status.idle": "2023-01-28T17:24:07.235598Z",
     "shell.execute_reply": "2023-01-28T17:24:07.234892Z"
    },
    "papermill": {
     "duration": 0.020324,
     "end_time": "2023-01-28T17:24:07.237560",
     "exception": false,
     "start_time": "2023-01-28T17:24:07.217236",
     "status": "completed"
    },
    "tags": []
   },
   "outputs": [
    {
     "data": {
      "text/plain": [
       "tensor([1.5000, 1.5000, 1.5000], requires_grad=True)"
      ]
     },
     "execution_count": 22,
     "metadata": {},
     "output_type": "execute_result"
    }
   ],
   "source": [
    "a_tensor.requires_grad_()\n",
    "a_tensor"
   ]
  },
  {
   "cell_type": "markdown",
   "id": "c31b97cc",
   "metadata": {
    "papermill": {
     "duration": 0.010993,
     "end_time": "2023-01-28T17:24:07.259941",
     "exception": false,
     "start_time": "2023-01-28T17:24:07.248948",
     "status": "completed"
    },
    "tags": []
   },
   "source": [
    "Let's compute MSE using the tensor. \n",
    "\n",
    "Note, in the output of the calculation Pytorch informs us that it knows how to calculate the gradients"
   ]
  },
  {
   "cell_type": "code",
   "execution_count": 23,
   "id": "1f41e649",
   "metadata": {
    "execution": {
     "iopub.execute_input": "2023-01-28T17:24:07.284257Z",
     "iopub.status.busy": "2023-01-28T17:24:07.283625Z",
     "iopub.status.idle": "2023-01-28T17:24:07.291212Z",
     "shell.execute_reply": "2023-01-28T17:24:07.290477Z"
    },
    "papermill": {
     "duration": 0.021937,
     "end_time": "2023-01-28T17:24:07.293176",
     "exception": false,
     "start_time": "2023-01-28T17:24:07.271239",
     "status": "completed"
    },
    "tags": []
   },
   "outputs": [
    {
     "data": {
      "text/plain": [
       "tensor(12.7018, dtype=torch.float64, grad_fn=<MeanBackward0>)"
      ]
     },
     "execution_count": 23,
     "metadata": {},
     "output_type": "execute_result"
    }
   ],
   "source": [
    "loss = quad_mse(a_tensor)\n",
    "loss"
   ]
  },
  {
   "cell_type": "markdown",
   "id": "997cfc65",
   "metadata": {
    "papermill": {
     "duration": 0.011443,
     "end_time": "2023-01-28T17:24:07.316006",
     "exception": false,
     "start_time": "2023-01-28T17:24:07.304563",
     "status": "completed"
    },
    "tags": []
   },
   "source": [
    "Let's tell Pytorch to calculate the gradients. \n",
    "\n",
    "Nothing seems to have happened, however... "
   ]
  },
  {
   "cell_type": "code",
   "execution_count": 24,
   "id": "1de3ca00",
   "metadata": {
    "execution": {
     "iopub.execute_input": "2023-01-28T17:24:07.341751Z",
     "iopub.status.busy": "2023-01-28T17:24:07.341371Z",
     "iopub.status.idle": "2023-01-28T17:24:07.359390Z",
     "shell.execute_reply": "2023-01-28T17:24:07.358543Z"
    },
    "papermill": {
     "duration": 0.033754,
     "end_time": "2023-01-28T17:24:07.362079",
     "exception": false,
     "start_time": "2023-01-28T17:24:07.328325",
     "status": "completed"
    },
    "tags": []
   },
   "outputs": [],
   "source": [
    "loss.backward()"
   ]
  },
  {
   "cell_type": "markdown",
   "id": "3fd524b9",
   "metadata": {
    "papermill": {
     "duration": 0.011371,
     "end_time": "2023-01-28T17:24:07.384956",
     "exception": false,
     "start_time": "2023-01-28T17:24:07.373585",
     "status": "completed"
    },
    "tags": []
   },
   "source": [
    "Pytorch has updated the tensor with the gradients of each coefficient!\n",
    "\n",
    "We can see that:\n",
    "\n",
    "- loss will go down by a lot if we increase the first parameter **a**\n",
    "- loss will go down somewhat if we increase the second parameter **b**\n",
    "- loss will go down if we increase the third parameter **c**"
   ]
  },
  {
   "cell_type": "code",
   "execution_count": 25,
   "id": "1d7c8b3d",
   "metadata": {
    "execution": {
     "iopub.execute_input": "2023-01-28T17:24:07.410351Z",
     "iopub.status.busy": "2023-01-28T17:24:07.409318Z",
     "iopub.status.idle": "2023-01-28T17:24:07.416705Z",
     "shell.execute_reply": "2023-01-28T17:24:07.415806Z"
    },
    "papermill": {
     "duration": 0.022295,
     "end_time": "2023-01-28T17:24:07.418881",
     "exception": false,
     "start_time": "2023-01-28T17:24:07.396586",
     "status": "completed"
    },
    "tags": []
   },
   "outputs": [
    {
     "data": {
      "text/plain": [
       "tensor([-12.6947,  -1.4975,  -5.5130])"
      ]
     },
     "execution_count": 25,
     "metadata": {},
     "output_type": "execute_result"
    }
   ],
   "source": [
    "a_tensor.grad"
   ]
  },
  {
   "cell_type": "markdown",
   "id": "2a6b051d",
   "metadata": {
    "papermill": {
     "duration": 0.01099,
     "end_time": "2023-01-28T17:24:07.441316",
     "exception": false,
     "start_time": "2023-01-28T17:24:07.430326",
     "status": "completed"
    },
    "tags": []
   },
   "source": [
    "We have now sees a lot of the machinery needed to use the quadratic function (model) to predict ($\\hat y$) from the input (x), calculate the `loss`, calculate gradients of model parameters, and modify model parameters. \n",
    "\n",
    "Rinse and repeat until the loss reaches an acceptable threshold."
   ]
  }
 ],
 "metadata": {
  "kernelspec": {
   "display_name": "Python 3",
   "language": "python",
   "name": "python3"
  },
  "language_info": {
   "codemirror_mode": {
    "name": "ipython",
    "version": 3
   },
   "file_extension": ".py",
   "mimetype": "text/x-python",
   "name": "python",
   "nbconvert_exporter": "python",
   "pygments_lexer": "ipython3",
   "version": "3.7.12"
  },
  "papermill": {
   "default_parameters": {},
   "duration": 16.221327,
   "end_time": "2023-01-28T17:24:08.575872",
   "environment_variables": {},
   "exception": null,
   "input_path": "__notebook__.ipynb",
   "output_path": "__notebook__.ipynb",
   "parameters": {},
   "start_time": "2023-01-28T17:23:52.354545",
   "version": "2.3.4"
  },
  "widgets": {
   "application/vnd.jupyter.widget-state+json": {
    "state": {
     "03b601845906492da37d825bed31d79b": {
      "model_module": "@jupyter-widgets/controls",
      "model_module_version": "1.5.0",
      "model_name": "FloatSliderModel",
      "state": {
       "_dom_classes": [],
       "_model_module": "@jupyter-widgets/controls",
       "_model_module_version": "1.5.0",
       "_model_name": "FloatSliderModel",
       "_view_count": null,
       "_view_module": "@jupyter-widgets/controls",
       "_view_module_version": "1.5.0",
       "_view_name": "FloatSliderView",
       "continuous_update": true,
       "description": "b",
       "description_tooltip": null,
       "disabled": false,
       "layout": "IPY_MODEL_18526f92cea64f41873830bee5497f62",
       "max": 4.5,
       "min": -1.5,
       "orientation": "horizontal",
       "readout": true,
       "readout_format": ".2f",
       "step": 0.1,
       "style": "IPY_MODEL_754bf063e0624fdebaafc5f9467a948e",
       "value": 1.5
      }
     },
     "065f40b8a82a4bce88dafbfb5164dcd2": {
      "model_module": "@jupyter-widgets/base",
      "model_module_version": "1.2.0",
      "model_name": "LayoutModel",
      "state": {
       "_model_module": "@jupyter-widgets/base",
       "_model_module_version": "1.2.0",
       "_model_name": "LayoutModel",
       "_view_count": null,
       "_view_module": "@jupyter-widgets/base",
       "_view_module_version": "1.2.0",
       "_view_name": "LayoutView",
       "align_content": null,
       "align_items": null,
       "align_self": null,
       "border": null,
       "bottom": null,
       "display": null,
       "flex": null,
       "flex_flow": null,
       "grid_area": null,
       "grid_auto_columns": null,
       "grid_auto_flow": null,
       "grid_auto_rows": null,
       "grid_column": null,
       "grid_gap": null,
       "grid_row": null,
       "grid_template_areas": null,
       "grid_template_columns": null,
       "grid_template_rows": null,
       "height": null,
       "justify_content": null,
       "justify_items": null,
       "left": null,
       "margin": null,
       "max_height": null,
       "max_width": null,
       "min_height": null,
       "min_width": null,
       "object_fit": null,
       "object_position": null,
       "order": null,
       "overflow": null,
       "overflow_x": null,
       "overflow_y": null,
       "padding": null,
       "right": null,
       "top": null,
       "visibility": null,
       "width": null
      }
     },
     "18526f92cea64f41873830bee5497f62": {
      "model_module": "@jupyter-widgets/base",
      "model_module_version": "1.2.0",
      "model_name": "LayoutModel",
      "state": {
       "_model_module": "@jupyter-widgets/base",
       "_model_module_version": "1.2.0",
       "_model_name": "LayoutModel",
       "_view_count": null,
       "_view_module": "@jupyter-widgets/base",
       "_view_module_version": "1.2.0",
       "_view_name": "LayoutView",
       "align_content": null,
       "align_items": null,
       "align_self": null,
       "border": null,
       "bottom": null,
       "display": null,
       "flex": null,
       "flex_flow": null,
       "grid_area": null,
       "grid_auto_columns": null,
       "grid_auto_flow": null,
       "grid_auto_rows": null,
       "grid_column": null,
       "grid_gap": null,
       "grid_row": null,
       "grid_template_areas": null,
       "grid_template_columns": null,
       "grid_template_rows": null,
       "height": null,
       "justify_content": null,
       "justify_items": null,
       "left": null,
       "margin": null,
       "max_height": null,
       "max_width": null,
       "min_height": null,
       "min_width": null,
       "object_fit": null,
       "object_position": null,
       "order": null,
       "overflow": null,
       "overflow_x": null,
       "overflow_y": null,
       "padding": null,
       "right": null,
       "top": null,
       "visibility": null,
       "width": null
      }
     },
     "25399b784f154a7886277817d9974973": {
      "model_module": "@jupyter-widgets/controls",
      "model_module_version": "1.5.0",
      "model_name": "VBoxModel",
      "state": {
       "_dom_classes": [
        "widget-interact"
       ],
       "_model_module": "@jupyter-widgets/controls",
       "_model_module_version": "1.5.0",
       "_model_name": "VBoxModel",
       "_view_count": null,
       "_view_module": "@jupyter-widgets/controls",
       "_view_module_version": "1.5.0",
       "_view_name": "VBoxView",
       "box_style": "",
       "children": [
        "IPY_MODEL_ec8319795de64588ba2f4ed00a8bf3f6",
        "IPY_MODEL_03b601845906492da37d825bed31d79b",
        "IPY_MODEL_429d0c3ba6734d668b3ebcc60cb7c40b",
        "IPY_MODEL_fda299871e2a4251a62f21a1201f080b"
       ],
       "layout": "IPY_MODEL_7840337d75f84b0898a057840cd6a97e"
      }
     },
     "366d97814dda4ca2a793adb278000336": {
      "model_module": "@jupyter-widgets/base",
      "model_module_version": "1.2.0",
      "model_name": "LayoutModel",
      "state": {
       "_model_module": "@jupyter-widgets/base",
       "_model_module_version": "1.2.0",
       "_model_name": "LayoutModel",
       "_view_count": null,
       "_view_module": "@jupyter-widgets/base",
       "_view_module_version": "1.2.0",
       "_view_name": "LayoutView",
       "align_content": null,
       "align_items": null,
       "align_self": null,
       "border": null,
       "bottom": null,
       "display": null,
       "flex": null,
       "flex_flow": null,
       "grid_area": null,
       "grid_auto_columns": null,
       "grid_auto_flow": null,
       "grid_auto_rows": null,
       "grid_column": null,
       "grid_gap": null,
       "grid_row": null,
       "grid_template_areas": null,
       "grid_template_columns": null,
       "grid_template_rows": null,
       "height": null,
       "justify_content": null,
       "justify_items": null,
       "left": null,
       "margin": null,
       "max_height": null,
       "max_width": null,
       "min_height": null,
       "min_width": null,
       "object_fit": null,
       "object_position": null,
       "order": null,
       "overflow": null,
       "overflow_x": null,
       "overflow_y": null,
       "padding": null,
       "right": null,
       "top": null,
       "visibility": null,
       "width": null
      }
     },
     "3a129a62ae5540129c0bca91ba498b6d": {
      "model_module": "@jupyter-widgets/controls",
      "model_module_version": "1.5.0",
      "model_name": "SliderStyleModel",
      "state": {
       "_model_module": "@jupyter-widgets/controls",
       "_model_module_version": "1.5.0",
       "_model_name": "SliderStyleModel",
       "_view_count": null,
       "_view_module": "@jupyter-widgets/base",
       "_view_module_version": "1.2.0",
       "_view_name": "StyleView",
       "description_width": "",
       "handle_color": null
      }
     },
     "3d8031a826b94c6b9f4a779f35d5e728": {
      "model_module": "@jupyter-widgets/base",
      "model_module_version": "1.2.0",
      "model_name": "LayoutModel",
      "state": {
       "_model_module": "@jupyter-widgets/base",
       "_model_module_version": "1.2.0",
       "_model_name": "LayoutModel",
       "_view_count": null,
       "_view_module": "@jupyter-widgets/base",
       "_view_module_version": "1.2.0",
       "_view_name": "LayoutView",
       "align_content": null,
       "align_items": null,
       "align_self": null,
       "border": null,
       "bottom": null,
       "display": null,
       "flex": null,
       "flex_flow": null,
       "grid_area": null,
       "grid_auto_columns": null,
       "grid_auto_flow": null,
       "grid_auto_rows": null,
       "grid_column": null,
       "grid_gap": null,
       "grid_row": null,
       "grid_template_areas": null,
       "grid_template_columns": null,
       "grid_template_rows": null,
       "height": null,
       "justify_content": null,
       "justify_items": null,
       "left": null,
       "margin": null,
       "max_height": null,
       "max_width": null,
       "min_height": null,
       "min_width": null,
       "object_fit": null,
       "object_position": null,
       "order": null,
       "overflow": null,
       "overflow_x": null,
       "overflow_y": null,
       "padding": null,
       "right": null,
       "top": null,
       "visibility": null,
       "width": null
      }
     },
     "419763f8341748d0bddd74613316002b": {
      "model_module": "@jupyter-widgets/base",
      "model_module_version": "1.2.0",
      "model_name": "LayoutModel",
      "state": {
       "_model_module": "@jupyter-widgets/base",
       "_model_module_version": "1.2.0",
       "_model_name": "LayoutModel",
       "_view_count": null,
       "_view_module": "@jupyter-widgets/base",
       "_view_module_version": "1.2.0",
       "_view_name": "LayoutView",
       "align_content": null,
       "align_items": null,
       "align_self": null,
       "border": null,
       "bottom": null,
       "display": null,
       "flex": null,
       "flex_flow": null,
       "grid_area": null,
       "grid_auto_columns": null,
       "grid_auto_flow": null,
       "grid_auto_rows": null,
       "grid_column": null,
       "grid_gap": null,
       "grid_row": null,
       "grid_template_areas": null,
       "grid_template_columns": null,
       "grid_template_rows": null,
       "height": null,
       "justify_content": null,
       "justify_items": null,
       "left": null,
       "margin": null,
       "max_height": null,
       "max_width": null,
       "min_height": null,
       "min_width": null,
       "object_fit": null,
       "object_position": null,
       "order": null,
       "overflow": null,
       "overflow_x": null,
       "overflow_y": null,
       "padding": null,
       "right": null,
       "top": null,
       "visibility": null,
       "width": null
      }
     },
     "429d0c3ba6734d668b3ebcc60cb7c40b": {
      "model_module": "@jupyter-widgets/controls",
      "model_module_version": "1.5.0",
      "model_name": "FloatSliderModel",
      "state": {
       "_dom_classes": [],
       "_model_module": "@jupyter-widgets/controls",
       "_model_module_version": "1.5.0",
       "_model_name": "FloatSliderModel",
       "_view_count": null,
       "_view_module": "@jupyter-widgets/controls",
       "_view_module_version": "1.5.0",
       "_view_name": "FloatSliderView",
       "continuous_update": true,
       "description": "c",
       "description_tooltip": null,
       "disabled": false,
       "layout": "IPY_MODEL_66b07b6efd6443e7bfda145045625972",
       "max": 4.5,
       "min": -1.5,
       "orientation": "horizontal",
       "readout": true,
       "readout_format": ".2f",
       "step": 0.1,
       "style": "IPY_MODEL_cda0df15684047218f76d9f3f65d1983",
       "value": 1.5
      }
     },
     "5e852ff291444a6d89f07be4f5d25f0c": {
      "model_module": "@jupyter-widgets/controls",
      "model_module_version": "1.5.0",
      "model_name": "SliderStyleModel",
      "state": {
       "_model_module": "@jupyter-widgets/controls",
       "_model_module_version": "1.5.0",
       "_model_name": "SliderStyleModel",
       "_view_count": null,
       "_view_module": "@jupyter-widgets/base",
       "_view_module_version": "1.2.0",
       "_view_name": "StyleView",
       "description_width": "",
       "handle_color": null
      }
     },
     "5f14b54007334642ab30968f2c7f38bf": {
      "model_module": "@jupyter-widgets/base",
      "model_module_version": "1.2.0",
      "model_name": "LayoutModel",
      "state": {
       "_model_module": "@jupyter-widgets/base",
       "_model_module_version": "1.2.0",
       "_model_name": "LayoutModel",
       "_view_count": null,
       "_view_module": "@jupyter-widgets/base",
       "_view_module_version": "1.2.0",
       "_view_name": "LayoutView",
       "align_content": null,
       "align_items": null,
       "align_self": null,
       "border": null,
       "bottom": null,
       "display": null,
       "flex": null,
       "flex_flow": null,
       "grid_area": null,
       "grid_auto_columns": null,
       "grid_auto_flow": null,
       "grid_auto_rows": null,
       "grid_column": null,
       "grid_gap": null,
       "grid_row": null,
       "grid_template_areas": null,
       "grid_template_columns": null,
       "grid_template_rows": null,
       "height": null,
       "justify_content": null,
       "justify_items": null,
       "left": null,
       "margin": null,
       "max_height": null,
       "max_width": null,
       "min_height": null,
       "min_width": null,
       "object_fit": null,
       "object_position": null,
       "order": null,
       "overflow": null,
       "overflow_x": null,
       "overflow_y": null,
       "padding": null,
       "right": null,
       "top": null,
       "visibility": null,
       "width": null
      }
     },
     "604c82a08bd944968dd6f126c962cbbe": {
      "model_module": "@jupyter-widgets/controls",
      "model_module_version": "1.5.0",
      "model_name": "VBoxModel",
      "state": {
       "_dom_classes": [
        "widget-interact"
       ],
       "_model_module": "@jupyter-widgets/controls",
       "_model_module_version": "1.5.0",
       "_model_name": "VBoxModel",
       "_view_count": null,
       "_view_module": "@jupyter-widgets/controls",
       "_view_module_version": "1.5.0",
       "_view_name": "VBoxView",
       "box_style": "",
       "children": [
        "IPY_MODEL_bb69c6a0069b4ddfb04b644ba27ec8ae",
        "IPY_MODEL_7407a3e25dfc452799ea81b24dc5bfc2",
        "IPY_MODEL_f7fea4cbf1f14bb9bc3b7a264f5763f3",
        "IPY_MODEL_a185e1f30ec44373a2729e705360419f"
       ],
       "layout": "IPY_MODEL_5f14b54007334642ab30968f2c7f38bf"
      }
     },
     "657c8c42cb85429bb21e6d099029eaa5": {
      "model_module": "@jupyter-widgets/base",
      "model_module_version": "1.2.0",
      "model_name": "LayoutModel",
      "state": {
       "_model_module": "@jupyter-widgets/base",
       "_model_module_version": "1.2.0",
       "_model_name": "LayoutModel",
       "_view_count": null,
       "_view_module": "@jupyter-widgets/base",
       "_view_module_version": "1.2.0",
       "_view_name": "LayoutView",
       "align_content": null,
       "align_items": null,
       "align_self": null,
       "border": null,
       "bottom": null,
       "display": null,
       "flex": null,
       "flex_flow": null,
       "grid_area": null,
       "grid_auto_columns": null,
       "grid_auto_flow": null,
       "grid_auto_rows": null,
       "grid_column": null,
       "grid_gap": null,
       "grid_row": null,
       "grid_template_areas": null,
       "grid_template_columns": null,
       "grid_template_rows": null,
       "height": null,
       "justify_content": null,
       "justify_items": null,
       "left": null,
       "margin": null,
       "max_height": null,
       "max_width": null,
       "min_height": null,
       "min_width": null,
       "object_fit": null,
       "object_position": null,
       "order": null,
       "overflow": null,
       "overflow_x": null,
       "overflow_y": null,
       "padding": null,
       "right": null,
       "top": null,
       "visibility": null,
       "width": null
      }
     },
     "66b07b6efd6443e7bfda145045625972": {
      "model_module": "@jupyter-widgets/base",
      "model_module_version": "1.2.0",
      "model_name": "LayoutModel",
      "state": {
       "_model_module": "@jupyter-widgets/base",
       "_model_module_version": "1.2.0",
       "_model_name": "LayoutModel",
       "_view_count": null,
       "_view_module": "@jupyter-widgets/base",
       "_view_module_version": "1.2.0",
       "_view_name": "LayoutView",
       "align_content": null,
       "align_items": null,
       "align_self": null,
       "border": null,
       "bottom": null,
       "display": null,
       "flex": null,
       "flex_flow": null,
       "grid_area": null,
       "grid_auto_columns": null,
       "grid_auto_flow": null,
       "grid_auto_rows": null,
       "grid_column": null,
       "grid_gap": null,
       "grid_row": null,
       "grid_template_areas": null,
       "grid_template_columns": null,
       "grid_template_rows": null,
       "height": null,
       "justify_content": null,
       "justify_items": null,
       "left": null,
       "margin": null,
       "max_height": null,
       "max_width": null,
       "min_height": null,
       "min_width": null,
       "object_fit": null,
       "object_position": null,
       "order": null,
       "overflow": null,
       "overflow_x": null,
       "overflow_y": null,
       "padding": null,
       "right": null,
       "top": null,
       "visibility": null,
       "width": null
      }
     },
     "7407a3e25dfc452799ea81b24dc5bfc2": {
      "model_module": "@jupyter-widgets/controls",
      "model_module_version": "1.5.0",
      "model_name": "FloatSliderModel",
      "state": {
       "_dom_classes": [],
       "_model_module": "@jupyter-widgets/controls",
       "_model_module_version": "1.5.0",
       "_model_name": "FloatSliderModel",
       "_view_count": null,
       "_view_module": "@jupyter-widgets/controls",
       "_view_module_version": "1.5.0",
       "_view_name": "FloatSliderView",
       "continuous_update": true,
       "description": "b",
       "description_tooltip": null,
       "disabled": false,
       "layout": "IPY_MODEL_3d8031a826b94c6b9f4a779f35d5e728",
       "max": 4.5,
       "min": -1.5,
       "orientation": "horizontal",
       "readout": true,
       "readout_format": ".2f",
       "step": 0.1,
       "style": "IPY_MODEL_7ddd4dcce6594a448f1d9899b9b1e3dd",
       "value": 1.5
      }
     },
     "754bf063e0624fdebaafc5f9467a948e": {
      "model_module": "@jupyter-widgets/controls",
      "model_module_version": "1.5.0",
      "model_name": "SliderStyleModel",
      "state": {
       "_model_module": "@jupyter-widgets/controls",
       "_model_module_version": "1.5.0",
       "_model_name": "SliderStyleModel",
       "_view_count": null,
       "_view_module": "@jupyter-widgets/base",
       "_view_module_version": "1.2.0",
       "_view_name": "StyleView",
       "description_width": "",
       "handle_color": null
      }
     },
     "7840337d75f84b0898a057840cd6a97e": {
      "model_module": "@jupyter-widgets/base",
      "model_module_version": "1.2.0",
      "model_name": "LayoutModel",
      "state": {
       "_model_module": "@jupyter-widgets/base",
       "_model_module_version": "1.2.0",
       "_model_name": "LayoutModel",
       "_view_count": null,
       "_view_module": "@jupyter-widgets/base",
       "_view_module_version": "1.2.0",
       "_view_name": "LayoutView",
       "align_content": null,
       "align_items": null,
       "align_self": null,
       "border": null,
       "bottom": null,
       "display": null,
       "flex": null,
       "flex_flow": null,
       "grid_area": null,
       "grid_auto_columns": null,
       "grid_auto_flow": null,
       "grid_auto_rows": null,
       "grid_column": null,
       "grid_gap": null,
       "grid_row": null,
       "grid_template_areas": null,
       "grid_template_columns": null,
       "grid_template_rows": null,
       "height": null,
       "justify_content": null,
       "justify_items": null,
       "left": null,
       "margin": null,
       "max_height": null,
       "max_width": null,
       "min_height": null,
       "min_width": null,
       "object_fit": null,
       "object_position": null,
       "order": null,
       "overflow": null,
       "overflow_x": null,
       "overflow_y": null,
       "padding": null,
       "right": null,
       "top": null,
       "visibility": null,
       "width": null
      }
     },
     "7ddd4dcce6594a448f1d9899b9b1e3dd": {
      "model_module": "@jupyter-widgets/controls",
      "model_module_version": "1.5.0",
      "model_name": "SliderStyleModel",
      "state": {
       "_model_module": "@jupyter-widgets/controls",
       "_model_module_version": "1.5.0",
       "_model_name": "SliderStyleModel",
       "_view_count": null,
       "_view_module": "@jupyter-widgets/base",
       "_view_module_version": "1.2.0",
       "_view_name": "StyleView",
       "description_width": "",
       "handle_color": null
      }
     },
     "89b94047e0c242abbc35a95920ab7566": {
      "model_module": "@jupyter-widgets/controls",
      "model_module_version": "1.5.0",
      "model_name": "SliderStyleModel",
      "state": {
       "_model_module": "@jupyter-widgets/controls",
       "_model_module_version": "1.5.0",
       "_model_name": "SliderStyleModel",
       "_view_count": null,
       "_view_module": "@jupyter-widgets/base",
       "_view_module_version": "1.2.0",
       "_view_name": "StyleView",
       "description_width": "",
       "handle_color": null
      }
     },
     "a185e1f30ec44373a2729e705360419f": {
      "model_module": "@jupyter-widgets/output",
      "model_module_version": "1.0.0",
      "model_name": "OutputModel",
      "state": {
       "_dom_classes": [],
       "_model_module": "@jupyter-widgets/output",
       "_model_module_version": "1.0.0",
       "_model_name": "OutputModel",
       "_view_count": null,
       "_view_module": "@jupyter-widgets/output",
       "_view_module_version": "1.0.0",
       "_view_name": "OutputView",
       "layout": "IPY_MODEL_657c8c42cb85429bb21e6d099029eaa5",
       "msg_id": "",
       "outputs": [
        {
         "data": {
          "image/png": "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\n",
          "text/plain": "<Figure size 432x288 with 1 Axes>"
         },
         "metadata": {
          "needs_background": "light"
         },
         "output_type": "display_data"
        }
       ]
      }
     },
     "bb69c6a0069b4ddfb04b644ba27ec8ae": {
      "model_module": "@jupyter-widgets/controls",
      "model_module_version": "1.5.0",
      "model_name": "FloatSliderModel",
      "state": {
       "_dom_classes": [],
       "_model_module": "@jupyter-widgets/controls",
       "_model_module_version": "1.5.0",
       "_model_name": "FloatSliderModel",
       "_view_count": null,
       "_view_module": "@jupyter-widgets/controls",
       "_view_module_version": "1.5.0",
       "_view_name": "FloatSliderView",
       "continuous_update": true,
       "description": "a",
       "description_tooltip": null,
       "disabled": false,
       "layout": "IPY_MODEL_065f40b8a82a4bce88dafbfb5164dcd2",
       "max": 4.5,
       "min": -1.5,
       "orientation": "horizontal",
       "readout": true,
       "readout_format": ".2f",
       "step": 0.1,
       "style": "IPY_MODEL_3a129a62ae5540129c0bca91ba498b6d",
       "value": 1.5
      }
     },
     "cda0df15684047218f76d9f3f65d1983": {
      "model_module": "@jupyter-widgets/controls",
      "model_module_version": "1.5.0",
      "model_name": "SliderStyleModel",
      "state": {
       "_model_module": "@jupyter-widgets/controls",
       "_model_module_version": "1.5.0",
       "_model_name": "SliderStyleModel",
       "_view_count": null,
       "_view_module": "@jupyter-widgets/base",
       "_view_module_version": "1.2.0",
       "_view_name": "StyleView",
       "description_width": "",
       "handle_color": null
      }
     },
     "e206b31c52fe45349bbb833b86807498": {
      "model_module": "@jupyter-widgets/base",
      "model_module_version": "1.2.0",
      "model_name": "LayoutModel",
      "state": {
       "_model_module": "@jupyter-widgets/base",
       "_model_module_version": "1.2.0",
       "_model_name": "LayoutModel",
       "_view_count": null,
       "_view_module": "@jupyter-widgets/base",
       "_view_module_version": "1.2.0",
       "_view_name": "LayoutView",
       "align_content": null,
       "align_items": null,
       "align_self": null,
       "border": null,
       "bottom": null,
       "display": null,
       "flex": null,
       "flex_flow": null,
       "grid_area": null,
       "grid_auto_columns": null,
       "grid_auto_flow": null,
       "grid_auto_rows": null,
       "grid_column": null,
       "grid_gap": null,
       "grid_row": null,
       "grid_template_areas": null,
       "grid_template_columns": null,
       "grid_template_rows": null,
       "height": null,
       "justify_content": null,
       "justify_items": null,
       "left": null,
       "margin": null,
       "max_height": null,
       "max_width": null,
       "min_height": null,
       "min_width": null,
       "object_fit": null,
       "object_position": null,
       "order": null,
       "overflow": null,
       "overflow_x": null,
       "overflow_y": null,
       "padding": null,
       "right": null,
       "top": null,
       "visibility": null,
       "width": null
      }
     },
     "ec8319795de64588ba2f4ed00a8bf3f6": {
      "model_module": "@jupyter-widgets/controls",
      "model_module_version": "1.5.0",
      "model_name": "FloatSliderModel",
      "state": {
       "_dom_classes": [],
       "_model_module": "@jupyter-widgets/controls",
       "_model_module_version": "1.5.0",
       "_model_name": "FloatSliderModel",
       "_view_count": null,
       "_view_module": "@jupyter-widgets/controls",
       "_view_module_version": "1.5.0",
       "_view_name": "FloatSliderView",
       "continuous_update": true,
       "description": "a",
       "description_tooltip": null,
       "disabled": false,
       "layout": "IPY_MODEL_366d97814dda4ca2a793adb278000336",
       "max": 4.5,
       "min": -1.5,
       "orientation": "horizontal",
       "readout": true,
       "readout_format": ".2f",
       "step": 0.1,
       "style": "IPY_MODEL_5e852ff291444a6d89f07be4f5d25f0c",
       "value": 1.5
      }
     },
     "f7fea4cbf1f14bb9bc3b7a264f5763f3": {
      "model_module": "@jupyter-widgets/controls",
      "model_module_version": "1.5.0",
      "model_name": "FloatSliderModel",
      "state": {
       "_dom_classes": [],
       "_model_module": "@jupyter-widgets/controls",
       "_model_module_version": "1.5.0",
       "_model_name": "FloatSliderModel",
       "_view_count": null,
       "_view_module": "@jupyter-widgets/controls",
       "_view_module_version": "1.5.0",
       "_view_name": "FloatSliderView",
       "continuous_update": true,
       "description": "c",
       "description_tooltip": null,
       "disabled": false,
       "layout": "IPY_MODEL_419763f8341748d0bddd74613316002b",
       "max": 4.5,
       "min": -1.5,
       "orientation": "horizontal",
       "readout": true,
       "readout_format": ".2f",
       "step": 0.1,
       "style": "IPY_MODEL_89b94047e0c242abbc35a95920ab7566",
       "value": 1.5
      }
     },
     "fda299871e2a4251a62f21a1201f080b": {
      "model_module": "@jupyter-widgets/output",
      "model_module_version": "1.0.0",
      "model_name": "OutputModel",
      "state": {
       "_dom_classes": [],
       "_model_module": "@jupyter-widgets/output",
       "_model_module_version": "1.0.0",
       "_model_name": "OutputModel",
       "_view_count": null,
       "_view_module": "@jupyter-widgets/output",
       "_view_module_version": "1.0.0",
       "_view_name": "OutputView",
       "layout": "IPY_MODEL_e206b31c52fe45349bbb833b86807498",
       "msg_id": "",
       "outputs": [
        {
         "data": {
          "image/png": "iVBORw0KGgoAAAANSUhEUgAAAXoAAAD4CAYAAADiry33AAAAOXRFWHRTb2Z0d2FyZQBNYXRwbG90bGliIHZlcnNpb24zLjUuMiwgaHR0cHM6Ly9tYXRwbG90bGliLm9yZy8qNh9FAAAACXBIWXMAAAsTAAALEwEAmpwYAAAlGElEQVR4nO3deXwV9b3/8deHECCsYQkBQpB9pyxG3GpVigLWKtpFbK221aJttcuv1xbvvV1ubxfvpdZba1trrXWt2gUpKoogVusKYQ37viTBJIDsCdk+vz9ysCE9IctZM3k/H4/zyJyZOWc+Z5K8M/nOd75j7o6IiARXm0QXICIisaWgFxEJOAW9iEjAKehFRAJOQS8iEnBtE11AOL169fKBAwcmugwRkRZjxYoV+909I9yypAz6gQMHkpubm+gyRERaDDPbXd8yNd2IiAScgl5EJOAU9CIiAaegFxEJOAW9iEjAJWWvGxGR1mT+qgLmLtpM4aFS+qWncee0EcycmBW191fQi4gk0PxVBdw1L4/SiioACg6Vcte8PICohb2abkREEmjuos0fhPwppRVVzF20OWrbUNCLiCRQ4aHSJs1vDgW9iEgC9UtPa9L85mgw6M3sYTMrNrN1teY9Y2arQ49dZra6ntfuMrO80Hoa00BEpI47p40gLTXltHlpqSncOW1E1LbRmJOxjwD3A4+dmuHu152aNrN7gMNneP2l7r6/uQWKiATZqROuCe114+6vm9nAcMvMzIBPA1OiVpGISCszc2JWVIO9rkjb6C8Citx9az3LHXjZzFaY2ewItyUiIs0QaT/664GnzrD8QncvNLPewGIz2+Tur4dbMfSHYDbAgAEDIixLREROafYRvZm1Ba4FnqlvHXcvDH0tBp4FJp9h3QfdPcfdczIywo6dLyIizRBJ081UYJO754dbaGadzKzLqWngcmBduHVFRCR2GtO98ingbWCEmeWb2c2hRbOo02xjZv3MbGHoaSbwhpmtAZYBL7j7S9ErXUREGqMxvW6ur2f+58PMKwSuCE3vAMZHWJ+IiERIV8aKiAScgl5EJOAU9CIiAaegFxEJON14REQkQrG+Q1SkFPQiIhGIxx2iIqWmGxGRCMTjDlGRUtCLiEQgHneIipSCXkQkAvG4Q1SkFPQiIhGIxx2iIqWTsSIiEYjHHaIipaAXEYlQrO8QFSk13YiIBJyCXkQk4BT0IiIBp6AXEQk4Bb2ISMAp6EVEAk5BLyIScI25OfjDZlZsZutqzfuBmRWY2erQ44p6XjvdzDab2TYzmxPNwkVEpHEac0T/CDA9zPx73X1C6LGw7kIzSwF+BcwARgPXm9noSIoVEZGmazDo3f114GAz3nsysM3dd7h7OfA0cHUz3kdERCIQSRv97Wa2NtS00z3M8ixgb63n+aF5YZnZbDPLNbPckpKSCMoSEZHamhv0vwGGABOAfcA9YdaxMPO8vjd09wfdPcfdczIyMppZloiI1NWsoHf3Inevcvdq4HfUNNPUlQ9k13reHyhszvZERKT5mhX0Zta31tNrgHVhVlsODDOzQWbWDpgFLGjO9kREpPkaHKbYzJ4CLgF6mVk+8H3gEjObQE1TzC7g1tC6/YCH3P0Kd680s9uBRUAK8LC7r4/FhxARkfqZe73N5gmTk5Pjubm5iS5DRKTFMLMV7p4TbpmujBURCTgFvYhIwCnoRUQCTkEvIhJwCnoRkYBT0IuIBJyCXkQk4BT0IiIBp6AXEQk4Bb2ISMAp6EVEAk5BLyIScAp6EZGAU9CLiAScgl5EJOAavPGIiEjQzV9VwNxFmyk8VEq/9DTunDaCmROzEl1W1CjoRaRVm7+qgLvm5VFaUQVAwaFS7pqXBxCYsFfTjYi0anMXbf4g5E8prahi7qLNCaoo+hoMejN72MyKzWxdrXlzzWyTma01s2fNLL2e1+4yszwzW21mujegiCSdwkOlTZrfEjXmiP4RYHqdeYuBse7+IWALcNcZXn+pu0+o716GIiKJ1C89rUnzW6IGg97dXwcO1pn3srtXhp6+A/SPQW0iIjF357QRpKWmnDYvLTWFO6eNSFBF0ReNNvovAi/Ws8yBl81shZnNPtObmNlsM8s1s9ySkpIolCUi0rCZE7P46bXjyEpPw4Cs9DR+eu24wJyIBTB3b3gls4HA8+4+ts78/wBygGs9zBuZWT93LzSz3tQ099wR+g/hjHJycjw3V036IiKNZWYr6msib/YRvZndBFwJfDZcyAO4e2HoazHwLDC5udsTEZHmaVbQm9l04DvAVe5+op51OplZl1PTwOXAunDriohI7DSme+VTwNvACDPLN7ObgfuBLsDiUNfJB0Lr9jOzhaGXZgJvmNkaYBnwgru/FJNPISIi9Wrwylh3vz7M7N/Xs24hcEVoegcwPqLqREQkYroyVkQk4BT0IiIBp6AXEQk4Bb2ISMAp6EVEAk5BLyIScAp6EZGAU9CLiAScgl5EJOAU9CIiAaegFxEJOAW9iEjAKehFRAJOQS8iEnAKehGRJFBRVU3x0bKYvLeCXkQkwSqrqvl/f1rDtb9+i2MnK6P+/gp6EZEEqqp2vv2XtTy3ppDPnXcWnds3eD+oJlPQi4gkSHW18+/z8pi3qoBvXTacWy8eEpPtNOaesQ+bWbGZras1r4eZLTazraGv3et57XQz22xm28xsTjQLFxFpydyd7y1YxzO5e/nalKHc8dFhMdtWY47oHwGm15k3B3jF3YcBr4Sen8bMUoBfATOA0cD1ZjY6ompFRALA3fnh8xt44p093HrxYL552fCYbq/BoHf314GDdWZfDTwamn4UmBnmpZOBbe6+w93LgadDrxMRabXcnbtf2sQf3tzFFy4cyJzpIzGzmG6zuW30me6+DyD0tXeYdbKAvbWe54fmhWVms80s18xyS0pKmlmWiEhyu3fxFn772g5uOG8A37tydMxDHmJ7MjZc9V7fyu7+oLvnuHtORkZGDMsSEUmMX76ylfuWbmPWOdn88KqxcQl5aH7QF5lZX4DQ1+Iw6+QD2bWe9wcKm7k9EZEW7bevbeeexVu4dmIWP7lmHG3axCfkoflBvwC4KTR9E/C3MOssB4aZ2SAzawfMCr1ORKRVefiNnfz0xU18fHw/5n5qfFxDHhrXvfIp4G1ghJnlm9nNwN3AZWa2Fbgs9Bwz62dmCwHcvRK4HVgEbAT+5O7rY/MxRESS0+Pv7OaHz29g+pg+/PzT40mJc8gDNHgJlrtfX8+ij4ZZtxC4otbzhcDCZlcnItKCPbN8D9+dv46po3pz3/UTSU1JzDWqujJWRCQG5q3MZ868PC4ensGvPjuJdm0TF7cKehGRKHtuTSH/9uc1XDCkJ7/93Nm0b5uS0HoU9CIiUfTSun1845nV5Azswe9uzKFDamJDHhT0IiJRs2RDEXc8tYrx/bvx8OfPoWO76I9E2RwKehGRKHh1czFfeXIlo/t25ZEvTo7JcMPNpaAXEYnQC2v3MfuxXIZlduaxL55L1w6piS7pNAp6EZEI/Gn5Xu54aiXj+6fzxy+dR7eOyRXy0Ih+9CIiEt5D/9jBj17YyEeGZ/DbG84mrV3iT7yGo6AXEWkid+fexVu4b+k2PjauL/deNyGh/eQboqAXkRZv/qoC5i7aTOGhUvqlp3HntBHMnFjvqOgRqa6uuWnII2/t4rqcbH5y7biEDGvQFAp6EWnR5q8q4K55eZRWVAFQcKiUu+blAUQ97Curqvn2X9cyb2UBt3x4EP/xsVFxG2o4Egr6KInnEYWI/NPcRZs/CPlTSiuqmLtoc1R/B8sqqvjaU6t4eUMR37psOLdPGdoiQh4U9FERzyMKETld4aHSJs1vjuMnK5n9eC5vbjvAf101hpsuGBi1946H5D170IKc6YhCRGKrX3pak+Y31aET5Xz2oXd5Z8dB7vnU+BYX8qCgj4p4HFGISHh3ThtBWp3xZNJSU7hz2oiI37v4aBmzHnyHDYVH+PVnJ/GJs/tH/J6JoKabKOiXnkZBmFCP1hGFiNTvVPNotM+R7T14ght+/y4lR0/yhy+cw4VDe0Wj3IRQ0EfBndNGnNZGD9E7ohCRhs2cmBXV82Hbio9yw0PLKK2o4olbzmXSgO5Re+9EUNBHQayOKEQk/vLyD3Pjw+/SNqUNz9x6HiP7dE10SRFrdtCb2QjgmVqzBgPfc/f/q7XOJdTcOHxnaNY8d/9hc7eZzKJ9RCHSmiRL9+R3dxzg5kdz6ZaWypO3nMvAXp3iXkMsNDvo3X0zMAHAzFKAAuDZMKv+w92vbO52RCTYkqV78isbi/jKkyvJ7tGRJ24+lz7dOsRt27EWraabjwLb3X13lN4v7pLliEKktYnXBU/1cXf+8OYufvTCBsZmdeORL0ymR6d2Md9uPEUr6GcBT9Wz7HwzWwMUAv/m7uvDrWRms4HZAAMGDIhSWY2TLEcUIq1RIrsnV1RV84MF63ny3T1MG5PJvddNSJq7QkVTxP3ozawdcBXw5zCLVwJnuft44JfA/Prex90fdPccd8/JyMiItKwm0QVPIokT6wue6nO4tIIvPrKcJ9/dw20XD+E3nz07kCEP0blgagaw0t2L6i5w9yPufiw0vRBINbOk64yqC55EIjN/VQEX3r2UQXNe4MK7lzJ/VUGjXxvLC57qs+fACT7xm7d4e/sB/veTH2LOjJG0SfIRKCMRjT9f11NPs42Z9QGK3N3NbDI1f1gORGGb/yKSNnZd8CTSfJE2fca7e/LyXQe59fEVVLvz+M3ncv6QnjHZTjKJKOjNrCNwGXBrrXm3Abj7A8AngS+bWSVQCsxyd49km+FE+oOmC55Emi8aJ1Pj1T352VX5fOcveWR1T+Phz5/DoIB0n2xIREHv7ieAnnXmPVBr+n7g/ki20RiR/qDpgieR5msJTZ/V1c69S7bwy6XbOH9wT35zwyTSOwarZ82ZBOLMQzR+0HTBk0jzJHvTZ1lFFd/68xpeWLuP63Ky+e+ZY5P6tn+xEIhPm6iz9iKSmJOpjVV8tIzrHnyHhXn7+PcrRnL3J8a1upCHgAR9Mv+giQTdzIlZ/PTacWSlp2FAVnoaP712XML/Q9647wgz73+TLe8d5YEbzmb2R4a0mDtCRVsgmm7Uxi6SWMnW9Ll0UxF3/HEVnTu05c+3nc/YrG6JLimhAhH0kHw/aCISf7WHMxjdrysP3XhOoMasaa7ABL2ItG6tZTiD5tBeEJEWr/hoGV9/ajVv7zjAbRcP4dvTRgT6StemUtCLSIv21vb9fO2p1Rw7WcE9nxrfYu/rGksKehFpkaqrnftf3cb/LdnCoF6dePKWcxnRp0uiy0pKCvokEel4+BpPX1qTA8dO8o1nVvOPrfu5ekI/fnLNODq1V5zVR3smCUQ6Vo/G05fWZPmug9zxx1UcPFHOT64Zx/WTs1tt//jGCsQFUy1dpOPhazx9aQ2qq50HXtvOrAffoUNqG579ygV85twBCvlG0BF9Eoh0rJ6WMKiUSCTeP17Ot/68hqWbivnYuL7c/YlxdOmQmuiyWgwFfRKIdFCoZB9USiQSK/e8zx1/XEXx0TL+66ox3Hj+WTqKbyI13SSBSMfq0Vg/EkTuzu/f2MmnH3gbM/jLbRdw0wUDFfLNoCP6JBDpWD0a60eC5nBpBd/+yxoWrS/istGZ/OyT4+nWUU01zWUxuOFTxHJycjw3NzfRZYi0GsnUPTcv/zBf+eMK9h0qY86Mkdz84UE6im8EM1vh7jnhlumIXqSVS5buue7OE+/s5r+f30jPzu145tbzOfus7nHbfpBF1EZvZrvMLM/MVpvZvxyCW437zGybma01s0mRbE9Eoi8ZuufuP3aSLz+xku/+bT0XDO3JC1+7SCEfRdE4or/U3ffXs2wGMCz0OBf4TeiriCSJRHbPdXdeyNvH9/62nmNllcyZMZLZFw3WgGRRFuumm6uBx7zmRMA7ZpZuZn3dfV+MtysijZSo7rklR0/yvb+t48V17zG+fzfmfmo8wzM1Vk0sRNq90oGXzWyFmc0OszwL2FvreX5onogkiXh3z3V3nltTyOX3vsYrG4v5zvSR/PXLFyjkYyjSI/oL3b3QzHoDi81sk7u/Xmt5uP+/wnbzCf2hmA0wYMCACMsSkcaKZ/fckqMn+e78dby0vuYo/mefGs8wBXzMRRT07l4Y+lpsZs8Ck4HaQZ8PZNd63h8orOe9HgQehJrulZHUJSJNE+tbcbo7z63dx/f/to7jJ6v4zvSRfOmiQbRN0TWb8dDsoDezTkAbdz8amr4c+GGd1RYAt5vZ09SchD2s9nmR1qXk6En+c34ei9YXMT47nZ998kM6io+zSI7oM4FnQxcytAX+6O4vmdltAO7+ALAQuALYBpwAvhBZuWfm7rqwQiRJuDsL1hTy/QXrOVFexZwZI7nlwzqKT4RmB7277wDGh5n/QK1pB77a3G00RXW189mH3uXDw3pxy0WDaN82peEXiUhMFB8t4z+fXcfLG2qO4u/51IcY2ltH8YkSmCtjj5VX0jWtLXMXbeYvK/L5wVVjuHh4RqLLEomLZBnCoO5R/F2hIQx0FJ9YgRvr5u+bi/nBgvXsOnCCaWMy+e6Vo+nfvWOUKxRJHnWHMICa7pE/vXZcXMO+9lH8hOx0fqaj+Lg601g3gQt6gJOVVTz0j538culWAL56yVC+9JHBdEhVc44kp0iOyC+8e2nYC56y0tN4c86UaJf6L05WVvGHN3dx/9JtlFdV863LhnPLRYNJ0dWtcdXqBjVr3zaFr146lJkTs/jR8xu4Z/EW/royn+9fNYZLR/ROdHkip4l0ULFEDWHg7izeUMSPF25k94ETTBnZm//82CgGZ3SO6Xal6QLdcJaVnsZvbjibx744mTZmfOEPy/nSY7nsPXgi0aUFzvxVBVx491IGzXmBC+9eyvxVBYkuqcWIdFCx+oYqiOUQBpvfO8oNv3+X2Y+vIDWlDY9+cTIPf/4chXySCnTQn/KR4Rm8+I2L+Pb0EbyxdT9Tf/4av1iylbI6v1zSPKeOSAsOleL884hUYd84kR6Rx3MIg4PHy/nu/HXM+MXr5OUf5gcfH82LX79IHR+SXCCbbsJp3zaFr1wylJkTsvjxwo3cuyTUnPPx0Xx0VGaiy2vRznREqrtcNSzSQcXiMYRBRVU1T7yzm3sXb+HYyUpuOO8svjl1ON07tYvaNiR2Wk3Qn9IvPY1ffWYSn5m8n+8vWM/Nj+by0ZG9+f7HxzCgp3rnNEcih7kNgjunjQjba6YpR+SxHMLg75uL+dELG9lWfIwPD+3Fd68czYg+6k3TkrS6oD/lwqG9WPi1i/jDmzv5xStbmXrva3z54iF8+ZIh6p3TRIka5jYokvWev9tLjvHjFzaydFMxA3t25Hc35jB1VG9dfd4CBbJ7ZVO9d7iMHy/cyHNrCundpT1fvXQo152TrcBvpGTpxy3Rcbi0gvte2cqjb+2iQ2oKd0wZyucvHKirzZNcq+tH31zLdh7kZy9vZtnOg/Tt1oGvXjqUT+dk065tqzhnHZFkuTJTmq+q2nl6+R7ueXkL758o57qcbL51+QgyurRPdGnSCAr6JnB33tp+gJ8v3sKK3e+TlZ7GHVOG8omz+5Oqy7glgCqrqnlubSG/enU724qPMXlgD7738dGMzeqW6NKkCRT0zeDuvL51Pz9fvIU1ew+R3SONr00ZxjUTszRuhwRCeWU1z67K59d/387uAycYkdmFr08dxoyxfdQO3wIp6CPg7ry6uZifL97CuoIjDOzZka9PHcZV47N0ibe0SGUVVfwpdy8P/H07hYfLGJfVjdunDOWyUZm6KXcLpqCPglOXe9+7ZCsb9x1hSEYnvj51OFeO66tfDmkRTpRX8sd39/Db13dQcvQkZ5/VnTumDOXi4Rk6gg8ABX0UVVc7i9a/x71LtrCl6BjDMzvzjanDmT6mjwJfktKRsgoef3s3v39jJwePl3PBkJ7cPmUo5w/uqYAPEAV9DFRXOy/k7eP/lmxhe8lxRvbpwjcvG87lozP1yyNJ4dCJch5+cxePvLmTI2WVXDoig9unDOXss3okujSJAQV9DFVVO8+tKeQXr2xl5/7jDO3dmc+ddxbXTsqiS4fURJcnrVDJ0ZM89MYOnnh7N8fLq5g2JpM7pgxTL5qAU9DHwakuao+8uYs1+Yfp1C6FayZl8bnzBraIy8Vbez/4IHz+wkOl/O4fO3hq2R7KK6u58kP9+OqlQ1vEz59ELiZBb2bZwGNAH6AaeNDdf1FnnUuAvwE7Q7PmufsPG3rvlhj0ta3Ze4jH3t7Nc2sLKa+sZvKgHtx4/llMG9MnKfvit/YrW1vy56+oqmbppmKeXraH17aU0MaMayZm8eVLhmjI4FYmVkHfF+jr7ivNrAuwApjp7htqrXMJ8G/ufmVT3rulB/0pB4+X8+fcvTzx7m72Hiyld5f2XD95AJ85dwCZXTskurwPJPoORYnWEj//ngMneCZ3D3/Ozaf46El6d2nPp3OymTU5W7fObKVicocpd98H7AtNHzWzjUAWsOGML2xFenRqx60XD+GWiwbz2pZiHnt7N/ct3cr9r25j2phMPnfeQM4b3CPhJ29b++iTLeXzl1dW8/KG93h62V7e2LafNgaXjujNrMkDuHREhi7kk3pFZfRKMxsITATeDbP4fDNbAxRSc3S/vp73mA3MBhgwYEA0ykoaKW2MKSMzmTIyk90HjvPEO7v5U24+C/PeY3hmzcnbayb1p3P7xAwm2tpHn0z2z7+95BhPL9vDX1cWcPB4OVnpaXxz6nA+fU5/+nZLjholuUV8MtbMOgOvAT9293l1lnUFqt39mJldAfzC3Yc19J5Babo5k7KKKhasKeTxt3eTV3CYzu3bcu2kLD6dk82Yfl3jepTfktuooyEZP39ZRRUL8/bx9LK9LNt1kLZtjKmjMpk1OZuLhmXoqmz5FzHrdWNmqcDzwCJ3/3kj1t8F5Lj7/jOt1xqC/hR3Z/XeQzz+9m6eX7uP8qpqsnukccXYvkwf24cJ2elxCf0g9DqJRLJ8/k3vHeHpZXuZtzKfI2WVDOzZkevOGcAnzs6id5fkOa8jySdWJ2MNeBQ46O7fqGedPkCRu7uZTQb+ApzlDWy0NQV9be8fL2fxhiIWrtvHm9v2U1Hl9OvWgelj+zJjXB/OHtBdV98GjLuzvvAISzYWsXhDEesLj9AupQ3Tx/Zh1uRszhvUU99zaZRYBf2HgX8AedR0rwT4d2AAgLs/YGa3A18GKoFS4P+5+1sNvXdrDfraDpdW8MrGIhbmvcfrW0sor6ymd5f2TB/bhxlj+zJ5UA/9+95Cnays4u3tB1iysYhXNhaz73AZZnD2gO7MGNeXayZm0UP3YpUm0gVTLdzRsgqWbirmpXXv8ermYsoqqunVuR2Xje7DFeP6cN7gnknZP1/+6f3j5by6uZglG4t4bXMJx8urSEtN4SPDezF1VCZTRvamZ2fd4EOaT0EfICfKK/n75hIW5u1j6aZiTpRXkd4xlctHZzJjbF/OH9JTt0BMEjv3H2fJhiIWbywid9dBqh16d2nP1NGZXDYqU98riSoFfUCVVVTx+pYSXlz3Hks2FHH0ZCXtUtowPrsbOQN7MHlgDyad1Z1uaRpzJx6qqp1Ve95n8cYilmwoYnvJcQBG9e3KZaN6M3V0JmP7dVObu8SEgr4VOFlZxVvbDvD2jgMs23mQdQWHqax2zGBEZhcmD+rBOQNrHn26Ba/3RiJ6zRQfKWPV3kOs3nuI1XsOkVdwmGMnK0lNMc4b3JOpozL56KjeulJV4kJB3wqdKK9k9Z5DLN/1Pst3HWTlnvc5UV7TTzy7R9oHoX/OwB4MyeiU8KtzIxGPfvAnyivJyz9cE+qhx77DZQC0bWOM7teV8f3TOXdwDz4yPIOuGrlU4kxBL1RUVbNx3xGW7TzI8l0Hyd31PgeOlwM1QzXknNWdyYN6MKZfNwb16kRm1/YtJvyjPVZNVbWzrfgYq/e+Hwr1w2wpOkpVdc3vSnaPNCZkd2dCdjoTstMZ06+r2tol4WIy1o20LKkpbfhQ/3Q+1D+dWy4ajLuzY/9xlu88yLJQ8L+8oeiD9Tu2S2Fgz04M6lXzGNjrn9PdO6Ym1R+B5o5Vc7i0gvz3T1Dwfin5ocfGfUdYm3+I46H/frp2aMv47HQuGzWECQPSGd8/Xb1jpMVR0LdSZsaQjM4MyejMrMk1YwsVHSljS9FRdu4//sFjfeFhXlr/3gdHswDd0lIZ2KsTg3t1qvljkBGa7tUpIeP11DdWTZ+uHVhXcDgU4ifIf7+UgkOlHzw/WlZ52vppqSkM7d2Zayf1rzlaH5DOoJ6dGnXyNFmurBUJR0030qCKqmr2Hjxx2h+AXQeOs7PkOIWhdupTOrVLoXOHtnTpkErn9m3p0iH0aJ8amt+Wzu3b0rVDzfPT1umQigEnK6spq6iirKKassoqTlaEnp+argwtq6jiZGU16woO89qWktP+GIXTqV0K/bt3pH/3tNCjI1m1ppv7n0oyjpUjrY+abiQiqSltGJzROeyNLErLq9h98Di79h9n5/4T7D92kmNllRw9WcHRskqOllWy73BZzbyyig+aRKKpfds2tEtpw0mvotqhQ9s2TB5Uc1L0VIj3755Gt7TYNDnNXbT5tJAHKK2oYu6izQp6SQoKeolIWrsURvbpysg+XRu1flW1c+xkZc0jFP5HT1aG/ihU4A4dUlNo37YNHVJT6JDahvZta76eNr9tCu1TawI+0f3SW8p49tJ6KeglrlLaGN3SUgN1EVeyj2cvogFSRCJ057QRpNXpXpmWmsKd00YkqCKR0+mIXiRCp9rh1etGkpWCXiQKZk7MUrBL0lLTjYhIwCnoRUQCTkEvIhJwCnoRkYCLKOjNbLqZbTazbWY2J8xyM7P7QsvXmtmkSLYnIiJN1+ygN7MU4FfADGA0cL2Zja6z2gxgWOgxG/hNc7cnIiLNE0n3ysnANnffAWBmTwNXAxtqrXM18JjXjJz2jpmlm1lfd98XwXYlgDT6o0jsRNJ0kwXsrfU8PzSvqesAYGazzSzXzHJLSkoiKEtamlOjPxYcKsWBgkOl3DUvj/mrChJdmkggRBL04UaSqjtObGPWqZnp/qC757h7TkZGRgRlSUtzptEfRSRykQR9PpBd63l/oLAZ60grp9EfRWIrkqBfDgwzs0Fm1g6YBSyos84C4MZQ75vzgMNqn5e66hvlUaM/ikRHs4Pe3SuB24FFwEbgT+6+3sxuM7PbQqstBHYA24DfAV+JsF4JII3+KBJbEQ1q5u4LqQnz2vMeqDXtwFcj2YYEn0Z/FIktjV4pSUGjP4rEjoZAEBEJOAW9iEjAKehFRAJOQS8iEnAKehGRgLOaHpDJxcxKgN3NfHkvYH8Uy4kW1dU0qqtpVFfTBLGus9w97PgxSRn0kTCzXHfPSXQddamuplFdTaO6mqa11aWmGxGRgFPQi4gEXBCD/sFEF1AP1dU0qqtpVFfTtKq6AtdGLyIipwviEb2IiNSioBcRCbgWH/RmNtfMNpnZWjN71szS61lvupltNrNtZjYnDnV9yszWm1m1mdXbXcrMdplZnpmtNrPcJKor3vurh5ktNrOtoa/d61kvLvuroc8fupnOfaHla81sUqxqaWJdl5jZ4dD+WW1m34tDTQ+bWbGZratneaL2VUN1xX1fhbabbWavmtnG0O/i18OsE9195u4t+gFcDrQNTf8P8D9h1kkBtgODgXbAGmB0jOsaBYwA/g7knGG9XUCvOO6vButK0P76X2BOaHpOuO9jvPZXYz4/cAXwIjX3RT4PeDcO37vG1HUJ8Hy8fp5C2/wIMAlYV8/yuO+rRtYV930V2m5fYFJouguwJdY/Xy3+iN7dX/aau10BvEPNfWnrmgxsc/cd7l4OPA1cHeO6Nrp70t3dupF1xX1/hd7/0dD0o8DMGG/vTBrz+a8GHvMa7wDpZtY3CeqKO3d/HTh4hlUSsa8aU1dCuPs+d18Zmj5KzR366t6MIar7rMUHfR1fpOavYF1ZwN5az/P51x2bKA68bGYrzGx2oosJScT+yvTQ/YRDX3vXs1489ldjPn8i9lFjt3m+ma0xsxfNbEyMa2qMZP79S+i+MrOBwETg3TqLorrPWsQdpsxsCdAnzKL/cPe/hdb5D6ASeDLcW4SZF3G/0sbU1QgXunuhmfUGFpvZptCRSCLrivv+asLbRH1/hdGYzx+TfdSAxmxzJTVjnhwzsyuA+cCwGNfVkETsq8ZI6L4ys87AX4FvuPuRuovDvKTZ+6xFBL27Tz3TcjO7CbgS+KiHGrjqyAeyaz3vDxTGuq5Gvkdh6GuxmT1Lzb/nEQVXFOqK+/4ysyIz6+vu+0L/ohbX8x5R319hNObzx2QfRVpX7cBw94Vm9msz6+XuiRzAKxH7qkGJ3FdmlkpNyD/p7vPCrBLVfdbim27MbDrwHeAqdz9Rz2rLgWFmNsjM2gGzgAXxqrE+ZtbJzLqcmqbmxHLYHgJxloj9tQC4KTR9E/Av/3nEcX815vMvAG4M9Y44Dzh8qukphhqsy8z6mJmFpidT8zt+IMZ1NSQR+6pBidpXoW3+Htjo7j+vZ7Xo7rN4n3GO9gPYRk1b1urQ44HQ/H7AwlrrXUHN2e3t1DRhxLqua6j5q3wSKAIW1a2Lmt4Ta0KP9clSV4L2V0/gFWBr6GuPRO6vcJ8fuA24LTRtwK9Cy/M4Q8+qONd1e2jfrKGmc8IFcajpKWAfUBH62bo5SfZVQ3XFfV+Ftvthapph1tbKrStiuc80BIKISMC1+KYbERE5MwW9iEjAKehFRAJOQS8iEnAKehGRgFPQi4gEnIJeRCTg/j9mSk3WHaORPwAAAABJRU5ErkJggg==\n",
          "text/plain": "<Figure size 432x288 with 1 Axes>"
         },
         "metadata": {
          "needs_background": "light"
         },
         "output_type": "display_data"
        }
       ]
      }
     }
    },
    "version_major": 2,
    "version_minor": 0
   }
  }
 },
 "nbformat": 4,
 "nbformat_minor": 5
}
