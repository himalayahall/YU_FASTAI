{
 "cells": [
  {
   "cell_type": "markdown",
   "id": "48abf522",
   "metadata": {
    "_cell_guid": "356b1e8e-5777-4832-a31f-4c14b30f5c55",
    "_uuid": "327abaae-b2d2-42be-86c3-50997d599b34",
    "papermill": {
     "duration": 0.01369,
     "end_time": "2023-01-18T21:25:40.673032",
     "exception": false,
     "start_time": "2023-01-18T21:25:40.659342",
     "status": "completed"
    },
    "tags": []
   },
   "source": [
    "# Email Classification\n",
    "\n",
    "We will use fast.ai to build an email ham/spam classifier."
   ]
  },
  {
   "cell_type": "markdown",
   "id": "92429604",
   "metadata": {
    "papermill": {
     "duration": 0.013115,
     "end_time": "2023-01-18T21:25:40.698649",
     "exception": false,
     "start_time": "2023-01-18T21:25:40.685534",
     "status": "completed"
    },
    "tags": []
   },
   "source": [
    "# Load data"
   ]
  },
  {
   "cell_type": "code",
   "execution_count": 1,
   "id": "d6af7845",
   "metadata": {
    "_cell_guid": "338d8162-b3d6-450a-a4f9-6a4992ff486e",
    "_uuid": "06bea0f2-713c-4d40-9dcd-66986c19a0d6",
    "collapsed": false,
    "execution": {
     "iopub.execute_input": "2023-01-18T21:25:40.724171Z",
     "iopub.status.busy": "2023-01-18T21:25:40.723317Z",
     "iopub.status.idle": "2023-01-18T21:25:41.295136Z",
     "shell.execute_reply": "2023-01-18T21:25:41.294143Z"
    },
    "jupyter": {
     "outputs_hidden": false
    },
    "papermill": {
     "duration": 0.587405,
     "end_time": "2023-01-18T21:25:41.297731",
     "exception": false,
     "start_time": "2023-01-18T21:25:40.710326",
     "status": "completed"
    },
    "tags": []
   },
   "outputs": [],
   "source": [
    "import pandas as pd\n",
    "\n",
    "df = pd.read_csv('https://raw.githubusercontent.com/himalayahall/DATA607/main/Project4/EMAILSpamCollectionFull.csv')"
   ]
  },
  {
   "cell_type": "code",
   "execution_count": 2,
   "id": "c10c43dc",
   "metadata": {
    "_cell_guid": "2df8474f-8da9-401c-bf34-a52d4e3334df",
    "_uuid": "38c38e1e-dcab-457c-b65f-5ff70b4cdc3c",
    "collapsed": false,
    "execution": {
     "iopub.execute_input": "2023-01-18T21:25:41.322730Z",
     "iopub.status.busy": "2023-01-18T21:25:41.321902Z",
     "iopub.status.idle": "2023-01-18T21:25:41.341106Z",
     "shell.execute_reply": "2023-01-18T21:25:41.340069Z"
    },
    "jupyter": {
     "outputs_hidden": false
    },
    "papermill": {
     "duration": 0.034861,
     "end_time": "2023-01-18T21:25:41.344129",
     "exception": false,
     "start_time": "2023-01-18T21:25:41.309268",
     "status": "completed"
    },
    "scrolled": true,
    "tags": []
   },
   "outputs": [
    {
     "data": {
      "text/html": [
       "<div>\n",
       "<style scoped>\n",
       "    .dataframe tbody tr th:only-of-type {\n",
       "        vertical-align: middle;\n",
       "    }\n",
       "\n",
       "    .dataframe tbody tr th {\n",
       "        vertical-align: top;\n",
       "    }\n",
       "\n",
       "    .dataframe thead th {\n",
       "        text-align: right;\n",
       "    }\n",
       "</style>\n",
       "<table border=\"1\" class=\"dataframe\">\n",
       "  <thead>\n",
       "    <tr style=\"text-align: right;\">\n",
       "      <th></th>\n",
       "      <th>id</th>\n",
       "      <th>from</th>\n",
       "      <th>subject</th>\n",
       "      <th>category</th>\n",
       "      <th>text</th>\n",
       "    </tr>\n",
       "  </thead>\n",
       "  <tbody>\n",
       "    <tr>\n",
       "      <th>0</th>\n",
       "      <td>1</td>\n",
       "      <td>robert elz &lt;kre@munnari.oz.au&gt;</td>\n",
       "      <td>re: new sequences window</td>\n",
       "      <td>ham</td>\n",
       "      <td>Date:        Wed, 21 Aug 2002 10:54:46 -0...</td>\n",
       "    </tr>\n",
       "    <tr>\n",
       "      <th>1</th>\n",
       "      <td>2</td>\n",
       "      <td>steve burt &lt;steve_burt@cursor-system.com&gt;</td>\n",
       "      <td>[zzzzteana] re: alexander</td>\n",
       "      <td>ham</td>\n",
       "      <td>Martin A posted:Tassos Papadopoulos, the Gree...</td>\n",
       "    </tr>\n",
       "    <tr>\n",
       "      <th>2</th>\n",
       "      <td>3</td>\n",
       "      <td>\"tim chapman\" &lt;timc@2ubh.com&gt;</td>\n",
       "      <td>[zzzzteana] moscow bomber</td>\n",
       "      <td>ham</td>\n",
       "      <td>Man Threatens Explosion In Moscow Thursday Au...</td>\n",
       "    </tr>\n",
       "    <tr>\n",
       "      <th>3</th>\n",
       "      <td>4</td>\n",
       "      <td>monty solomon &lt;monty@roscom.com&gt;</td>\n",
       "      <td>[irr] klez: the virus that won't die</td>\n",
       "      <td>ham</td>\n",
       "      <td>Klez: The Virus That Won't Die Already the mo...</td>\n",
       "    </tr>\n",
       "    <tr>\n",
       "      <th>4</th>\n",
       "      <td>5</td>\n",
       "      <td>tony nugent &lt;tony@linuxworks.com.au&gt;</td>\n",
       "      <td>re: insert signature</td>\n",
       "      <td>ham</td>\n",
       "      <td>On Wed Aug 21 2002 at 15:46, Ulises Ponce wro...</td>\n",
       "    </tr>\n",
       "  </tbody>\n",
       "</table>\n",
       "</div>"
      ],
      "text/plain": [
       "   id                                       from  \\\n",
       "0   1             robert elz <kre@munnari.oz.au>   \n",
       "1   2  steve burt <steve_burt@cursor-system.com>   \n",
       "2   3              \"tim chapman\" <timc@2ubh.com>   \n",
       "3   4           monty solomon <monty@roscom.com>   \n",
       "4   5       tony nugent <tony@linuxworks.com.au>   \n",
       "\n",
       "                                subject category  \\\n",
       "0              re: new sequences window      ham   \n",
       "1             [zzzzteana] re: alexander      ham   \n",
       "2             [zzzzteana] moscow bomber      ham   \n",
       "3  [irr] klez: the virus that won't die      ham   \n",
       "4                  re: insert signature      ham   \n",
       "\n",
       "                                                text  \n",
       "0       Date:        Wed, 21 Aug 2002 10:54:46 -0...  \n",
       "1   Martin A posted:Tassos Papadopoulos, the Gree...  \n",
       "2   Man Threatens Explosion In Moscow Thursday Au...  \n",
       "3   Klez: The Virus That Won't Die Already the mo...  \n",
       "4   On Wed Aug 21 2002 at 15:46, Ulises Ponce wro...  "
      ]
     },
     "execution_count": 2,
     "metadata": {},
     "output_type": "execute_result"
    }
   ],
   "source": [
    "df.head()"
   ]
  },
  {
   "cell_type": "code",
   "execution_count": 3,
   "id": "7322f3ad",
   "metadata": {
    "_cell_guid": "bf03f96e-9039-4496-bcfd-d92923b793cf",
    "_uuid": "8e543211-3391-4f66-84bb-9ca84e000313",
    "collapsed": false,
    "execution": {
     "iopub.execute_input": "2023-01-18T21:25:41.368987Z",
     "iopub.status.busy": "2023-01-18T21:25:41.368081Z",
     "iopub.status.idle": "2023-01-18T21:25:41.407427Z",
     "shell.execute_reply": "2023-01-18T21:25:41.406515Z"
    },
    "jupyter": {
     "outputs_hidden": false
    },
    "papermill": {
     "duration": 0.053799,
     "end_time": "2023-01-18T21:25:41.409477",
     "exception": false,
     "start_time": "2023-01-18T21:25:41.355678",
     "status": "completed"
    },
    "scrolled": true,
    "tags": []
   },
   "outputs": [
    {
     "data": {
      "text/html": [
       "<div>\n",
       "<style scoped>\n",
       "    .dataframe tbody tr th:only-of-type {\n",
       "        vertical-align: middle;\n",
       "    }\n",
       "\n",
       "    .dataframe tbody tr th {\n",
       "        vertical-align: top;\n",
       "    }\n",
       "\n",
       "    .dataframe thead th {\n",
       "        text-align: right;\n",
       "    }\n",
       "</style>\n",
       "<table border=\"1\" class=\"dataframe\">\n",
       "  <thead>\n",
       "    <tr style=\"text-align: right;\">\n",
       "      <th></th>\n",
       "      <th>from</th>\n",
       "      <th>subject</th>\n",
       "      <th>category</th>\n",
       "      <th>text</th>\n",
       "    </tr>\n",
       "  </thead>\n",
       "  <tbody>\n",
       "    <tr>\n",
       "      <th>count</th>\n",
       "      <td>7933</td>\n",
       "      <td>7903</td>\n",
       "      <td>9350</td>\n",
       "      <td>7953</td>\n",
       "    </tr>\n",
       "    <tr>\n",
       "      <th>unique</th>\n",
       "      <td>2388</td>\n",
       "      <td>3491</td>\n",
       "      <td>2</td>\n",
       "      <td>4618</td>\n",
       "    </tr>\n",
       "    <tr>\n",
       "      <th>top</th>\n",
       "      <td>boingboing &lt;rssfeeds@example.com&gt;</td>\n",
       "      <td>[spambayes] test sets?</td>\n",
       "      <td>ham</td>\n",
       "      <td></td>\n",
       "    </tr>\n",
       "    <tr>\n",
       "      <th>freq</th>\n",
       "      <td>114</td>\n",
       "      <td>58</td>\n",
       "      <td>5553</td>\n",
       "      <td>84</td>\n",
       "    </tr>\n",
       "  </tbody>\n",
       "</table>\n",
       "</div>"
      ],
      "text/plain": [
       "                                     from                 subject category  \\\n",
       "count                                7933                    7903     9350   \n",
       "unique                               2388                    3491        2   \n",
       "top     boingboing <rssfeeds@example.com>  [spambayes] test sets?      ham   \n",
       "freq                                  114                      58     5553   \n",
       "\n",
       "        text  \n",
       "count   7953  \n",
       "unique  4618  \n",
       "top           \n",
       "freq      84  "
      ]
     },
     "execution_count": 3,
     "metadata": {},
     "output_type": "execute_result"
    }
   ],
   "source": [
    "df.describe(include='object')"
   ]
  },
  {
   "cell_type": "markdown",
   "id": "d30326bf",
   "metadata": {
    "_cell_guid": "bfab9321-aaaa-4e41-b45e-d80c77dea866",
    "_uuid": "03eac38f-1b5b-440b-bb71-804c0cead37b",
    "papermill": {
     "duration": 0.011626,
     "end_time": "2023-01-18T21:25:41.432761",
     "exception": false,
     "start_time": "2023-01-18T21:25:41.421135",
     "status": "completed"
    },
    "tags": []
   },
   "source": [
    "# Cleanup Data"
   ]
  },
  {
   "cell_type": "markdown",
   "id": "22410f3b",
   "metadata": {
    "_cell_guid": "e584556e-c018-4940-a98c-6e102f1beecf",
    "_uuid": "1c3205bb-a51e-4da0-b967-a1c86486e64e",
    "papermill": {
     "duration": 0.011473,
     "end_time": "2023-01-18T21:25:41.456065",
     "exception": false,
     "start_time": "2023-01-18T21:25:41.444592",
     "status": "completed"
    },
    "tags": []
   },
   "source": [
    "Drop NAs."
   ]
  },
  {
   "cell_type": "code",
   "execution_count": 4,
   "id": "d27b1caa",
   "metadata": {
    "_cell_guid": "f1d6988f-ddd5-492a-885c-3c158b44bd89",
    "_uuid": "864282f8-0182-4d62-ada6-aac395fce42b",
    "collapsed": false,
    "execution": {
     "iopub.execute_input": "2023-01-18T21:25:41.480801Z",
     "iopub.status.busy": "2023-01-18T21:25:41.480488Z",
     "iopub.status.idle": "2023-01-18T21:25:41.495450Z",
     "shell.execute_reply": "2023-01-18T21:25:41.494436Z"
    },
    "jupyter": {
     "outputs_hidden": false
    },
    "papermill": {
     "duration": 0.029853,
     "end_time": "2023-01-18T21:25:41.497523",
     "exception": false,
     "start_time": "2023-01-18T21:25:41.467670",
     "status": "completed"
    },
    "tags": []
   },
   "outputs": [
    {
     "data": {
      "text/plain": [
       "id          0\n",
       "from        0\n",
       "subject     0\n",
       "category    0\n",
       "text        0\n",
       "dtype: int64"
      ]
     },
     "execution_count": 4,
     "metadata": {},
     "output_type": "execute_result"
    }
   ],
   "source": [
    "df1 = df.dropna()\n",
    "df1.isna().sum()"
   ]
  },
  {
   "cell_type": "markdown",
   "id": "69a71dd0",
   "metadata": {
    "_cell_guid": "d7e6a10b-b4cd-464e-a7f6-8c7bb544cd16",
    "_uuid": "8cf5cfa5-8912-4e88-be41-fbb7804c51ee",
    "papermill": {
     "duration": 0.011621,
     "end_time": "2023-01-18T21:25:41.520907",
     "exception": false,
     "start_time": "2023-01-18T21:25:41.509286",
     "status": "completed"
    },
    "tags": []
   },
   "source": [
    "Remove **id** and **email_src** columns."
   ]
  },
  {
   "cell_type": "code",
   "execution_count": 5,
   "id": "e8784588",
   "metadata": {
    "_cell_guid": "02c59a45-4c16-4605-b0b4-d353cbd50838",
    "_uuid": "8e1b9aae-e5d1-4430-b903-24fab7ab1138",
    "collapsed": false,
    "execution": {
     "iopub.execute_input": "2023-01-18T21:25:41.549001Z",
     "iopub.status.busy": "2023-01-18T21:25:41.548665Z",
     "iopub.status.idle": "2023-01-18T21:25:41.561113Z",
     "shell.execute_reply": "2023-01-18T21:25:41.560152Z"
    },
    "jupyter": {
     "outputs_hidden": false
    },
    "papermill": {
     "duration": 0.027379,
     "end_time": "2023-01-18T21:25:41.563090",
     "exception": false,
     "start_time": "2023-01-18T21:25:41.535711",
     "status": "completed"
    },
    "tags": []
   },
   "outputs": [
    {
     "data": {
      "text/html": [
       "<div>\n",
       "<style scoped>\n",
       "    .dataframe tbody tr th:only-of-type {\n",
       "        vertical-align: middle;\n",
       "    }\n",
       "\n",
       "    .dataframe tbody tr th {\n",
       "        vertical-align: top;\n",
       "    }\n",
       "\n",
       "    .dataframe thead th {\n",
       "        text-align: right;\n",
       "    }\n",
       "</style>\n",
       "<table border=\"1\" class=\"dataframe\">\n",
       "  <thead>\n",
       "    <tr style=\"text-align: right;\">\n",
       "      <th></th>\n",
       "      <th>from</th>\n",
       "      <th>subject</th>\n",
       "      <th>text</th>\n",
       "      <th>category</th>\n",
       "    </tr>\n",
       "  </thead>\n",
       "  <tbody>\n",
       "    <tr>\n",
       "      <th>0</th>\n",
       "      <td>robert elz &lt;kre@munnari.oz.au&gt;</td>\n",
       "      <td>re: new sequences window</td>\n",
       "      <td>Date:        Wed, 21 Aug 2002 10:54:46 -0...</td>\n",
       "      <td>ham</td>\n",
       "    </tr>\n",
       "    <tr>\n",
       "      <th>1</th>\n",
       "      <td>steve burt &lt;steve_burt@cursor-system.com&gt;</td>\n",
       "      <td>[zzzzteana] re: alexander</td>\n",
       "      <td>Martin A posted:Tassos Papadopoulos, the Gree...</td>\n",
       "      <td>ham</td>\n",
       "    </tr>\n",
       "    <tr>\n",
       "      <th>2</th>\n",
       "      <td>\"tim chapman\" &lt;timc@2ubh.com&gt;</td>\n",
       "      <td>[zzzzteana] moscow bomber</td>\n",
       "      <td>Man Threatens Explosion In Moscow Thursday Au...</td>\n",
       "      <td>ham</td>\n",
       "    </tr>\n",
       "    <tr>\n",
       "      <th>3</th>\n",
       "      <td>monty solomon &lt;monty@roscom.com&gt;</td>\n",
       "      <td>[irr] klez: the virus that won't die</td>\n",
       "      <td>Klez: The Virus That Won't Die Already the mo...</td>\n",
       "      <td>ham</td>\n",
       "    </tr>\n",
       "    <tr>\n",
       "      <th>4</th>\n",
       "      <td>tony nugent &lt;tony@linuxworks.com.au&gt;</td>\n",
       "      <td>re: insert signature</td>\n",
       "      <td>On Wed Aug 21 2002 at 15:46, Ulises Ponce wro...</td>\n",
       "      <td>ham</td>\n",
       "    </tr>\n",
       "  </tbody>\n",
       "</table>\n",
       "</div>"
      ],
      "text/plain": [
       "                                        from  \\\n",
       "0             robert elz <kre@munnari.oz.au>   \n",
       "1  steve burt <steve_burt@cursor-system.com>   \n",
       "2              \"tim chapman\" <timc@2ubh.com>   \n",
       "3           monty solomon <monty@roscom.com>   \n",
       "4       tony nugent <tony@linuxworks.com.au>   \n",
       "\n",
       "                                subject  \\\n",
       "0              re: new sequences window   \n",
       "1             [zzzzteana] re: alexander   \n",
       "2             [zzzzteana] moscow bomber   \n",
       "3  [irr] klez: the virus that won't die   \n",
       "4                  re: insert signature   \n",
       "\n",
       "                                                text category  \n",
       "0       Date:        Wed, 21 Aug 2002 10:54:46 -0...      ham  \n",
       "1   Martin A posted:Tassos Papadopoulos, the Gree...      ham  \n",
       "2   Man Threatens Explosion In Moscow Thursday Au...      ham  \n",
       "3   Klez: The Virus That Won't Die Already the mo...      ham  \n",
       "4   On Wed Aug 21 2002 at 15:46, Ulises Ponce wro...      ham  "
      ]
     },
     "execution_count": 5,
     "metadata": {},
     "output_type": "execute_result"
    }
   ],
   "source": [
    "df1 = df1[['from', 'subject', 'text', 'category']]\n",
    "df1.head()"
   ]
  },
  {
   "cell_type": "markdown",
   "id": "3e78e957",
   "metadata": {
    "papermill": {
     "duration": 0.011727,
     "end_time": "2023-01-18T21:25:41.586749",
     "exception": false,
     "start_time": "2023-01-18T21:25:41.575022",
     "status": "completed"
    },
    "tags": []
   },
   "source": [
    "Strip HTML tags."
   ]
  },
  {
   "cell_type": "code",
   "execution_count": 6,
   "id": "3d740a52",
   "metadata": {
    "_cell_guid": "09c3248f-82ae-49c6-99f4-9aea6a7c393a",
    "_uuid": "cb5ed568-ad08-42ad-97d0-2f0c4b254d2c",
    "collapsed": false,
    "execution": {
     "iopub.execute_input": "2023-01-18T21:25:41.613444Z",
     "iopub.status.busy": "2023-01-18T21:25:41.613155Z",
     "iopub.status.idle": "2023-01-18T21:25:41.791603Z",
     "shell.execute_reply": "2023-01-18T21:25:41.790607Z"
    },
    "jupyter": {
     "outputs_hidden": false
    },
    "papermill": {
     "duration": 0.194918,
     "end_time": "2023-01-18T21:25:41.793674",
     "exception": false,
     "start_time": "2023-01-18T21:25:41.598756",
     "status": "completed"
    },
    "tags": []
   },
   "outputs": [
    {
     "data": {
      "text/html": [
       "<div>\n",
       "<style scoped>\n",
       "    .dataframe tbody tr th:only-of-type {\n",
       "        vertical-align: middle;\n",
       "    }\n",
       "\n",
       "    .dataframe tbody tr th {\n",
       "        vertical-align: top;\n",
       "    }\n",
       "\n",
       "    .dataframe thead th {\n",
       "        text-align: right;\n",
       "    }\n",
       "</style>\n",
       "<table border=\"1\" class=\"dataframe\">\n",
       "  <thead>\n",
       "    <tr style=\"text-align: right;\">\n",
       "      <th></th>\n",
       "      <th>from</th>\n",
       "      <th>subject</th>\n",
       "      <th>text</th>\n",
       "      <th>category</th>\n",
       "    </tr>\n",
       "  </thead>\n",
       "  <tbody>\n",
       "    <tr>\n",
       "      <th>0</th>\n",
       "      <td>robert elz &lt;kre@munnari.oz.au&gt;</td>\n",
       "      <td>re: new sequences window</td>\n",
       "      <td>Date:        Wed, 21 Aug 2002 10:54:46 -0...</td>\n",
       "      <td>ham</td>\n",
       "    </tr>\n",
       "    <tr>\n",
       "      <th>1</th>\n",
       "      <td>steve burt &lt;steve_burt@cursor-system.com&gt;</td>\n",
       "      <td>[zzzzteana] re: alexander</td>\n",
       "      <td>Martin A posted:Tassos Papadopoulos, the Gree...</td>\n",
       "      <td>ham</td>\n",
       "    </tr>\n",
       "    <tr>\n",
       "      <th>2</th>\n",
       "      <td>\"tim chapman\" &lt;timc@2ubh.com&gt;</td>\n",
       "      <td>[zzzzteana] moscow bomber</td>\n",
       "      <td>Man Threatens Explosion In Moscow Thursday Au...</td>\n",
       "      <td>ham</td>\n",
       "    </tr>\n",
       "    <tr>\n",
       "      <th>3</th>\n",
       "      <td>monty solomon &lt;monty@roscom.com&gt;</td>\n",
       "      <td>[irr] klez: the virus that won't die</td>\n",
       "      <td>Klez: The Virus That Won't Die Already the mo...</td>\n",
       "      <td>ham</td>\n",
       "    </tr>\n",
       "    <tr>\n",
       "      <th>4</th>\n",
       "      <td>tony nugent &lt;tony@linuxworks.com.au&gt;</td>\n",
       "      <td>re: insert signature</td>\n",
       "      <td>On Wed Aug 21 2002 at 15:46, Ulises Ponce wro...</td>\n",
       "      <td>ham</td>\n",
       "    </tr>\n",
       "  </tbody>\n",
       "</table>\n",
       "</div>"
      ],
      "text/plain": [
       "                                        from  \\\n",
       "0             robert elz <kre@munnari.oz.au>   \n",
       "1  steve burt <steve_burt@cursor-system.com>   \n",
       "2              \"tim chapman\" <timc@2ubh.com>   \n",
       "3           monty solomon <monty@roscom.com>   \n",
       "4       tony nugent <tony@linuxworks.com.au>   \n",
       "\n",
       "                                subject  \\\n",
       "0              re: new sequences window   \n",
       "1             [zzzzteana] re: alexander   \n",
       "2             [zzzzteana] moscow bomber   \n",
       "3  [irr] klez: the virus that won't die   \n",
       "4                  re: insert signature   \n",
       "\n",
       "                                                text category  \n",
       "0       Date:        Wed, 21 Aug 2002 10:54:46 -0...      ham  \n",
       "1   Martin A posted:Tassos Papadopoulos, the Gree...      ham  \n",
       "2   Man Threatens Explosion In Moscow Thursday Au...      ham  \n",
       "3   Klez: The Virus That Won't Die Already the mo...      ham  \n",
       "4   On Wed Aug 21 2002 at 15:46, Ulises Ponce wro...      ham  "
      ]
     },
     "execution_count": 6,
     "metadata": {},
     "output_type": "execute_result"
    }
   ],
   "source": [
    "df1['subject'] = df1['subject'].replace('<[^<>]*>', \" \", regex=True)\n",
    "df1['text'] = df1['text'].replace('<[^<>]*>', \" \", regex=True)\n",
    "df1.head()"
   ]
  },
  {
   "cell_type": "markdown",
   "id": "555c881d",
   "metadata": {
    "papermill": {
     "duration": 0.012033,
     "end_time": "2023-01-18T21:25:41.818161",
     "exception": false,
     "start_time": "2023-01-18T21:25:41.806128",
     "status": "completed"
    },
    "tags": []
   },
   "source": [
    "Look at data summary."
   ]
  },
  {
   "cell_type": "code",
   "execution_count": 7,
   "id": "02d66452",
   "metadata": {
    "_cell_guid": "2bbdf522-c480-4400-9ad0-2ba2fcf600d5",
    "_uuid": "a0a2ec4c-658c-4055-b4ec-f1056c2d1acb",
    "collapsed": false,
    "execution": {
     "iopub.execute_input": "2023-01-18T21:25:41.844157Z",
     "iopub.status.busy": "2023-01-18T21:25:41.843787Z",
     "iopub.status.idle": "2023-01-18T21:25:41.873551Z",
     "shell.execute_reply": "2023-01-18T21:25:41.872482Z"
    },
    "jupyter": {
     "outputs_hidden": false
    },
    "papermill": {
     "duration": 0.045542,
     "end_time": "2023-01-18T21:25:41.875824",
     "exception": false,
     "start_time": "2023-01-18T21:25:41.830282",
     "status": "completed"
    },
    "tags": []
   },
   "outputs": [
    {
     "data": {
      "text/html": [
       "<div>\n",
       "<style scoped>\n",
       "    .dataframe tbody tr th:only-of-type {\n",
       "        vertical-align: middle;\n",
       "    }\n",
       "\n",
       "    .dataframe tbody tr th {\n",
       "        vertical-align: top;\n",
       "    }\n",
       "\n",
       "    .dataframe thead th {\n",
       "        text-align: right;\n",
       "    }\n",
       "</style>\n",
       "<table border=\"1\" class=\"dataframe\">\n",
       "  <thead>\n",
       "    <tr style=\"text-align: right;\">\n",
       "      <th></th>\n",
       "      <th>from</th>\n",
       "      <th>subject</th>\n",
       "      <th>text</th>\n",
       "      <th>category</th>\n",
       "    </tr>\n",
       "  </thead>\n",
       "  <tbody>\n",
       "    <tr>\n",
       "      <th>count</th>\n",
       "      <td>7902</td>\n",
       "      <td>7902</td>\n",
       "      <td>7902</td>\n",
       "      <td>7902</td>\n",
       "    </tr>\n",
       "    <tr>\n",
       "      <th>unique</th>\n",
       "      <td>2366</td>\n",
       "      <td>3490</td>\n",
       "      <td>4553</td>\n",
       "      <td>2</td>\n",
       "    </tr>\n",
       "    <tr>\n",
       "      <th>top</th>\n",
       "      <td>boingboing &lt;rssfeeds@example.com&gt;</td>\n",
       "      <td>[spambayes] test sets?</td>\n",
       "      <td></td>\n",
       "      <td>ham</td>\n",
       "    </tr>\n",
       "    <tr>\n",
       "      <th>freq</th>\n",
       "      <td>114</td>\n",
       "      <td>58</td>\n",
       "      <td>48</td>\n",
       "      <td>5549</td>\n",
       "    </tr>\n",
       "  </tbody>\n",
       "</table>\n",
       "</div>"
      ],
      "text/plain": [
       "                                     from                 subject  text  \\\n",
       "count                                7902                    7902  7902   \n",
       "unique                               2366                    3490  4553   \n",
       "top     boingboing <rssfeeds@example.com>  [spambayes] test sets?         \n",
       "freq                                  114                      58    48   \n",
       "\n",
       "       category  \n",
       "count      7902  \n",
       "unique        2  \n",
       "top         ham  \n",
       "freq       5549  "
      ]
     },
     "execution_count": 7,
     "metadata": {},
     "output_type": "execute_result"
    }
   ],
   "source": [
    "df1.describe(include='object')"
   ]
  },
  {
   "cell_type": "markdown",
   "id": "f5efa9e1",
   "metadata": {
    "papermill": {
     "duration": 0.01219,
     "end_time": "2023-01-18T21:25:41.900665",
     "exception": false,
     "start_time": "2023-01-18T21:25:41.888475",
     "status": "completed"
    },
    "tags": []
   },
   "source": [
    "## Compute NULL model (baseline) accuracy"
   ]
  },
  {
   "cell_type": "markdown",
   "id": "5a008116",
   "metadata": {
    "_cell_guid": "168d1c33-2f28-4aef-915d-dc5466e224aa",
    "_uuid": "72537732-ff6f-4b5c-bb71-330dc8c56987",
    "papermill": {
     "duration": 0.012109,
     "end_time": "2023-01-18T21:25:41.925162",
     "exception": false,
     "start_time": "2023-01-18T21:25:41.913053",
     "status": "completed"
    },
    "tags": []
   },
   "source": [
    "Compute baseline accuracy: any model worth considering must have greater accuracy (at a minimum) than null model. \n",
    "\n",
    "This data set is unbalanced (more ham instances than spams), null model has 70% accuracy."
   ]
  },
  {
   "cell_type": "code",
   "execution_count": 8,
   "id": "044bde93",
   "metadata": {
    "_cell_guid": "3eec5891-33fc-4067-8e50-af5a0556c9fa",
    "_uuid": "633b3f11-36ad-4090-8546-bcca2037f7d0",
    "collapsed": false,
    "execution": {
     "iopub.execute_input": "2023-01-18T21:25:41.951384Z",
     "iopub.status.busy": "2023-01-18T21:25:41.950984Z",
     "iopub.status.idle": "2023-01-18T21:25:41.960806Z",
     "shell.execute_reply": "2023-01-18T21:25:41.959180Z"
    },
    "jupyter": {
     "outputs_hidden": false
    },
    "papermill": {
     "duration": 0.025617,
     "end_time": "2023-01-18T21:25:41.963039",
     "exception": false,
     "start_time": "2023-01-18T21:25:41.937422",
     "status": "completed"
    },
    "tags": []
   },
   "outputs": [
    {
     "name": "stdout",
     "output_type": "stream",
     "text": [
      "category\n",
      "ham     5549\n",
      "spam    2353\n",
      "dtype: int64\n",
      "Baseline (null model) accuracy:  0.70222728423184\n"
     ]
    }
   ],
   "source": [
    "cat_size = df1.groupby('category').size()\n",
    "print(cat_size)\n",
    "\n",
    "ham_prop = cat_size[0] / (cat_size[0] + cat_size[1])\n",
    "print('Baseline (null model) accuracy: ' , ham_prop)"
   ]
  },
  {
   "cell_type": "markdown",
   "id": "693b0ca5",
   "metadata": {
    "papermill": {
     "duration": 0.012336,
     "end_time": "2023-01-18T21:25:41.987810",
     "exception": false,
     "start_time": "2023-01-18T21:25:41.975474",
     "status": "completed"
    },
    "tags": []
   },
   "source": [
    "## Prepare DataBlock"
   ]
  },
  {
   "cell_type": "code",
   "execution_count": 9,
   "id": "4e8b8651",
   "metadata": {
    "_cell_guid": "a7941db3-82c5-4c7a-97e8-c0bcec82add4",
    "_uuid": "7b48a168-7bd4-4627-94c2-597a779c1b0f",
    "collapsed": false,
    "execution": {
     "iopub.execute_input": "2023-01-18T21:25:42.014648Z",
     "iopub.status.busy": "2023-01-18T21:25:42.013730Z",
     "iopub.status.idle": "2023-01-18T21:25:44.844140Z",
     "shell.execute_reply": "2023-01-18T21:25:44.843159Z"
    },
    "jupyter": {
     "outputs_hidden": false
    },
    "papermill": {
     "duration": 2.846373,
     "end_time": "2023-01-18T21:25:44.846536",
     "exception": false,
     "start_time": "2023-01-18T21:25:42.000163",
     "status": "completed"
    },
    "tags": []
   },
   "outputs": [],
   "source": [
    "from fastai.data.all import *\n",
    "from fastai.text.all import *"
   ]
  },
  {
   "cell_type": "markdown",
   "id": "851c6063",
   "metadata": {
    "_cell_guid": "b1225a72-8b09-43f1-9993-1bd2cdf26ccd",
    "_uuid": "54e06603-17d9-4da6-bc2a-b3d316beb50a",
    "papermill": {
     "duration": 0.012322,
     "end_time": "2023-01-18T21:25:44.871853",
     "exception": false,
     "start_time": "2023-01-18T21:25:44.859531",
     "status": "completed"
    },
    "tags": []
   },
   "source": [
    "Create data loaders for classification, build **DataBlock** using **TextBlock** and **CategoryBlock**. Set aside 20% data using **TrainTestSplitter** for model testing."
   ]
  },
  {
   "cell_type": "code",
   "execution_count": 10,
   "id": "95079834",
   "metadata": {
    "_cell_guid": "7f78bf4c-8eb0-469c-a6a3-094ac0957563",
    "_uuid": "7ce96696-dd98-48df-a5d4-64415ad1004c",
    "collapsed": false,
    "execution": {
     "iopub.execute_input": "2023-01-18T21:25:44.899093Z",
     "iopub.status.busy": "2023-01-18T21:25:44.897884Z",
     "iopub.status.idle": "2023-01-18T21:26:47.544925Z",
     "shell.execute_reply": "2023-01-18T21:26:47.543699Z"
    },
    "jupyter": {
     "outputs_hidden": false
    },
    "papermill": {
     "duration": 62.663163,
     "end_time": "2023-01-18T21:26:47.547442",
     "exception": false,
     "start_time": "2023-01-18T21:25:44.884279",
     "status": "completed"
    },
    "tags": []
   },
   "outputs": [
    {
     "data": {
      "text/html": [
       "\n",
       "<style>\n",
       "    /* Turns off some styling */\n",
       "    progress {\n",
       "        /* gets rid of default border in Firefox and Opera. */\n",
       "        border: none;\n",
       "        /* Needs to be in here for Safari polyfill so background images work as expected. */\n",
       "        background-size: auto;\n",
       "    }\n",
       "    progress:not([value]), progress:not([value])::-webkit-progress-bar {\n",
       "        background: repeating-linear-gradient(45deg, #7e7e7e, #7e7e7e 10px, #5c5c5c 10px, #5c5c5c 20px);\n",
       "    }\n",
       "    .progress-bar-interrupted, .progress-bar-interrupted::-webkit-progress-bar {\n",
       "        background: #F44336;\n",
       "    }\n",
       "</style>\n"
      ],
      "text/plain": [
       "<IPython.core.display.HTML object>"
      ]
     },
     "metadata": {},
     "output_type": "display_data"
    },
    {
     "data": {
      "text/html": [],
      "text/plain": [
       "<IPython.core.display.HTML object>"
      ]
     },
     "metadata": {},
     "output_type": "display_data"
    }
   ],
   "source": [
    "dls_cls = DataBlock(\n",
    "            blocks=(\n",
    "                TextBlock.from_df(text_cols=('subject', 'text'), \n",
    "                        is_lm=False),\n",
    "                CategoryBlock),\n",
    "            get_x=ColReader('text'), \n",
    "            get_y=ColReader('category'),\n",
    "            splitter=TrainTestSplitter(test_size=0.2,stratify=df1.category)\n",
    "        ).dataloaders(df1)"
   ]
  },
  {
   "cell_type": "code",
   "execution_count": 11,
   "id": "677aa21b",
   "metadata": {
    "_cell_guid": "978be4fa-a641-492d-a7f3-d67c14ead48a",
    "_uuid": "6fce97a1-fb6a-4d96-ab7f-61399f1d838e",
    "collapsed": false,
    "execution": {
     "iopub.execute_input": "2023-01-18T21:26:47.574821Z",
     "iopub.status.busy": "2023-01-18T21:26:47.574469Z",
     "iopub.status.idle": "2023-01-18T21:26:49.680870Z",
     "shell.execute_reply": "2023-01-18T21:26:49.679766Z"
    },
    "jupyter": {
     "outputs_hidden": false
    },
    "papermill": {
     "duration": 2.122551,
     "end_time": "2023-01-18T21:26:49.683062",
     "exception": false,
     "start_time": "2023-01-18T21:26:47.560511",
     "status": "completed"
    },
    "tags": []
   },
   "outputs": [
    {
     "data": {
      "text/html": [
       "<table border=\"1\" class=\"dataframe\">\n",
       "  <thead>\n",
       "    <tr style=\"text-align: right;\">\n",
       "      <th></th>\n",
       "      <th>text</th>\n",
       "      <th>category</th>\n",
       "    </tr>\n",
       "  </thead>\n",
       "  <tbody>\n",
       "    <tr>\n",
       "      <th>0</th>\n",
       "      <td>xxbos xxfld 1 = ? iso-2022 - xxunk xxfld 2 xxmaj this is a multi - part message in xxup mime format . xxrep 6 - = _ nextpart _ xxrep 3 0 _ xxrep 3 0 2_01c228ca.593b5280content - type : text / plain ; \\t xxunk - xxunk - transfer - encoding : xxunk &lt; xxunk xxrep 3 $ xxunk ! # xxunk ! # xxunk % / % xxunk , xxunk ! $ xxunk % / $ xxunk xxrep 3 $ xxunk , xxunk ! # xxunk : xxunk $ xxunk # ! xxunk xxrep 3 $ xxup xxunk / $ @$5$$ ! # ! xxunk / ! xxunk &gt; xxunk $ / $ * 4j xxrep 5 $ ? $ 7$^$9 ! # xxunk xxrep 38 - + xxunk \\ xxunk # % \" xxunk \\ % xxunk # % xxunk ! e = xxunk xxunk -</td>\n",
       "      <td>ham</td>\n",
       "    </tr>\n",
       "    <tr>\n",
       "      <th>1</th>\n",
       "      <td>xxbos xxfld 1 sed / s / united states / roman empire / g xxfld 2 &gt; a world where some live in comfort and plenty , while half of the human &gt; race lives on less than $ 2 a day , is neither just nor xxunk correct . xxmaj perhaps the most fundamental thing to realize about life on xxmaj earth xxunk following is a fascinating document of official xxmaj government policy that bears close reading . xxmaj it is the aspirations of a wonderful nation in an imperfect world . &gt; xxmaj the war on terrorism is not a clash of civilizations . xxmaj it does , &gt; however , reveal the clash inside a civilization , a battle for the &gt; future of the xxmaj muslim world . xxmaj this is a struggle of ideas and this is an &gt; area where xxmaj america must xxunk</td>\n",
       "      <td>ham</td>\n",
       "    </tr>\n",
       "    <tr>\n",
       "      <th>2</th>\n",
       "      <td>xxbos xxfld 1 sed / s / united states / roman empire / g xxfld 2 &gt; a world where some live in comfort and plenty , while half of the human &gt; race lives on less than $ 2 a day , is neither just nor xxunk correct . xxmaj perhaps the most fundamental thing to realize about life on xxmaj earth xxunk following is a fascinating document of official xxmaj government policy that bears close reading . xxmaj it is the aspirations of a wonderful nation in an imperfect world . &gt; xxmaj the war on terrorism is not a clash of civilizations . xxmaj it does , &gt; however , reveal the clash inside a civilization , a battle for the &gt; future of the xxmaj muslim world . xxmaj this is a struggle of ideas and this is an &gt; area where xxmaj america must xxunk</td>\n",
       "      <td>ham</td>\n",
       "    </tr>\n",
       "    <tr>\n",
       "      <th>3</th>\n",
       "      <td>xxbos xxfld 1 = ? xxunk = f2 = d4 = xxunk xxfld 2 xxmaj this is a multi - part message in xxup mime format -- xxunk - xxunk - b6fa-0050ba415022content - type : text / plain ; charset = gb2312content - transfer - encoding : quoted - printable = cb = c4 = b4 = f3 = cb = d8 = d6 = ca = c5 = e0 = d1 = f8 = b4 = f2 = d4 = xxunk xxup mba = bd = cc = d3 = fd = b5 = c4 = cc = d8 = b5 = e3 = a3 = ac = d4 = da = cb = d8 = d6 = ca = c5 = e0 = d1 = f8 = xxunk = d7 = dc = ca = c7 = d2 = d4 = d3 = c5 = d0 = e3</td>\n",
       "      <td>spam</td>\n",
       "    </tr>\n",
       "    <tr>\n",
       "      <th>4</th>\n",
       "      <td>xxbos xxfld 1 xxunk &amp; enenkio xxunk americans shame ! xxfld 2 xxmaj reply xxmaj from xxunk following message was recieved xxmaj saturday , 13 xxmaj july xxunk has been xxunk or changed . i hold no xxunk for xxunk of this xxunk : enenkio truth ( xxunk : xxmaj sat , 13 xxmaj jul 2002 xxunk xxunk : enenkio@webtv.net ( robert xxunk : xxunk truth ( xxunk xxmaj news xxmaj archives xxunk xxup news xxup releases xxup and xxunk 28 , 1 xxrep 3 9 : xxmaj replies to xxmaj asia xxunk 22 , 1 xxrep 3 9 : xxmaj news xxmaj release - xxmaj gold xxunk 4 , 1 xxrep 3 9 : xxmaj replies to xxmaj published articlesjune 3 , 1 xxrep 3 9 : xxmaj replies to xxmaj published articlesjune 2 , 1 xxrep 3 9 : xxmaj replies to xxmaj published articlesjune 1 , 1</td>\n",
       "      <td>spam</td>\n",
       "    </tr>\n",
       "  </tbody>\n",
       "</table>"
      ],
      "text/plain": [
       "<IPython.core.display.HTML object>"
      ]
     },
     "metadata": {},
     "output_type": "display_data"
    }
   ],
   "source": [
    "dls_cls.show_batch(max_n = 5)"
   ]
  },
  {
   "cell_type": "markdown",
   "id": "bc75fd36",
   "metadata": {
    "papermill": {
     "duration": 0.012366,
     "end_time": "2023-01-18T21:26:49.708323",
     "exception": false,
     "start_time": "2023-01-18T21:26:49.695957",
     "status": "completed"
    },
    "tags": []
   },
   "source": [
    "## Create Learner and fine-tune (transformer)"
   ]
  },
  {
   "cell_type": "code",
   "execution_count": 12,
   "id": "80916ffe",
   "metadata": {
    "_cell_guid": "dd1e421b-54a9-4748-8a78-b87761e1f481",
    "_uuid": "711c0928-89ca-4737-aaed-14b6ab7eaa9e",
    "collapsed": false,
    "execution": {
     "iopub.execute_input": "2023-01-18T21:26:49.735642Z",
     "iopub.status.busy": "2023-01-18T21:26:49.734759Z",
     "iopub.status.idle": "2023-01-18T21:26:55.632931Z",
     "shell.execute_reply": "2023-01-18T21:26:55.631766Z"
    },
    "jupyter": {
     "outputs_hidden": false
    },
    "papermill": {
     "duration": 5.914326,
     "end_time": "2023-01-18T21:26:55.635581",
     "exception": false,
     "start_time": "2023-01-18T21:26:49.721255",
     "status": "completed"
    },
    "tags": []
   },
   "outputs": [
    {
     "data": {
      "text/html": [
       "\n",
       "<style>\n",
       "    /* Turns off some styling */\n",
       "    progress {\n",
       "        /* gets rid of default border in Firefox and Opera. */\n",
       "        border: none;\n",
       "        /* Needs to be in here for Safari polyfill so background images work as expected. */\n",
       "        background-size: auto;\n",
       "    }\n",
       "    progress:not([value]), progress:not([value])::-webkit-progress-bar {\n",
       "        background: repeating-linear-gradient(45deg, #7e7e7e, #7e7e7e 10px, #5c5c5c 10px, #5c5c5c 20px);\n",
       "    }\n",
       "    .progress-bar-interrupted, .progress-bar-interrupted::-webkit-progress-bar {\n",
       "        background: #F44336;\n",
       "    }\n",
       "</style>\n"
      ],
      "text/plain": [
       "<IPython.core.display.HTML object>"
      ]
     },
     "metadata": {},
     "output_type": "display_data"
    },
    {
     "data": {
      "text/html": [
       "\n",
       "    <div>\n",
       "      <progress value='105070592' class='' max='105067061' style='width:300px; height:20px; vertical-align: middle;'></progress>\n",
       "      100.00% [105070592/105067061 00:02&lt;00:00]\n",
       "    </div>\n",
       "    "
      ],
      "text/plain": [
       "<IPython.core.display.HTML object>"
      ]
     },
     "metadata": {},
     "output_type": "display_data"
    }
   ],
   "source": [
    "learner = text_classifier_learner(dls_cls, \n",
    "                                    AWD_LSTM, \n",
    "                                    drop_mult=0.5, \n",
    "                                    metrics=[accuracy, Precision(), Recall(), F1Score()])"
   ]
  },
  {
   "cell_type": "code",
   "execution_count": 13,
   "id": "99fa8b11",
   "metadata": {
    "_cell_guid": "a8b2771f-894e-4e18-936a-eab5c1b02065",
    "_uuid": "7576db43-97ab-4a53-9e31-92b2efa07b81",
    "collapsed": false,
    "execution": {
     "iopub.execute_input": "2023-01-18T21:26:55.663514Z",
     "iopub.status.busy": "2023-01-18T21:26:55.663154Z",
     "iopub.status.idle": "2023-01-18T21:32:20.306199Z",
     "shell.execute_reply": "2023-01-18T21:32:20.304910Z"
    },
    "jupyter": {
     "outputs_hidden": false
    },
    "papermill": {
     "duration": 324.660025,
     "end_time": "2023-01-18T21:32:20.308965",
     "exception": false,
     "start_time": "2023-01-18T21:26:55.648940",
     "status": "completed"
    },
    "tags": []
   },
   "outputs": [
    {
     "data": {
      "text/html": [
       "\n",
       "<style>\n",
       "    /* Turns off some styling */\n",
       "    progress {\n",
       "        /* gets rid of default border in Firefox and Opera. */\n",
       "        border: none;\n",
       "        /* Needs to be in here for Safari polyfill so background images work as expected. */\n",
       "        background-size: auto;\n",
       "    }\n",
       "    progress:not([value]), progress:not([value])::-webkit-progress-bar {\n",
       "        background: repeating-linear-gradient(45deg, #7e7e7e, #7e7e7e 10px, #5c5c5c 10px, #5c5c5c 20px);\n",
       "    }\n",
       "    .progress-bar-interrupted, .progress-bar-interrupted::-webkit-progress-bar {\n",
       "        background: #F44336;\n",
       "    }\n",
       "</style>\n"
      ],
      "text/plain": [
       "<IPython.core.display.HTML object>"
      ]
     },
     "metadata": {},
     "output_type": "display_data"
    },
    {
     "data": {
      "text/html": [
       "<table border=\"1\" class=\"dataframe\">\n",
       "  <thead>\n",
       "    <tr style=\"text-align: left;\">\n",
       "      <th>epoch</th>\n",
       "      <th>train_loss</th>\n",
       "      <th>valid_loss</th>\n",
       "      <th>accuracy</th>\n",
       "      <th>precision_score</th>\n",
       "      <th>recall_score</th>\n",
       "      <th>f1_score</th>\n",
       "      <th>time</th>\n",
       "    </tr>\n",
       "  </thead>\n",
       "  <tbody>\n",
       "    <tr>\n",
       "      <td>0</td>\n",
       "      <td>0.287118</td>\n",
       "      <td>0.192830</td>\n",
       "      <td>0.934219</td>\n",
       "      <td>0.875256</td>\n",
       "      <td>0.908705</td>\n",
       "      <td>0.891667</td>\n",
       "      <td>00:40</td>\n",
       "    </tr>\n",
       "  </tbody>\n",
       "</table>"
      ],
      "text/plain": [
       "<IPython.core.display.HTML object>"
      ]
     },
     "metadata": {},
     "output_type": "display_data"
    },
    {
     "data": {
      "text/html": [
       "\n",
       "<style>\n",
       "    /* Turns off some styling */\n",
       "    progress {\n",
       "        /* gets rid of default border in Firefox and Opera. */\n",
       "        border: none;\n",
       "        /* Needs to be in here for Safari polyfill so background images work as expected. */\n",
       "        background-size: auto;\n",
       "    }\n",
       "    progress:not([value]), progress:not([value])::-webkit-progress-bar {\n",
       "        background: repeating-linear-gradient(45deg, #7e7e7e, #7e7e7e 10px, #5c5c5c 10px, #5c5c5c 20px);\n",
       "    }\n",
       "    .progress-bar-interrupted, .progress-bar-interrupted::-webkit-progress-bar {\n",
       "        background: #F44336;\n",
       "    }\n",
       "</style>\n"
      ],
      "text/plain": [
       "<IPython.core.display.HTML object>"
      ]
     },
     "metadata": {},
     "output_type": "display_data"
    },
    {
     "data": {
      "text/html": [
       "<table border=\"1\" class=\"dataframe\">\n",
       "  <thead>\n",
       "    <tr style=\"text-align: left;\">\n",
       "      <th>epoch</th>\n",
       "      <th>train_loss</th>\n",
       "      <th>valid_loss</th>\n",
       "      <th>accuracy</th>\n",
       "      <th>precision_score</th>\n",
       "      <th>recall_score</th>\n",
       "      <th>f1_score</th>\n",
       "      <th>time</th>\n",
       "    </tr>\n",
       "  </thead>\n",
       "  <tbody>\n",
       "    <tr>\n",
       "      <td>0</td>\n",
       "      <td>0.142035</td>\n",
       "      <td>0.161057</td>\n",
       "      <td>0.957622</td>\n",
       "      <td>0.905622</td>\n",
       "      <td>0.957537</td>\n",
       "      <td>0.930857</td>\n",
       "      <td>01:10</td>\n",
       "    </tr>\n",
       "    <tr>\n",
       "      <td>1</td>\n",
       "      <td>0.107278</td>\n",
       "      <td>0.055226</td>\n",
       "      <td>0.980392</td>\n",
       "      <td>0.966102</td>\n",
       "      <td>0.968153</td>\n",
       "      <td>0.967126</td>\n",
       "      <td>01:12</td>\n",
       "    </tr>\n",
       "    <tr>\n",
       "      <td>2</td>\n",
       "      <td>0.073568</td>\n",
       "      <td>0.032991</td>\n",
       "      <td>0.990512</td>\n",
       "      <td>0.985106</td>\n",
       "      <td>0.983015</td>\n",
       "      <td>0.984060</td>\n",
       "      <td>01:10</td>\n",
       "    </tr>\n",
       "    <tr>\n",
       "      <td>3</td>\n",
       "      <td>0.046157</td>\n",
       "      <td>0.025587</td>\n",
       "      <td>0.991777</td>\n",
       "      <td>0.987234</td>\n",
       "      <td>0.985138</td>\n",
       "      <td>0.986185</td>\n",
       "      <td>01:10</td>\n",
       "    </tr>\n",
       "  </tbody>\n",
       "</table>"
      ],
      "text/plain": [
       "<IPython.core.display.HTML object>"
      ]
     },
     "metadata": {},
     "output_type": "display_data"
    }
   ],
   "source": [
    "learner.fine_tune(4, 1e-2)"
   ]
  },
  {
   "cell_type": "markdown",
   "id": "3f7399f4",
   "metadata": {
    "papermill": {
     "duration": 0.013391,
     "end_time": "2023-01-18T21:32:20.336623",
     "exception": false,
     "start_time": "2023-01-18T21:32:20.323232",
     "status": "completed"
    },
    "tags": []
   },
   "source": [
    "## Interpret results\n",
    "\n",
    "F1-score of 0.98+ is great and so are precision/recall. Note - the model was tuned using GPUs, tuning on CPUs will take significantly longer (hours).\n",
    "\n",
    "Show a few predictions on training data."
   ]
  },
  {
   "cell_type": "code",
   "execution_count": 14,
   "id": "6a9c258a",
   "metadata": {
    "_cell_guid": "d1e5c3a7-80bc-46ec-b525-770f14372be8",
    "_uuid": "5d21a719-08b6-427f-a95e-ab5175c264c5",
    "collapsed": false,
    "execution": {
     "iopub.execute_input": "2023-01-18T21:32:20.365953Z",
     "iopub.status.busy": "2023-01-18T21:32:20.365559Z",
     "iopub.status.idle": "2023-01-18T21:32:24.510253Z",
     "shell.execute_reply": "2023-01-18T21:32:24.509285Z"
    },
    "jupyter": {
     "outputs_hidden": false
    },
    "papermill": {
     "duration": 4.162025,
     "end_time": "2023-01-18T21:32:24.512467",
     "exception": false,
     "start_time": "2023-01-18T21:32:20.350442",
     "status": "completed"
    },
    "tags": []
   },
   "outputs": [
    {
     "data": {
      "text/html": [
       "\n",
       "<style>\n",
       "    /* Turns off some styling */\n",
       "    progress {\n",
       "        /* gets rid of default border in Firefox and Opera. */\n",
       "        border: none;\n",
       "        /* Needs to be in here for Safari polyfill so background images work as expected. */\n",
       "        background-size: auto;\n",
       "    }\n",
       "    progress:not([value]), progress:not([value])::-webkit-progress-bar {\n",
       "        background: repeating-linear-gradient(45deg, #7e7e7e, #7e7e7e 10px, #5c5c5c 10px, #5c5c5c 20px);\n",
       "    }\n",
       "    .progress-bar-interrupted, .progress-bar-interrupted::-webkit-progress-bar {\n",
       "        background: #F44336;\n",
       "    }\n",
       "</style>\n"
      ],
      "text/plain": [
       "<IPython.core.display.HTML object>"
      ]
     },
     "metadata": {},
     "output_type": "display_data"
    },
    {
     "data": {
      "text/html": [],
      "text/plain": [
       "<IPython.core.display.HTML object>"
      ]
     },
     "metadata": {},
     "output_type": "display_data"
    },
    {
     "data": {
      "text/html": [
       "<table border=\"1\" class=\"dataframe\">\n",
       "  <thead>\n",
       "    <tr style=\"text-align: right;\">\n",
       "      <th></th>\n",
       "      <th>text</th>\n",
       "      <th>category</th>\n",
       "      <th>category_</th>\n",
       "    </tr>\n",
       "  </thead>\n",
       "  <tbody>\n",
       "    <tr>\n",
       "      <th>0</th>\n",
       "      <td>xxbos xxfld 1 xxfld 2 hi , you can make $ 50 , xxrep 3 0 or more in the next 90 days sending xxunk impossible ? xxmaj is there a catch ? xxup no , there is no catch ; justsend your e - mails and be on your way to financial xxunk , i send out as many of these e - mails as i can , xxunk send me xxup cash in the mail for information that i just e - xxunk to them . xxmaj everyday , i make a three minute drive to my xxup p.o . xxmaj xxunk that there are at least a few hundred dollars waiting forme . xxmaj and the best part , xxup it xxup is xxup completely xxunk read the next few paragraphs and see what you think . xxmaj if youlike what you read , great ! xxmaj</td>\n",
       "      <td>spam</td>\n",
       "      <td>spam</td>\n",
       "    </tr>\n",
       "    <tr>\n",
       "      <th>1</th>\n",
       "      <td>xxbos xxfld 1 your membership community &amp; commentary , 07 - 06 - 01 xxfld 2 xxrep 3 - xxunk - type : text / plain ; charset = iso-8859 - 1your xxmaj membership xxmaj community &amp; xxmaj commentary ( july 6 , 2001)it 's xxmaj all xxmaj about xxmaj making moneyinformation to provide you with the absolute best low and no cost ways of providing traffic to your site , helping you to capitalize on the power and potential the web brings to every net - preneur . xxrep 3 - xxmaj this xxmaj issue xxmaj contains xxmaj sites xxmaj who xxmaj will xxmaj trade xxmaj links xxmaj with xxmaj you ! xxrep 3 - xxrep 13 - xxup in xxup this xxup issue xxrep 13 - xxmaj internet xxmaj success xxmaj through xxunk xxunk a xxup free xxmaj ad xxmaj in xxmaj community &amp; xxmaj commentary xxrep 3</td>\n",
       "      <td>spam</td>\n",
       "      <td>spam</td>\n",
       "    </tr>\n",
       "    <tr>\n",
       "      <th>2</th>\n",
       "      <td>xxbos xxfld 1 core java technologies tech tips , september 10 , 2002 ( arraylist vs. linkedlist , zero - length arrays ) xxfld 2 xxmaj core xxmaj java xxmaj technologies xxmaj technical xxmaj tips xxup code { color : # xxrep 6 3 ; font - family : xxmaj verdana , xxmaj courier , xxmaj monospace ; font - size : 10pt}pre { color : # xxrep 6 3 ; font - family : xxmaj verdana , xxmaj courier , xxmaj monospace ; font - size : 10pt}body , div , span { color : # xxrep 6 3 ; font - family : xxmaj arial , xxmaj helvetica , sans - serif ; font - size : 10pt}td , th { color : # xxrep 6 3 ; font - family : xxmaj arial , xxmaj helvetica , sans - serif ; font - size : 10pt}tr {</td>\n",
       "      <td>ham</td>\n",
       "      <td>ham</td>\n",
       "    </tr>\n",
       "    <tr>\n",
       "      <th>3</th>\n",
       "      <td>xxbos xxfld 1 fw : make money fast and legal ! as seen on tv ! 65 xxrep 3 0 $ + xxfld 2 xxup the xxup ultimate xxup way xxup to xxup work xxup from xxup home xxup the xxup best xxup money xxup making xxup system xxup of xxup all ! ! xxup as xxup seen xxup on xxup national xxup tv xxmaj as seen on 20 / 20 and many other credible references . xxmaj this is xxup not a scam . i hope this is ok that i send you this . xxmaj if you are n't interested , just simply delete it . xxup read xxup this xxup message if you are like me and want more than your lousy weekly paycheck . xxmaj make more in a few months than last year at work . xxmaj believe it , work it . xxmaj this</td>\n",
       "      <td>spam</td>\n",
       "      <td>spam</td>\n",
       "    </tr>\n",
       "    <tr>\n",
       "      <th>4</th>\n",
       "      <td>xxbos xxfld 1 fw : make money fast and legal ! as seen on tv ! 65 xxrep 3 0 $ + xxfld 2 xxup the xxup ultimate xxup way xxup to xxup work xxup from xxup home xxup the xxup best xxup money xxup making xxup system xxup of xxup all ! ! xxup as xxup seen xxup on xxup national xxup tv xxmaj as seen on 20 / 20 and many other credible references . xxmaj this is xxup not a scam . i hope this is ok that i send you this . xxmaj if you are n't interested , just simply delete it . xxup read xxup this xxup message if you are like me and want more than your lousy weekly paycheck . xxmaj make more in a few months than last year at work . xxmaj believe it , work it . xxmaj this</td>\n",
       "      <td>spam</td>\n",
       "      <td>spam</td>\n",
       "    </tr>\n",
       "    <tr>\n",
       "      <th>5</th>\n",
       "      <td>xxbos xxfld 1 market ca n't find its bottom with both hands xxfld 2 xxmaj this is a multi - part message in xxup mime format … xxrep 12 - = _ 1033478774 - 12610 - 4content - type : text / plain ; charset=\"iso-8859 - 1\"content - disposition : inlinecontent - transfer - encoding : 7bitto view this newsletter in full - color , visit : http : / / newsletter.mediaunspun.com / index xxrep 4 0 21074.cfmmedia unspunwhat the xxmaj press is xxmaj reporting and xxmaj why ( xxrep 3 w .mediaunspun.com ) xxrep 65 - xxmaj october 1 , 2002 xxrep 65 - xxup in xxup this xxup issue xxrep 65 - * xxup market xxup ca n't xxup find xxup its xxup bottom xxup with xxup both xxup hands * xxup winnick : xxup hands - off xxup or xxup red - handed ? * xxup other</td>\n",
       "      <td>ham</td>\n",
       "      <td>ham</td>\n",
       "    </tr>\n",
       "    <tr>\n",
       "      <th>6</th>\n",
       "      <td>xxbos xxfld 1 bush covers the waterfront xxfld 2 xxmaj this is a multi - part message in xxup mime format … xxrep 12 - = _ 1034083278 - 26594 - 4content - type : text / plain ; charset=\"iso-8859 - 1\"content - disposition : inlinecontent - transfer - encoding : 7bitto view this newsletter in full - color : http : / / newsletter.mediaunspun.com / index xxrep 4 0 xxunk unspunwhat the xxmaj press is xxmaj reporting and xxmaj why ( xxrep 3 w .mediaunspun.com ) xxrep 65 - xxmaj october 8 , 2002 xxrep 65 - xxup in xxup this xxup issue xxrep 65 - * xxup bush xxup covers xxup the xxup waterfront * xxup the xxup biggest xxup cable xxup hookup xxrep 65 - xxup editor 's xxup note xxrep 65 - xxmaj is xxmaj media xxmaj unspun useful to you ? xxmaj then pass it</td>\n",
       "      <td>ham</td>\n",
       "      <td>ham</td>\n",
       "    </tr>\n",
       "    <tr>\n",
       "      <th>7</th>\n",
       "      <td>xxbos xxfld 1 effector xxunk : eff submits comments to fcc , johansen trial xxfld 2 effector xxmaj vol . 15 , xxmaj no . 24 xxmaj august 9 , 2002 ren@eff.orga xxmaj publication of the xxmaj electronic xxmaj frontier xxmaj foundation \\t▁ xxup issn 1062 - 9424 in the xxunk xxmaj issue of effector :* xxup eff xxmaj submits xxmaj letter to xxup fcc xxmaj chairman xxmaj regarding xxup bpdg xxmaj proposal * xxmaj update on xxmaj intel xxmaj corp . v. xxmaj hamidi * decss xxmaj author xxmaj johansen 's xxmaj trial xxmaj rescheduled * xxmaj bunnie xxmaj presents xxmaj paper on xbox xxmaj reverse xxmaj engineering * xxmaj thanks to defcon ! * xxup eff xxmaj booth at linuxworld * xxmaj deep xxmaj links : xxmaj baen xxmaj books ' xxmaj releases reader - friendly e - books * xxmaj deep xxmaj links : xxmaj janis xxmaj</td>\n",
       "      <td>ham</td>\n",
       "      <td>ham</td>\n",
       "    </tr>\n",
       "    <tr>\n",
       "      <th>8</th>\n",
       "      <td>xxbos xxfld 1 brother , can you spare a jet ? xxfld 2 xxmaj this is a multi - part message in xxup mime format … xxrep 12 - = _ 1029157891 - 23956 - 4content - type : text / plain ; charset=\"iso-8859 - 1\"content - disposition : inlinecontent - transfer - encoding : 7bitto view this newsletter in full - color , visit : http : / / newsletter.mediaunspun.com / index xxrep 4 0 xxunk unspunwhat the xxmaj press is xxmaj reporting and xxmaj why ( xxrep 3 w .mediaunspun.com ) xxrep 65 - xxmaj august 12 , 2002 xxrep 65 - xxup in xxup this xxup issue xxrep 65 - * xxup brother , xxup can xxup you xxup spare a xxup jet ? * xxup remember xxup global xxup crossing ? * xxup other storiesmedia xxmaj unspun serves business news and analysis , authoritativelyand irreverently ,</td>\n",
       "      <td>ham</td>\n",
       "      <td>ham</td>\n",
       "    </tr>\n",
       "  </tbody>\n",
       "</table>"
      ],
      "text/plain": [
       "<IPython.core.display.HTML object>"
      ]
     },
     "metadata": {},
     "output_type": "display_data"
    }
   ],
   "source": [
    "learner.show_results()"
   ]
  },
  {
   "cell_type": "markdown",
   "id": "c527148a",
   "metadata": {
    "papermill": {
     "duration": 0.014064,
     "end_time": "2023-01-18T21:32:24.540782",
     "exception": false,
     "start_time": "2023-01-18T21:32:24.526718",
     "status": "completed"
    },
    "tags": []
   },
   "source": [
    "Plot confusion matrix. Note, the matrix is generated using the test data set (20% of data data)."
   ]
  },
  {
   "cell_type": "code",
   "execution_count": 15,
   "id": "46cd4c61",
   "metadata": {
    "_cell_guid": "ff379c59-0493-436d-aa44-51f282994126",
    "_uuid": "d8c4552e-f06c-4a5c-9c39-ddbf95067be7",
    "collapsed": false,
    "execution": {
     "iopub.execute_input": "2023-01-18T21:32:24.571214Z",
     "iopub.status.busy": "2023-01-18T21:32:24.570275Z",
     "iopub.status.idle": "2023-01-18T21:32:38.573772Z",
     "shell.execute_reply": "2023-01-18T21:32:38.572074Z"
    },
    "jupyter": {
     "outputs_hidden": false
    },
    "papermill": {
     "duration": 14.02216,
     "end_time": "2023-01-18T21:32:38.577304",
     "exception": false,
     "start_time": "2023-01-18T21:32:24.555144",
     "status": "completed"
    },
    "tags": []
   },
   "outputs": [
    {
     "data": {
      "text/html": [
       "\n",
       "<style>\n",
       "    /* Turns off some styling */\n",
       "    progress {\n",
       "        /* gets rid of default border in Firefox and Opera. */\n",
       "        border: none;\n",
       "        /* Needs to be in here for Safari polyfill so background images work as expected. */\n",
       "        background-size: auto;\n",
       "    }\n",
       "    progress:not([value]), progress:not([value])::-webkit-progress-bar {\n",
       "        background: repeating-linear-gradient(45deg, #7e7e7e, #7e7e7e 10px, #5c5c5c 10px, #5c5c5c 20px);\n",
       "    }\n",
       "    .progress-bar-interrupted, .progress-bar-interrupted::-webkit-progress-bar {\n",
       "        background: #F44336;\n",
       "    }\n",
       "</style>\n"
      ],
      "text/plain": [
       "<IPython.core.display.HTML object>"
      ]
     },
     "metadata": {},
     "output_type": "display_data"
    },
    {
     "data": {
      "text/html": [],
      "text/plain": [
       "<IPython.core.display.HTML object>"
      ]
     },
     "metadata": {},
     "output_type": "display_data"
    },
    {
     "data": {
      "text/html": [
       "\n",
       "<style>\n",
       "    /* Turns off some styling */\n",
       "    progress {\n",
       "        /* gets rid of default border in Firefox and Opera. */\n",
       "        border: none;\n",
       "        /* Needs to be in here for Safari polyfill so background images work as expected. */\n",
       "        background-size: auto;\n",
       "    }\n",
       "    progress:not([value]), progress:not([value])::-webkit-progress-bar {\n",
       "        background: repeating-linear-gradient(45deg, #7e7e7e, #7e7e7e 10px, #5c5c5c 10px, #5c5c5c 20px);\n",
       "    }\n",
       "    .progress-bar-interrupted, .progress-bar-interrupted::-webkit-progress-bar {\n",
       "        background: #F44336;\n",
       "    }\n",
       "</style>\n"
      ],
      "text/plain": [
       "<IPython.core.display.HTML object>"
      ]
     },
     "metadata": {},
     "output_type": "display_data"
    },
    {
     "data": {
      "text/html": [],
      "text/plain": [
       "<IPython.core.display.HTML object>"
      ]
     },
     "metadata": {},
     "output_type": "display_data"
    },
    {
     "data": {
      "image/png": "[encoded data removed]",
      "text/plain": [
       "<Figure size 432x288 with 1 Axes>"
      ]
     },
     "metadata": {
      "needs_background": "light"
     },
     "output_type": "display_data"
    }
   ],
   "source": [
    "interp = ClassificationInterpretation.from_learner(learner)\n",
    "interp.plot_confusion_matrix()"
   ]
  },
  {
   "cell_type": "markdown",
   "id": "d490c239",
   "metadata": {
    "papermill": {
     "duration": 0.031204,
     "end_time": "2023-01-18T21:32:38.646583",
     "exception": false,
     "start_time": "2023-01-18T21:32:38.615379",
     "status": "completed"
    },
    "tags": []
   },
   "source": [
    "## Saving and loading model"
   ]
  },
  {
   "cell_type": "code",
   "execution_count": 16,
   "id": "34273f78",
   "metadata": {
    "_cell_guid": "71abf7f6-5eb6-4eb4-b726-a84341b2cf41",
    "_uuid": "a9724113-37f9-4f4e-b703-52092eefc307",
    "collapsed": false,
    "execution": {
     "iopub.execute_input": "2023-01-18T21:32:38.677322Z",
     "iopub.status.busy": "2023-01-18T21:32:38.676940Z",
     "iopub.status.idle": "2023-01-18T21:32:38.681702Z",
     "shell.execute_reply": "2023-01-18T21:32:38.680769Z"
    },
    "jupyter": {
     "outputs_hidden": false
    },
    "papermill": {
     "duration": 0.022711,
     "end_time": "2023-01-18T21:32:38.683783",
     "exception": false,
     "start_time": "2023-01-18T21:32:38.661072",
     "status": "completed"
    },
    "tags": []
   },
   "outputs": [],
   "source": [
    "# learner.save('pretrained')"
   ]
  },
  {
   "cell_type": "code",
   "execution_count": 17,
   "id": "9752ef42",
   "metadata": {
    "execution": {
     "iopub.execute_input": "2023-01-18T21:32:38.714462Z",
     "iopub.status.busy": "2023-01-18T21:32:38.713616Z",
     "iopub.status.idle": "2023-01-18T21:32:38.718221Z",
     "shell.execute_reply": "2023-01-18T21:32:38.717256Z"
    },
    "papermill": {
     "duration": 0.022034,
     "end_time": "2023-01-18T21:32:38.720184",
     "exception": false,
     "start_time": "2023-01-18T21:32:38.698150",
     "status": "completed"
    },
    "tags": []
   },
   "outputs": [],
   "source": [
    "# learner.load('pretrained')"
   ]
  },
  {
   "cell_type": "markdown",
   "id": "67d76165",
   "metadata": {
    "_cell_guid": "bd7441ec-65d5-4bc6-b433-a597ad33382a",
    "_uuid": "00a74f0c-421d-46e0-ad4f-74d3fb4365f9",
    "papermill": {
     "duration": 0.014221,
     "end_time": "2023-01-18T21:32:38.748727",
     "exception": false,
     "start_time": "2023-01-18T21:32:38.734506",
     "status": "completed"
    },
    "tags": []
   },
   "source": [
    "# Language Model (ULMFiT approach)\n",
    "\n",
    "Create data loader for language modeling. Set aside 10% data using **RandomSplitter** for model validation."
   ]
  },
  {
   "cell_type": "code",
   "execution_count": 18,
   "id": "a7592654",
   "metadata": {
    "_cell_guid": "dfe42466-34b4-465e-b494-72034c9d514a",
    "_uuid": "6b0894ff-c526-42c3-974b-d60c27672f5d",
    "collapsed": false,
    "execution": {
     "iopub.execute_input": "2023-01-18T21:32:38.779661Z",
     "iopub.status.busy": "2023-01-18T21:32:38.778746Z",
     "iopub.status.idle": "2023-01-18T21:32:38.783247Z",
     "shell.execute_reply": "2023-01-18T21:32:38.782215Z"
    },
    "jupyter": {
     "outputs_hidden": false
    },
    "papermill": {
     "duration": 0.022023,
     "end_time": "2023-01-18T21:32:38.785255",
     "exception": false,
     "start_time": "2023-01-18T21:32:38.763232",
     "status": "completed"
    },
    "tags": []
   },
   "outputs": [],
   "source": [
    "# dls_lm = DataBlock(\n",
    "#     blocks=TextBlock.from_df(text_cols=('from', 'subject', 'text'), \n",
    "#                              is_lm=True),\n",
    "#     get_x=ColReader('text'), \n",
    "#     splitter=RandomSplitter(valid_pct=0.1, seed=12345)\n",
    "#     ).dataloaders(df1, bs=64)"
   ]
  },
  {
   "cell_type": "markdown",
   "id": "43e5676b",
   "metadata": {
    "_cell_guid": "ca2e9888-ec7a-4e99-8664-3acc70d8d278",
    "_uuid": "ec4653cd-78ed-456e-b92b-aefd61e1d62a",
    "papermill": {
     "duration": 0.014174,
     "end_time": "2023-01-18T21:32:38.813802",
     "exception": false,
     "start_time": "2023-01-18T21:32:38.799628",
     "status": "completed"
    },
    "tags": []
   },
   "source": [
    "Create data loader"
   ]
  },
  {
   "cell_type": "code",
   "execution_count": 19,
   "id": "fb1b669b",
   "metadata": {
    "_cell_guid": "de56ae16-e2fb-4fcc-a7f2-d34861e96bff",
    "_uuid": "ccdbfcba-063c-425d-8293-ea927978d962",
    "collapsed": false,
    "execution": {
     "iopub.execute_input": "2023-01-18T21:32:38.845228Z",
     "iopub.status.busy": "2023-01-18T21:32:38.843625Z",
     "iopub.status.idle": "2023-01-18T21:32:38.848620Z",
     "shell.execute_reply": "2023-01-18T21:32:38.847735Z"
    },
    "jupyter": {
     "outputs_hidden": false
    },
    "papermill": {
     "duration": 0.022488,
     "end_time": "2023-01-18T21:32:38.850668",
     "exception": false,
     "start_time": "2023-01-18T21:32:38.828180",
     "status": "completed"
    },
    "tags": []
   },
   "outputs": [],
   "source": [
    "# dls_lm.show_batch(max_n = 10)"
   ]
  },
  {
   "cell_type": "markdown",
   "id": "ab3963af",
   "metadata": {
    "_cell_guid": "a8c3fa63-ae51-4903-b6df-4a97fbf5133d",
    "_uuid": "a306e43b-cacf-4ce2-8973-6a499da3652c",
    "papermill": {
     "duration": 0.014225,
     "end_time": "2023-01-18T21:32:38.879352",
     "exception": false,
     "start_time": "2023-01-18T21:32:38.865127",
     "status": "completed"
    },
    "tags": []
   },
   "source": [
    "Create text classifier learner. Use accuracy, Precision, Recall, and ROC for metrics."
   ]
  },
  {
   "cell_type": "code",
   "execution_count": 20,
   "id": "2cd4af95",
   "metadata": {
    "_cell_guid": "ba17bf51-1e2a-4bfb-acc6-b49dfc56c7a1",
    "_uuid": "3d64fdcf-95d2-4d68-8e97-ce84bae5bbc7",
    "collapsed": false,
    "execution": {
     "iopub.execute_input": "2023-01-18T21:32:38.910963Z",
     "iopub.status.busy": "2023-01-18T21:32:38.909380Z",
     "iopub.status.idle": "2023-01-18T21:32:38.914186Z",
     "shell.execute_reply": "2023-01-18T21:32:38.913283Z"
    },
    "jupyter": {
     "outputs_hidden": false
    },
    "papermill": {
     "duration": 0.02234,
     "end_time": "2023-01-18T21:32:38.916148",
     "exception": false,
     "start_time": "2023-01-18T21:32:38.893808",
     "status": "completed"
    },
    "tags": []
   },
   "outputs": [],
   "source": [
    "# learn = language_model_learner(\n",
    "#             dls_lm, \n",
    "#             AWD_LSTM, \n",
    "#             wd=0.1,\n",
    "#             metrics=[accuracy, Perplexity()]).to_fp16()"
   ]
  },
  {
   "cell_type": "markdown",
   "id": "c99ba52e",
   "metadata": {
    "_cell_guid": "02b2a416-97d2-4703-97ca-c525ac94c072",
    "_uuid": "1aa0722c-f4e7-4972-9855-8d6ee4dedf65",
    "papermill": {
     "duration": 0.014236,
     "end_time": "2023-01-18T21:32:38.944822",
     "exception": false,
     "start_time": "2023-01-18T21:32:38.930586",
     "status": "completed"
    },
    "tags": []
   },
   "source": [
    "Fine-tune language model."
   ]
  },
  {
   "cell_type": "code",
   "execution_count": 21,
   "id": "4415d978",
   "metadata": {
    "_cell_guid": "488ff5fe-5e90-4495-88d8-5b171d48b08a",
    "_uuid": "42b35b8e-7e5e-4c5f-a39f-6167f061adb6",
    "collapsed": false,
    "execution": {
     "iopub.execute_input": "2023-01-18T21:32:38.975630Z",
     "iopub.status.busy": "2023-01-18T21:32:38.974691Z",
     "iopub.status.idle": "2023-01-18T21:32:38.979214Z",
     "shell.execute_reply": "2023-01-18T21:32:38.978323Z"
    },
    "jupyter": {
     "outputs_hidden": false
    },
    "papermill": {
     "duration": 0.022024,
     "end_time": "2023-01-18T21:32:38.981178",
     "exception": false,
     "start_time": "2023-01-18T21:32:38.959154",
     "status": "completed"
    },
    "tags": []
   },
   "outputs": [],
   "source": [
    "# learn.fit_one_cycle(1, 2e-2)"
   ]
  },
  {
   "cell_type": "markdown",
   "id": "a8bb022f",
   "metadata": {
    "_cell_guid": "c3bfa931-0c71-4f56-a21a-606a6fcd34a9",
    "_uuid": "0041d125-f622-48a5-a3f9-c2d25074ddde",
    "papermill": {
     "duration": 0.014417,
     "end_time": "2023-01-18T21:32:39.009893",
     "exception": false,
     "start_time": "2023-01-18T21:32:38.995476",
     "status": "completed"
    },
    "tags": []
   },
   "source": [
    "Save language model state."
   ]
  },
  {
   "cell_type": "code",
   "execution_count": 22,
   "id": "fc517c10",
   "metadata": {
    "_cell_guid": "5de6446d-9b0f-40f7-aea3-b4902da18e68",
    "_uuid": "2de7b3df-4eaa-45e7-aa43-2a9eaa5a7d58",
    "collapsed": false,
    "execution": {
     "iopub.execute_input": "2023-01-18T21:32:39.040233Z",
     "iopub.status.busy": "2023-01-18T21:32:39.039889Z",
     "iopub.status.idle": "2023-01-18T21:32:39.044083Z",
     "shell.execute_reply": "2023-01-18T21:32:39.043073Z"
    },
    "jupyter": {
     "outputs_hidden": false
    },
    "papermill": {
     "duration": 0.021865,
     "end_time": "2023-01-18T21:32:39.046069",
     "exception": false,
     "start_time": "2023-01-18T21:32:39.024204",
     "status": "completed"
    },
    "tags": []
   },
   "outputs": [],
   "source": [
    "# learn.save('1epoch')"
   ]
  },
  {
   "cell_type": "markdown",
   "id": "a9f3f4cb",
   "metadata": {
    "_cell_guid": "72c34cf5-365f-48f1-8277-523d9f65a361",
    "_uuid": "953a3a51-8f43-4b68-8ec3-0d4e1c1196d2",
    "papermill": {
     "duration": 0.014296,
     "end_time": "2023-01-18T21:32:39.074958",
     "exception": false,
     "start_time": "2023-01-18T21:32:39.060662",
     "status": "completed"
    },
    "tags": []
   },
   "source": [
    "Unfreeze model for futher tuning."
   ]
  },
  {
   "cell_type": "code",
   "execution_count": 23,
   "id": "4295ef5c",
   "metadata": {
    "_cell_guid": "c50916dc-8edf-47f9-9cfc-6a97cb9a502b",
    "_uuid": "c4250484-ddb4-4493-862a-cb7bfce1ec25",
    "collapsed": false,
    "execution": {
     "iopub.execute_input": "2023-01-18T21:32:39.105608Z",
     "iopub.status.busy": "2023-01-18T21:32:39.104796Z",
     "iopub.status.idle": "2023-01-18T21:32:39.109015Z",
     "shell.execute_reply": "2023-01-18T21:32:39.108056Z"
    },
    "jupyter": {
     "outputs_hidden": false
    },
    "papermill": {
     "duration": 0.02169,
     "end_time": "2023-01-18T21:32:39.110981",
     "exception": false,
     "start_time": "2023-01-18T21:32:39.089291",
     "status": "completed"
    },
    "tags": []
   },
   "outputs": [],
   "source": [
    "# learn.unfreeze()"
   ]
  },
  {
   "cell_type": "code",
   "execution_count": 24,
   "id": "75a5f9de",
   "metadata": {
    "_cell_guid": "f3807a2d-a8b7-4fc4-8f71-57352d020fea",
    "_uuid": "25ca60f9-32c3-4d24-bd3e-1afcfda6210d",
    "collapsed": false,
    "execution": {
     "iopub.execute_input": "2023-01-18T21:32:39.142529Z",
     "iopub.status.busy": "2023-01-18T21:32:39.141008Z",
     "iopub.status.idle": "2023-01-18T21:32:39.145711Z",
     "shell.execute_reply": "2023-01-18T21:32:39.144864Z"
    },
    "jupyter": {
     "outputs_hidden": false
    },
    "papermill": {
     "duration": 0.022294,
     "end_time": "2023-01-18T21:32:39.147727",
     "exception": false,
     "start_time": "2023-01-18T21:32:39.125433",
     "status": "completed"
    },
    "tags": []
   },
   "outputs": [],
   "source": [
    "# learn.fit_one_cycle(3, 2e-2)"
   ]
  },
  {
   "cell_type": "markdown",
   "id": "f6303f07",
   "metadata": {
    "_cell_guid": "f4ecaff9-e2c4-4a10-b005-9fc9aebdd321",
    "_uuid": "2a26cdf4-62a7-48ec-9d11-98e78e7acc76",
    "papermill": {
     "duration": 0.014266,
     "end_time": "2023-01-18T21:32:39.176371",
     "exception": false,
     "start_time": "2023-01-18T21:32:39.162105",
     "status": "completed"
    },
    "tags": []
   },
   "source": [
    "Save fully tuned model."
   ]
  },
  {
   "cell_type": "code",
   "execution_count": 25,
   "id": "ebd831d0",
   "metadata": {
    "_cell_guid": "b76c9321-a1f3-4673-bb54-ab0ae86d2882",
    "_uuid": "182f2d96-cb9b-4897-bcda-af69e787b481",
    "collapsed": false,
    "execution": {
     "iopub.execute_input": "2023-01-18T21:32:39.207986Z",
     "iopub.status.busy": "2023-01-18T21:32:39.206424Z",
     "iopub.status.idle": "2023-01-18T21:32:39.211230Z",
     "shell.execute_reply": "2023-01-18T21:32:39.210270Z"
    },
    "jupyter": {
     "outputs_hidden": false
    },
    "papermill": {
     "duration": 0.022222,
     "end_time": "2023-01-18T21:32:39.213182",
     "exception": false,
     "start_time": "2023-01-18T21:32:39.190960",
     "status": "completed"
    },
    "tags": []
   },
   "outputs": [],
   "source": [
    "# learn.save_encoder('finetuned')"
   ]
  },
  {
   "cell_type": "markdown",
   "id": "3152829b",
   "metadata": {
    "_cell_guid": "7b9fe08f-89a6-442c-9d93-a1395ef14256",
    "_uuid": "8e50175b-a6d4-4883-adf4-9e5fcd1da993",
    "papermill": {
     "duration": 0.014162,
     "end_time": "2023-01-18T21:32:39.241711",
     "exception": false,
     "start_time": "2023-01-18T21:32:39.227549",
     "status": "completed"
    },
    "tags": []
   },
   "source": [
    "Text generation"
   ]
  },
  {
   "cell_type": "code",
   "execution_count": 26,
   "id": "8b627580",
   "metadata": {
    "_cell_guid": "0f9d818d-5dd4-4088-81ce-fd383b0ef4df",
    "_uuid": "3247b86a-3a52-46ca-874f-20c3b47a98c5",
    "collapsed": false,
    "execution": {
     "iopub.execute_input": "2023-01-18T21:32:39.272206Z",
     "iopub.status.busy": "2023-01-18T21:32:39.271881Z",
     "iopub.status.idle": "2023-01-18T21:32:39.276202Z",
     "shell.execute_reply": "2023-01-18T21:32:39.275198Z"
    },
    "jupyter": {
     "outputs_hidden": false
    },
    "papermill": {
     "duration": 0.021602,
     "end_time": "2023-01-18T21:32:39.278164",
     "exception": false,
     "start_time": "2023-01-18T21:32:39.256562",
     "status": "completed"
    },
    "tags": []
   },
   "outputs": [],
   "source": [
    "# TEXT = \"Let us show you how to win the sweepstakes\"\n",
    "# N_WORDS = 40\n",
    "# N_SENTENCES = 2\n",
    "# preds = [learn.predict(TEXT, N_WORDS, temperature=0.75)\n",
    "# for _ in range(N_SENTENCES)]\n",
    "# print(\"\\n\".join(preds))"
   ]
  },
  {
   "cell_type": "markdown",
   "id": "3d6c9484",
   "metadata": {
    "_cell_guid": "3a625921-a83f-494a-b87b-852caab01d4f",
    "_uuid": "73f0cb97-d7e3-4f77-8637-309568cd7be3",
    "papermill": {
     "duration": 0.014147,
     "end_time": "2023-01-18T21:32:39.306544",
     "exception": false,
     "start_time": "2023-01-18T21:32:39.292397",
     "status": "completed"
    },
    "tags": []
   },
   "source": [
    "Create DataLoaders for classification."
   ]
  },
  {
   "cell_type": "code",
   "execution_count": 27,
   "id": "fab4a91c",
   "metadata": {
    "_cell_guid": "58190c03-2e4a-4d32-bf32-6344696075ce",
    "_uuid": "b264d5a6-afdc-4ec6-b7cb-be8baacade98",
    "collapsed": false,
    "execution": {
     "iopub.execute_input": "2023-01-18T21:32:39.337562Z",
     "iopub.status.busy": "2023-01-18T21:32:39.336680Z",
     "iopub.status.idle": "2023-01-18T21:32:39.341532Z",
     "shell.execute_reply": "2023-01-18T21:32:39.340692Z"
    },
    "jupyter": {
     "outputs_hidden": false
    },
    "papermill": {
     "duration": 0.022216,
     "end_time": "2023-01-18T21:32:39.343457",
     "exception": false,
     "start_time": "2023-01-18T21:32:39.321241",
     "status": "completed"
    },
    "tags": []
   },
   "outputs": [],
   "source": [
    "# dls_cls = DataBlock(\n",
    "#             blocks=(TextBlock.from_df(text_cols=('from', 'subject', 'text'), \n",
    "#                               is_lm=False, \n",
    "#                               vocab=dls_lm.vocab), \n",
    "#             CategoryBlock),\n",
    "#             get_x=ColReader('text'),\n",
    "#             get_y=ColReader('category'), \n",
    "#             splitter=RandomSplitter(valid_pct=0.2, seed=12345)\n",
    "#             ).dataloaders(df1, bs=64)"
   ]
  },
  {
   "cell_type": "code",
   "execution_count": 28,
   "id": "e682c1ee",
   "metadata": {
    "_cell_guid": "e62244e9-7c5d-429a-9a63-674d463bd724",
    "_uuid": "40007b73-409e-46e7-aac6-8ff60a9784b8",
    "collapsed": false,
    "execution": {
     "iopub.execute_input": "2023-01-18T21:32:39.374715Z",
     "iopub.status.busy": "2023-01-18T21:32:39.373140Z",
     "iopub.status.idle": "2023-01-18T21:32:39.377872Z",
     "shell.execute_reply": "2023-01-18T21:32:39.376999Z"
    },
    "jupyter": {
     "outputs_hidden": false
    },
    "papermill": {
     "duration": 0.02216,
     "end_time": "2023-01-18T21:32:39.379890",
     "exception": false,
     "start_time": "2023-01-18T21:32:39.357730",
     "status": "completed"
    },
    "tags": []
   },
   "outputs": [],
   "source": [
    "# dls_cls.show_batch(max_n=3)"
   ]
  },
  {
   "cell_type": "markdown",
   "id": "cabf1480",
   "metadata": {
    "_cell_guid": "dbe88362-490a-4529-ae8e-2fc32811a26b",
    "_uuid": "2e7cd64b-f227-4662-8c90-41cad2a09c94",
    "papermill": {
     "duration": 0.014226,
     "end_time": "2023-01-18T21:32:39.408441",
     "exception": false,
     "start_time": "2023-01-18T21:32:39.394215",
     "status": "completed"
    },
    "tags": []
   },
   "source": [
    "Create text classification learner."
   ]
  },
  {
   "cell_type": "code",
   "execution_count": 29,
   "id": "704e7575",
   "metadata": {
    "_cell_guid": "865faf8b-914f-411d-9582-4a6b6e3cf920",
    "_uuid": "b90bc0a4-ff99-4018-b04a-44bc1fc55611",
    "collapsed": false,
    "execution": {
     "iopub.execute_input": "2023-01-18T21:32:39.440157Z",
     "iopub.status.busy": "2023-01-18T21:32:39.439306Z",
     "iopub.status.idle": "2023-01-18T21:32:39.444484Z",
     "shell.execute_reply": "2023-01-18T21:32:39.443546Z"
    },
    "jupyter": {
     "outputs_hidden": false
    },
    "papermill": {
     "duration": 0.023466,
     "end_time": "2023-01-18T21:32:39.446712",
     "exception": false,
     "start_time": "2023-01-18T21:32:39.423246",
     "status": "completed"
    },
    "tags": []
   },
   "outputs": [],
   "source": [
    "# learn = text_classifier_learner(dls_cls, \n",
    "#                                 AWD_LSTM, \n",
    "#                                 drop_mult=0.5, \n",
    "#                                 metrics=[accuracy, Precision(), Recall()])"
   ]
  },
  {
   "cell_type": "code",
   "execution_count": 30,
   "id": "b8fd8f31",
   "metadata": {
    "_cell_guid": "d7f3110d-f845-4087-be74-866515112713",
    "_uuid": "ccd781e4-6ef5-473f-8779-e53179508043",
    "collapsed": false,
    "execution": {
     "iopub.execute_input": "2023-01-18T21:32:39.478395Z",
     "iopub.status.busy": "2023-01-18T21:32:39.477629Z",
     "iopub.status.idle": "2023-01-18T21:32:39.482465Z",
     "shell.execute_reply": "2023-01-18T21:32:39.481613Z"
    },
    "jupyter": {
     "outputs_hidden": false
    },
    "papermill": {
     "duration": 0.022723,
     "end_time": "2023-01-18T21:32:39.484470",
     "exception": false,
     "start_time": "2023-01-18T21:32:39.461747",
     "status": "completed"
    },
    "tags": []
   },
   "outputs": [],
   "source": [
    "# learn = learn.load_encoder('finetuned')"
   ]
  },
  {
   "cell_type": "code",
   "execution_count": 31,
   "id": "9c196c31",
   "metadata": {
    "_cell_guid": "46e92bf6-f9bd-4f3d-9c55-a625987060f4",
    "_uuid": "4d585937-1805-490e-8668-f95efa18121d",
    "collapsed": false,
    "execution": {
     "iopub.execute_input": "2023-01-18T21:32:39.515286Z",
     "iopub.status.busy": "2023-01-18T21:32:39.514430Z",
     "iopub.status.idle": "2023-01-18T21:32:39.519053Z",
     "shell.execute_reply": "2023-01-18T21:32:39.518205Z"
    },
    "jupyter": {
     "outputs_hidden": false
    },
    "papermill": {
     "duration": 0.021788,
     "end_time": "2023-01-18T21:32:39.520790",
     "exception": false,
     "start_time": "2023-01-18T21:32:39.499002",
     "status": "completed"
    },
    "tags": []
   },
   "outputs": [],
   "source": [
    "# learn.fit_one_cycle(1, 2e-2)"
   ]
  },
  {
   "cell_type": "code",
   "execution_count": 32,
   "id": "22b0f4d6",
   "metadata": {
    "_cell_guid": "150a1628-73d4-4950-8ca0-06fd3f7bb3e7",
    "_uuid": "cc39aea0-5919-4fb5-ba2b-391e86b567a9",
    "collapsed": false,
    "execution": {
     "iopub.execute_input": "2023-01-18T21:32:39.554753Z",
     "iopub.status.busy": "2023-01-18T21:32:39.553730Z",
     "iopub.status.idle": "2023-01-18T21:32:39.558435Z",
     "shell.execute_reply": "2023-01-18T21:32:39.557587Z"
    },
    "jupyter": {
     "outputs_hidden": false
    },
    "papermill": {
     "duration": 0.022176,
     "end_time": "2023-01-18T21:32:39.560452",
     "exception": false,
     "start_time": "2023-01-18T21:32:39.538276",
     "status": "completed"
    },
    "tags": []
   },
   "outputs": [],
   "source": [
    "# learn.freeze_to(-2)"
   ]
  },
  {
   "cell_type": "code",
   "execution_count": 33,
   "id": "421f3f93",
   "metadata": {
    "_cell_guid": "04003f43-b721-4fa3-b4ad-74f5a44d47cb",
    "_uuid": "2d061ea8-d813-4b9a-bf11-fae35fba3220",
    "collapsed": false,
    "execution": {
     "iopub.execute_input": "2023-01-18T21:32:39.591026Z",
     "iopub.status.busy": "2023-01-18T21:32:39.590160Z",
     "iopub.status.idle": "2023-01-18T21:32:39.594575Z",
     "shell.execute_reply": "2023-01-18T21:32:39.593726Z"
    },
    "jupyter": {
     "outputs_hidden": false
    },
    "papermill": {
     "duration": 0.021794,
     "end_time": "2023-01-18T21:32:39.596620",
     "exception": false,
     "start_time": "2023-01-18T21:32:39.574826",
     "status": "completed"
    },
    "tags": []
   },
   "outputs": [],
   "source": [
    "# learn.fit_one_cycle(1, slice(1e-2/(2.6**4),1e-2))"
   ]
  },
  {
   "cell_type": "code",
   "execution_count": 34,
   "id": "495564c0",
   "metadata": {
    "_cell_guid": "7ebc7d80-0e0c-4990-af26-cb44bffc8647",
    "_uuid": "8945c15a-e785-4067-9931-0b4262111f8f",
    "collapsed": false,
    "execution": {
     "iopub.execute_input": "2023-01-18T21:32:39.626997Z",
     "iopub.status.busy": "2023-01-18T21:32:39.626694Z",
     "iopub.status.idle": "2023-01-18T21:32:39.630776Z",
     "shell.execute_reply": "2023-01-18T21:32:39.629745Z"
    },
    "jupyter": {
     "outputs_hidden": false
    },
    "papermill": {
     "duration": 0.021739,
     "end_time": "2023-01-18T21:32:39.632774",
     "exception": false,
     "start_time": "2023-01-18T21:32:39.611035",
     "status": "completed"
    },
    "tags": []
   },
   "outputs": [],
   "source": [
    "# learn.freeze_to(-3)\n",
    "# learn.fit_one_cycle(1, slice(5e-3/(2.6**4),5e-3))"
   ]
  },
  {
   "cell_type": "code",
   "execution_count": 35,
   "id": "0a61c6fe",
   "metadata": {
    "_cell_guid": "9291913e-1d73-4157-a8ff-a0b865b8d926",
    "_uuid": "33d98813-9dab-458d-8fed-8f4e1b2294da",
    "collapsed": false,
    "execution": {
     "iopub.execute_input": "2023-01-18T21:32:39.663145Z",
     "iopub.status.busy": "2023-01-18T21:32:39.662809Z",
     "iopub.status.idle": "2023-01-18T21:32:39.667018Z",
     "shell.execute_reply": "2023-01-18T21:32:39.666048Z"
    },
    "jupyter": {
     "outputs_hidden": false
    },
    "papermill": {
     "duration": 0.021519,
     "end_time": "2023-01-18T21:32:39.669075",
     "exception": false,
     "start_time": "2023-01-18T21:32:39.647556",
     "status": "completed"
    },
    "tags": []
   },
   "outputs": [],
   "source": [
    "# learn.unfreeze()\n",
    "# learn.fit_one_cycle(2, slice(1e-3/(2.6**4),1e-3))"
   ]
  },
  {
   "cell_type": "markdown",
   "id": "b3782b41",
   "metadata": {
    "_cell_guid": "91c3f5ce-1fe8-4802-8f9a-a04317f96952",
    "_uuid": "807234a5-be52-43fc-aa26-19d0de77e38c",
    "papermill": {
     "duration": 0.014142,
     "end_time": "2023-01-18T21:32:39.697683",
     "exception": false,
     "start_time": "2023-01-18T21:32:39.683541",
     "status": "completed"
    },
    "tags": []
   },
   "source": [
    "Plot confusion matrix."
   ]
  },
  {
   "cell_type": "code",
   "execution_count": 36,
   "id": "46483003",
   "metadata": {
    "_cell_guid": "c5535484-e6e9-4e75-811a-d17c5de56b8d",
    "_uuid": "c00bd6c0-87e6-4116-9122-103ea2dbfbc4",
    "collapsed": false,
    "execution": {
     "iopub.execute_input": "2023-01-18T21:32:39.728466Z",
     "iopub.status.busy": "2023-01-18T21:32:39.727532Z",
     "iopub.status.idle": "2023-01-18T21:32:39.731995Z",
     "shell.execute_reply": "2023-01-18T21:32:39.731062Z"
    },
    "jupyter": {
     "outputs_hidden": false
    },
    "papermill": {
     "duration": 0.021922,
     "end_time": "2023-01-18T21:32:39.733993",
     "exception": false,
     "start_time": "2023-01-18T21:32:39.712071",
     "status": "completed"
    },
    "tags": []
   },
   "outputs": [],
   "source": [
    "# interp = ClassificationInterpretation.from_learner(learn)\n",
    "# interp.plot_confusion_matrix()"
   ]
  },
  {
   "cell_type": "code",
   "execution_count": 37,
   "id": "740edba4",
   "metadata": {
    "_cell_guid": "a0185c7a-ae32-4a68-9afd-9d2a1acac351",
    "_uuid": "b28b7245-7093-4753-b265-315904ff769e",
    "collapsed": false,
    "execution": {
     "iopub.execute_input": "2023-01-18T21:32:39.765691Z",
     "iopub.status.busy": "2023-01-18T21:32:39.764112Z",
     "iopub.status.idle": "2023-01-18T21:32:39.768914Z",
     "shell.execute_reply": "2023-01-18T21:32:39.768009Z"
    },
    "jupyter": {
     "outputs_hidden": false
    },
    "papermill": {
     "duration": 0.022239,
     "end_time": "2023-01-18T21:32:39.770925",
     "exception": false,
     "start_time": "2023-01-18T21:32:39.748686",
     "status": "completed"
    },
    "tags": []
   },
   "outputs": [],
   "source": [
    "# learner.predict"
   ]
  }
 ],
 "metadata": {
  "kernelspec": {
   "display_name": "Python 3",
   "language": "python",
   "name": "python3"
  },
  "language_info": {
   "codemirror_mode": {
    "name": "ipython",
    "version": 3
   },
   "file_extension": ".py",
   "mimetype": "text/x-python",
   "name": "python",
   "nbconvert_exporter": "python",
   "pygments_lexer": "ipython3",
   "version": "3.7.12"
  },
  "papermill": {
   "default_parameters": {},
   "duration": 430.528588,
   "end_time": "2023-01-18T21:32:43.425766",
   "environment_variables": {},
   "exception": null,
   "input_path": "__notebook__.ipynb",
   "output_path": "__notebook__.ipynb",
   "parameters": {},
   "start_time": "2023-01-18T21:25:32.897178",
   "version": "2.3.4"
  }
 },
 "nbformat": 4,
 "nbformat_minor": 5
}
